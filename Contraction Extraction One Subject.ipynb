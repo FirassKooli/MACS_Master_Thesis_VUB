{
 "cells": [
  {
   "cell_type": "code",
   "execution_count": null,
   "id": "296a80dc009e713e",
   "metadata": {},
   "outputs": [],
   "source": [
    "### TODO\n",
    "# add more comments and name the steps better and clearer "
   ]
  },
  {
   "cell_type": "code",
   "execution_count": null,
   "id": "37441250891c70ee",
   "metadata": {},
   "outputs": [],
   "source": [
    "# Installation of BioSignalsNotebooks\n",
    "# %pip install biosignalsnotebooks\n",
    "# %pip install tqdm"
   ]
  },
  {
   "cell_type": "code",
   "execution_count": null,
   "id": "1e2efabe2412d086",
   "metadata": {},
   "outputs": [],
   "source": [
    "# Imports\n",
    "import os\n",
    "import pandas as pd\n",
    "import numpy as np\n",
    "import plotly.graph_objects as go\n",
    "import matplotlib.pyplot as plt\n",
    "import biosignalsnotebooks as bsnb\n",
    "from tqdm import tqdm"
   ]
  },
  {
   "cell_type": "code",
   "execution_count": null,
   "id": "e4c2a1c3ac0dd0a3",
   "metadata": {},
   "outputs": [],
   "source": [
    "# # Function to create a dataframe to store the data of every subject across all circuits \n",
    "# def subject_df_creator(subject_id):\n",
    "#     circuits_dfs_list = []\n",
    "#     output_msg=[]\n",
    "#     for circuit_number in tqdm( range(1, 51), desc=f\"Concatenating Circuit Files for Subject AB{subject_id}\"):\n",
    "#         filename = f\"5362627/AB{subject_id}/AB{subject_id}/Raw/AB{subject_id}_Circuit_0{circuit_number:02d}_raw.csv\"\n",
    "#         if not os.path.exists(filename):  # Check if the file exists\n",
    "#             output_msg.append(f\"0{circuit_number:02d}\")\n",
    "#             continue\n",
    "#         df_circuit = pd.read_csv(filename)\n",
    "#         # Dropping the Unneeded Gyroscope and Speedometer Columns \n",
    "#         df_circuit = df_circuit.drop(df_circuit.columns[0:30], axis=1)\n",
    "#         df_circuit = df_circuit.drop(df_circuit.columns[14:], axis=1)\n",
    "#         df_circuit['Subject'] = f\"AB{subject_id}\"\n",
    "#         circuits_dfs_list.append(df_circuit)\n",
    "# \n",
    "#     # Concatenate all DataFrames in the list along the rows axis\n",
    "#     merged_df = pd.concat(circuits_dfs_list, ignore_index=True)\n",
    "#     if output_msg:\n",
    "#         print(f\"{len(output_msg)} Files do not exist:\", output_msg)\n",
    "    # return merged_df"
   ]
  },
  {
   "cell_type": "code",
   "execution_count": null,
   "id": "674c2f5bcc6b8187",
   "metadata": {},
   "outputs": [],
   "source": [
    "# df_subject_156 = subject_df_creator(\"156\")\n",
    "# df_subject_185 = subject_df_creator(\"185\")\n",
    "# df_subject_186 = subject_df_creator(\"186\")\n",
    "# df_subject_188 = subject_df_creator(\"188\")\n",
    "# df_subject_189 = subject_df_creator(\"189\")\n",
    "# df_subject_190 = subject_df_creator(\"190\")\n",
    "# df_subject_191 = subject_df_creator(\"191\")\n",
    "# df_subject_192 = subject_df_creator(\"192\")\n",
    "# df_subject_193 = subject_df_creator(\"193\")\n",
    "# df_subject_194 = subject_df_creator(\"194\")"
   ]
  },
  {
   "cell_type": "code",
   "execution_count": null,
   "id": "d8b7e4c403301e",
   "metadata": {},
   "outputs": [],
   "source": [
    "# FOR TESTING ONLY: a light dataframe \n",
    "df_subject_156 = pd.read_csv(\"5362627/AB156/AB156/Raw/AB156_Circuit_001_raw.csv\")\n",
    "df_subject_156 = df_subject_156.drop(df_subject_156.columns[0:30], axis=1)\n",
    "df_subject_156 = df_subject_156.drop(df_subject_156.columns[14:], axis=1)\n",
    "df_subject_156['Subject'] = \"AB156\""
   ]
  },
  {
   "cell_type": "code",
   "execution_count": null,
   "id": "9a8d3b3105f27bcc",
   "metadata": {},
   "outputs": [],
   "source": [
    "##### Merge all subjects into 1 ? "
   ]
  },
  {
   "cell_type": "markdown",
   "id": "44146ec683a0fc26",
   "metadata": {},
   "source": [
    "# Visualisation "
   ]
  },
  {
   "cell_type": "code",
   "execution_count": null,
   "id": "3d9a4f7d3ba513e3",
   "metadata": {},
   "outputs": [],
   "source": [
    "df_subject_156\n",
    "# df_subject_156.head(10)"
   ]
  },
  {
   "cell_type": "code",
   "execution_count": null,
   "id": "2423d44728d53dbd",
   "metadata": {},
   "outputs": [],
   "source": [
    "# adding figures and traces\n",
    "fig1 = go.Figure()\n",
    "fig1.add_trace(go.Scatter(x=df_subject_156.index/1000, y=df_subject_156['Right_TA'][:30000]))\n",
    "fig1.update_layout( title=\"sEMG Signal: Sitting Vs Contraction Bursts Vs Rest\", xaxis_title=\"Time (s)\",\n",
    "                    yaxis_title=\"sEMG Activity (V)\", margin=dict(l=50, r=50, b=50, t=50, pad=4),\n",
    "                    autosize=False, width=800, height=300)\n",
    "# plotting\n",
    "fig1.show()"
   ]
  },
  {
   "cell_type": "markdown",
   "id": "e77c58d1388c023",
   "metadata": {},
   "source": [
    "## Analysis"
   ]
  },
  {
   "cell_type": "code",
   "execution_count": null,
   "id": "b5bcc96368fa6ee6",
   "metadata": {},
   "outputs": [],
   "source": [
    "# Studying mean, sigma and variance of the 14 Muscles\n",
    "df_analysis = pd.DataFrame()\n",
    "df_analysis['Muscles'] = df_subject_156.columns[:-1] # to get the muscle names\n",
    "df_analysis['Mean'] = df_subject_156.iloc[:, :-1].mean(axis=1)\n",
    "df_analysis['Std'] = df_subject_156.iloc[:, :-1].std(axis=1)\n",
    "df_analysis['Var'] = df_subject_156.iloc[:, :-1].var(axis=1)\n",
    "df_analysis"
   ]
  },
  {
   "cell_type": "code",
   "execution_count": null,
   "id": "88b8ed3bff3a2166",
   "metadata": {},
   "outputs": [],
   "source": [
    "# Saving the detected bursts for every muscle \n",
    "sr = 1000 # sample rate = 1000Hz\n",
    "sl = 35#20 # smooth level (Size of sliding window used during the moving average process) #used to be 20\n",
    "th = 5#10 # threshold (To cover activation)\n",
    "## TA\n",
    "detected_bursts_right_TA = bsnb.detect_emg_activations(emg_signal=df_subject_156['Right_TA'], sample_rate=sr, smooth_level=sl,\n",
    "                                                       threshold_level=th, time_units=True, device='CH0', plot_result= False)\n",
    "detected_bursts_left_TA  = bsnb.detect_emg_activations(emg_signal=df_subject_156['Left_TA'], sample_rate=sr, smooth_level=sl,\n",
    "                                                       threshold_level=th, time_units=True, device='CH0', plot_result= False)\n",
    "## MG\n",
    "detected_bursts_right_MG = bsnb.detect_emg_activations(emg_signal=df_subject_156['Right_MG'], sample_rate=sr, smooth_level=sl,\n",
    "                                                       threshold_level=th, time_units=True, device='CH0', plot_result= False)\n",
    "detected_bursts_left_MG  = bsnb.detect_emg_activations(emg_signal=df_subject_156['Left_MG'], sample_rate=sr, smooth_level=sl,\n",
    "                                                       threshold_level=th, time_units=True, device='CH0', plot_result= False)\n",
    "## SOL\n",
    "detected_bursts_right_SOL = bsnb.detect_emg_activations(emg_signal=df_subject_156['Right_SOL'], sample_rate=sr, smooth_level=sl,\n",
    "                                                        threshold_level=th, time_units=True, device='CH0', plot_result= False)\n",
    "detected_bursts_left_SOL  = bsnb.detect_emg_activations(emg_signal=df_subject_156['Left_SOL'], sample_rate=sr, smooth_level=sl,\n",
    "                                                        threshold_level=th, time_units=True, device='CH0', plot_result= False)\n",
    "## BF\n",
    "detected_bursts_right_BF = bsnb.detect_emg_activations(emg_signal=df_subject_156['Right_BF'], sample_rate=sr, smooth_level=sl,\n",
    "                                                       threshold_level=th, time_units=True, device='CH0', plot_result= False)\n",
    "detected_bursts_left_BF  = bsnb.detect_emg_activations(emg_signal=df_subject_156['Left_BF'], sample_rate=sr, smooth_level=sl,\n",
    "                                                       threshold_level=th, time_units=True, device='CH0', plot_result= False)\n",
    "## ST\n",
    "detected_bursts_right_ST = bsnb.detect_emg_activations(emg_signal=df_subject_156['Right_ST'], sample_rate=sr, smooth_level=sl,\n",
    "                                                       threshold_level=th, time_units=True, device='CH0', plot_result= False)\n",
    "detected_bursts_left_ST  = bsnb.detect_emg_activations(emg_signal=df_subject_156['Left_ST'], sample_rate=sr, smooth_level=sl,\n",
    "                                                       threshold_level=th, time_units=True, device='CH0', plot_result= False)\n",
    "## VL\n",
    "detected_bursts_right_VL = bsnb.detect_emg_activations(emg_signal=df_subject_156['Right_VL'], sample_rate=sr, smooth_level=sl,\n",
    "                                                       threshold_level=th, time_units=True, device='CH0', plot_result= False)\n",
    "detected_bursts_left_VL  = bsnb.detect_emg_activations(emg_signal=df_subject_156['Left_VL'], sample_rate=sr, smooth_level=sl,\n",
    "                                                       threshold_level=th, time_units=True, device='CH0', plot_result= False)\n",
    "## RF\n",
    "detected_bursts_right_RF = bsnb.detect_emg_activations(emg_signal=df_subject_156['Right_RF'], sample_rate=sr, smooth_level=sl,\n",
    "                                                       threshold_level=th, time_units=True, device='CH0', plot_result= False)\n",
    "detected_bursts_left_RF  = bsnb.detect_emg_activations(emg_signal=df_subject_156['Left_RF'], sample_rate=sr, smooth_level=sl,\n",
    "                                                       threshold_level=th, time_units=True, device='CH0', plot_result= False)"
   ]
  },
  {
   "cell_type": "code",
   "execution_count": null,
   "id": "65fd978818bdd89e",
   "metadata": {},
   "outputs": [],
   "source": [
    "# Visualising the EMG Burst Detection for the right Tibialis Anterior\n",
    "plot_duration = 40000 # time in milliseconds\n",
    "bsnb.detect_emg_activations(emg_signal = df_subject_156['Left_VL'][:plot_duration], sample_rate = 1000, smooth_level=35, threshold_level=5, time_units=True, device='CH0', plot_result= True)\n",
    "print('')"
   ]
  },
  {
   "cell_type": "code",
   "outputs": [],
   "source": [
    "bsnb.detect_emg_activations(emg_signal = df_subject_156['Left_SOL'][:plot_duration], sample_rate = 1000, smooth_level=20, threshold_level=10, time_units=True, device='CH0', plot_result= True)\n",
    "print('')"
   ],
   "metadata": {
    "collapsed": false
   },
   "id": "75bc5037ddb5d4a2",
   "execution_count": null
  },
  {
   "cell_type": "code",
   "execution_count": null,
   "id": "7cfdd96a7888118",
   "metadata": {},
   "outputs": [],
   "source": [
    "pd.DataFrame(detected_bursts_left_ST[0:3]).head().transpose()"
   ]
  },
  {
   "cell_type": "code",
   "execution_count": null,
   "id": "a4f73c254a64ba3c",
   "metadata": {},
   "outputs": [],
   "source": [
    "# Visualizing First Activations -> SEE CAPTURED WINDOW WITH RESPECT OF IDENTIFIED ACTIVATION\n",
    "duration = 8000\n",
    "shift = 2000\n",
    "number_bursts_to_plot = 1\n",
    "\n",
    "plt.rcParams[\"figure.figsize\"] = (10,5)\n",
    "fig = plt.figure()\n",
    "\n",
    "plt.plot(df_subject_156['Right_TA'][:duration], color=\"cornflowerblue\")\n",
    "for i in range(number_bursts_to_plot): # Plot first N bursts\n",
    "    plt.axvline(detected_bursts_right_TA[0][i]*1000,color='red', label=\"Detected Burst Region\") # ONSET VERTICAL LINE\n",
    "    plt.axvline(detected_bursts_right_TA[1][i]*1000,color='red') # OFFSET VERTICAL LINE\n",
    "    plt.axvline(detected_bursts_right_TA[0][i]*1000+400,color='black', label=\"Onset Window (500ms)\") # ONSET VERTICAL LINE CORRECTED (START WINDOW)\n",
    "    plt.axvline(detected_bursts_right_TA[0][i]*1000-100,color='black') # VERTICAL LINE (END WINDOW)\n",
    "\n",
    "plt.legend(loc=\"upper left\")\n",
    "# plt.xlim(shift,duration)\n",
    "plt.grid()\n",
    "plt.xlabel('Time (ms)', fontsize=10)\n",
    "plt.ylabel('sEMG Intensity (V)', fontsize=10)\n",
    "\n",
    "# plt.savefig(\"Window.png\")\n",
    "\n",
    "plt.rcParams[\"figure.figsize\"] = (10,5)\n",
    "fig = plt.figure()\n",
    "\n",
    "plt.plot(df_subject_156['Right_TA'][:duration], color=\"cornflowerblue\")\n",
    "for i in range(number_bursts_to_plot): # Plot first N bursts\n",
    "    plt.axvline(detected_bursts_right_TA[0][i]*1000,color='red', label=\"Detected Burst Region\") # ONSET VERTICAL LINE\n",
    "    plt.axvline(detected_bursts_right_TA[1][i]*1000,color='red') # OFFSET VERTICAL LINE\n",
    "    plt.axvline(detected_bursts_right_TA[0][i]*1000+250,color='black', label=\"Onset Window (500ms)\") # ONSET VERTICAL LINE CORRECTED (START WINDOW)\n",
    "    plt.axvline(detected_bursts_right_TA[0][i]*1000-50,color='black') # VERTICAL LINE (END WINDOW)\n",
    "\n",
    "plt.legend(loc=\"upper left\")\n",
    "# plt.xlim(shift,duration)\n",
    "plt.grid()\n",
    "plt.xlabel('Time (ms)', fontsize=10)\n",
    "plt.ylabel('sEMG Intensity (V)', fontsize=10)\n",
    "\n",
    "# plt.savefig(\"Window.png\")"
   ]
  },
  {
   "cell_type": "code",
   "execution_count": null,
   "id": "f99ecb5e20d3e887",
   "metadata": {},
   "outputs": [],
   "source": [
    "# adding figures and traces\n",
    "fig1 = go.Figure()\n",
    "fig1.add_trace(go.Scatter(x = df_subject_156.index/1000 , y=df_subject_156['Left_TA'][:10000]))\n",
    "\n",
    "# formatting the plot\n",
    "fig1.update_layout(autosize=True, title=\"sEMG Signal: Detected burst and corrected onset window\",\n",
    "                   xaxis_title=\"Time (s)\", yaxis_title=\"sEMG Activity (V)\", margin=dict(l=50, r=50, b=50, t=50, pad=4))\n",
    "\n",
    "fig1.add_vrect(x0=detected_bursts_right_TA[0][0], x1=detected_bursts_left_TA[1][0], row=\"all\", col=1,\n",
    "               annotation_text=\"Detected Burst\", annotation_position=\"top right\", fillcolor=\"gray\",\n",
    "               opacity=0.25, line_width=0)\n",
    "\n",
    "fig1.add_vline(x=detected_bursts_right_TA[0][0]+0.25,line_width=1.5, line_dash=\"dot\", line_color=\"red\")\n",
    "fig1.add_vline(x=detected_bursts_right_TA[0][0]-0.05,line_width=1.5, line_dash=\"dot\", line_color=\"red\",\n",
    "               annotation_text=\"Onset Window\",annotation_position=\"bottom right\")\n",
    "\n",
    "# fig1.update_xaxes(range=[7.5, 20000/1000])\n",
    "# fig1.update_yaxes(range=[-2, 2])\n",
    "fig1.update_layout(autosize=False, width=800, height=300)\n",
    "# plotting\n",
    "fig1.show()"
   ]
  },
  {
   "cell_type": "code",
   "execution_count": null,
   "id": "d3fc9b4c4fbb786b",
   "metadata": {},
   "outputs": [],
   "source": [
    "# adding figures and traces\n",
    "fig1 = go.Figure()\n",
    "fig1.add_trace(go.Scatter(x= df_subject_156.index/1000, y=df_subject_156['Right_TA']))\n",
    "# formatting the plot\n",
    "fig1.update_layout(autosize=True,\n",
    "                   title=\"sEMG Signal: Detection of Activation Bursts\", xaxis_title=\"Time (s)\",\n",
    "                   yaxis_title=\"sEMG Activity (V)\", margin=dict(l=50, r=50, b=50, t=50, pad=4))\n",
    "\n",
    "for i in range(len(detected_bursts_right_TA[0])):\n",
    "    fig1.add_vrect(x0=detected_bursts_right_TA[0][i], x1=detected_bursts_right_TA[1][i], row=\"all\", col=1,\n",
    "                   annotation_text=\"Detected Burst\", annotation_position=\"top right\",\n",
    "                   fillcolor=\"black\", opacity=0.25, line_width=0)\n",
    "\n",
    "fig1.update_xaxes(range=[0, 30])\n",
    "fig1.update_layout(autosize=False, width=800, height=300)\n",
    "# plotting\n",
    "fig1.show()"
   ]
  },
  {
   "cell_type": "code",
   "execution_count": null,
   "id": "a032b7df3f4eb563",
   "metadata": {},
   "outputs": [],
   "source": [
    "# Calculating the total number of bursts per muscle\n",
    "tot_bursts_right_TA = len(detected_bursts_right_TA[0]); tot_bursts_left_TA = len(detected_bursts_left_TA[0])\n",
    "tot_bursts_right_MG = len(detected_bursts_right_MG[0]); tot_bursts_left_MG = len(detected_bursts_left_MG[0])\n",
    "tot_bursts_right_SOL= len(detected_bursts_right_SOL[0]); tot_bursts_left_SOL= len(detected_bursts_left_SOL[0])\n",
    "tot_bursts_right_BF = len(detected_bursts_right_BF[0]); tot_bursts_left_BF = len(detected_bursts_left_BF[0])\n",
    "tot_bursts_right_ST = len(detected_bursts_right_ST[0]); tot_bursts_left_ST = len(detected_bursts_left_ST[0])\n",
    "tot_bursts_right_VL = len(detected_bursts_right_VL[0]); tot_bursts_left_VL = len(detected_bursts_left_VL[0])\n",
    "tot_bursts_right_RF = len(detected_bursts_right_RF[0]); tot_bursts_left_RF = len(detected_bursts_left_RF[0])"
   ]
  },
  {
   "cell_type": "code",
   "execution_count": null,
   "id": "9b7b1a8311630e57",
   "metadata": {},
   "outputs": [],
   "source": [
    "# Printing the total number of bursts per muscle\n",
    "print(\"- Number of Identified Bursts:\\n\",\n",
    "      \"   Right TA:\\t\", tot_bursts_right_TA, \"\\t\", \"   Left TA:\\t\", tot_bursts_left_TA,\"\\n\",\n",
    "      \"   Right MG:\\t\", tot_bursts_right_MG, \"\\t\", \"   Left MG:\\t\", tot_bursts_left_MG,\"\\n\",\n",
    "      \"   Right SOL:\\t\", tot_bursts_right_SOL, \"\\t\", \"   Left SOL:\\t\", tot_bursts_left_SOL,\"\\n\",\n",
    "      \"   Right BF:\\t\", tot_bursts_right_BF, \"\\t\", \"   Left BF:\\t\", tot_bursts_left_BF,\"\\n\",\n",
    "      \"   Right ST:\\t\", tot_bursts_right_ST, \"\\t\", \"   Left ST:\\t\", tot_bursts_left_ST,\"\\n\",\n",
    "      \"   Right VL:\\t\", tot_bursts_right_VL, \"\\t\", \"   Left VL:\\t\", tot_bursts_left_VL,\"\\n\",\n",
    "      \"   Right RF:\\t\", tot_bursts_right_RF, \"\\t\", \"   Left RF:\\t\", tot_bursts_left_RF,\"\\n\")"
   ]
  },
  {
   "cell_type": "code",
   "execution_count": null,
   "id": "f2c95fa3ef72d707",
   "metadata": {},
   "outputs": [],
   "source": [
    "# Calculating average burst length per muscle\n",
    "## TA\n",
    "average_burst_length_right_TA = np.mean(np.array(detected_bursts_right_TA[1])-np.array(detected_bursts_right_TA[0]))*1000\n",
    "average_burst_length_left_TA = np.mean(np.array(detected_bursts_left_TA[1])-np.array(detected_bursts_left_TA[0]))*1000\n",
    "## MG\n",
    "average_burst_length_right_MG = np.mean(np.array(detected_bursts_right_MG[1])-np.array(detected_bursts_right_MG[0]))*1000\n",
    "average_burst_length_left_MG = np.mean(np.array(detected_bursts_left_MG[1])-np.array(detected_bursts_left_MG[0]))*1000\n",
    "## SOL\n",
    "average_burst_length_right_SOL = np.mean(np.array(detected_bursts_right_SOL[1])-np.array(detected_bursts_right_SOL[0]))*1000\n",
    "average_burst_length_left_SOL = np.mean(np.array(detected_bursts_left_SOL[1])-np.array(detected_bursts_left_SOL[0]))*1000\n",
    "## BF\n",
    "average_burst_length_right_BF = np.mean(np.array(detected_bursts_right_BF[1])-np.array(detected_bursts_right_BF[0]))*1000\n",
    "average_burst_length_left_BF = np.mean(np.array(detected_bursts_left_BF[1])-np.array(detected_bursts_left_BF[0]))*1000\n",
    "## ST\n",
    "average_burst_length_right_ST = np.mean(np.array(detected_bursts_right_ST[1])-np.array(detected_bursts_right_ST[0]))*1000\n",
    "average_burst_length_left_ST = np.mean(np.array(detected_bursts_left_ST[1])-np.array(detected_bursts_left_ST[0]))*1000\n",
    "## VL\n",
    "average_burst_length_right_VL = np.mean(np.array(detected_bursts_right_VL[1])-np.array(detected_bursts_right_VL[0]))*1000\n",
    "average_burst_length_left_VL = np.mean(np.array(detected_bursts_left_VL[1])-np.array(detected_bursts_left_VL[0]))*1000\n",
    "## RF\n",
    "average_burst_length_right_RF = np.mean(np.array(detected_bursts_right_RF[1])-np.array(detected_bursts_right_RF[0]))*1000\n",
    "average_burst_length_left_RF = np.mean(np.array(detected_bursts_left_RF[1])-np.array(detected_bursts_left_RF[0]))*1000"
   ]
  },
  {
   "cell_type": "code",
   "execution_count": null,
   "id": "5c40e20fa50d303e",
   "metadata": {},
   "outputs": [],
   "source": [
    "# Printing average burst length per muscle\n",
    "print(\"- Avg. Length:\\n\",\n",
    "      \"   Right TA:\\t\", round(average_burst_length_right_TA,2), \"ms\" , \"\\t\", \"   Left TA:\\t\", round(average_burst_length_left_TA,2),\"ms\", \"\\n\",\n",
    "      \"   Right MG:\\t\", round(average_burst_length_right_MG, 2), \"ms\" , \"\\t\", \"   Left MG:\\t\", round(average_burst_length_left_MG, 2), \"ms\", \"\\n\",\n",
    "      \"   Right SOL:\\t\", round(average_burst_length_right_SOL, 2), \"ms\" , \"\\t\", \"   Left SOL:\\t\", round(average_burst_length_left_SOL, 2), \"ms\", \"\\n\",\n",
    "      \"   Right BF:\\t\", round(average_burst_length_right_BF, 2), \"ms\" , \"\\t\", \"   Left BF:\\t\", round(average_burst_length_left_BF, 2), \"ms\", \"\\n\",\n",
    "      \"   Right ST:\\t\", round(average_burst_length_right_ST, 2), \"ms\" , \"\\t\", \"   Left ST:\\t\", round(average_burst_length_left_ST, 2), \"ms\", \"\\n\",\n",
    "      \"   Right VL:\\t\", round(average_burst_length_right_VL, 2), \"ms\" , \"\\t\", \"   Left VL:\\t\", round(average_burst_length_left_VL, 2), \"ms\", \"\\n\",\n",
    "      \"   Right RF:\\t\", round(average_burst_length_right_RF, 2), \"ms\" , \"\\t\", \"   Left RF:\\t\", round(average_burst_length_left_RF, 2), \"ms\", \"\\n\")"
   ]
  },
  {
   "cell_type": "code",
   "execution_count": null,
   "id": "f9fb88282add1750",
   "metadata": {},
   "outputs": [],
   "source": [
    "# Histogram\n",
    "f,a = plt.subplots(7,2)\n",
    "f.set_size_inches(13,30)\n",
    "a = a.ravel()\n",
    "\n",
    "muscles = ['Right Tibialis Ant.', 'Left Tibialis Ant.', 'Right MG', 'Left MG', 'Right SOL', 'Left SOL', 'Right BF', 'Left BF', 'Right ST', 'Left ST', 'Right VL', 'Left VL', 'Right RF', 'Left RF']\n",
    "burst_data = [\n",
    "    detected_bursts_right_TA, detected_bursts_left_TA,\n",
    "    detected_bursts_right_MG, detected_bursts_left_MG,\n",
    "    detected_bursts_right_SOL, detected_bursts_left_SOL,\n",
    "    detected_bursts_right_BF, detected_bursts_left_BF,\n",
    "    detected_bursts_right_ST, detected_bursts_left_ST,\n",
    "    detected_bursts_right_VL, detected_bursts_left_VL,\n",
    "    detected_bursts_right_RF, detected_bursts_left_RF]\n",
    "\n",
    "for i in range(len(muscles)):\n",
    "    a[i].hist(np.array(burst_data[i][1])-np.array(burst_data[i][0]), bins=40, alpha=0.5, label='test_subject')\n",
    "    a[i].legend(loc='upper right')\n",
    "    a[i].set_xlabel(\"Burst Duration (seconds)\")\n",
    "    a[i].set_ylabel(\"Occurrences\")\n",
    "    a[i].set_title('Histogram Burst Duration: ' + muscles[i])\n",
    "\n",
    "plt.tight_layout()\n",
    "plt.show()"
   ]
  }
 ],
 "metadata": {
  "kernelspec": {
   "display_name": "Python 3 (ipykernel)",
   "language": "python",
   "name": "python3"
  },
  "language_info": {
   "codemirror_mode": {
    "name": "ipython",
    "version": 3
   },
   "file_extension": ".py",
   "mimetype": "text/x-python",
   "name": "python",
   "nbconvert_exporter": "python",
   "pygments_lexer": "ipython3",
   "version": "3.11.5"
  }
 },
 "nbformat": 4,
 "nbformat_minor": 5
}
