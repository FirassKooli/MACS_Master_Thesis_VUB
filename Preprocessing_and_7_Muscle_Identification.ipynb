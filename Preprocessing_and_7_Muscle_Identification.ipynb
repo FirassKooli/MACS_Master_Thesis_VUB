{
 "cells": [
  {
   "cell_type": "markdown",
   "source": "# 7 MUSCLES CLASSIFICATION WITH (INTRA+INTER)PERSONAL VALIDATION",
   "metadata": {
    "collapsed": false
   },
   "id": "9a6d23e0d0743caa"
  },
  {
   "cell_type": "code",
   "id": "37441250891c70ee",
   "metadata": {
    "ExecuteTime": {
     "end_time": "2024-06-09T09:19:10.833546Z",
     "start_time": "2024-06-09T09:19:10.826142Z"
    }
   },
   "source": [
    "# Installation of BioSignalsNotebooks\n",
    "# %pip install biosignalsnotebooks"
   ],
   "outputs": [],
   "execution_count": 1
  },
  {
   "cell_type": "code",
   "id": "1e2efabe2412d086",
   "metadata": {
    "ExecuteTime": {
     "end_time": "2024-06-09T09:19:33.039271Z",
     "start_time": "2024-06-09T09:19:10.835556Z"
    }
   },
   "source": [
    "# Imports\n",
    "import os\n",
    "import glob\n",
    "import shutil\n",
    "import pickle\n",
    "import numpy as np\n",
    "import pandas as pd\n",
    "from tabulate import tabulate\n",
    "from tqdm.notebook import tqdm\n",
    "import matplotlib.pyplot as plt\n",
    "import biosignalsnotebooks as bsnb\n",
    "import plotly.graph_objects as go\n",
    "\n",
    "# Tensorflow Model\n",
    "import tensorflow as tf\n",
    "from functools import reduce\n",
    "from tensorflow.keras.models import Sequential, load_model\n",
    "from tensorflow.keras.layers import InputLayer, Conv1D, LeakyReLU, MaxPooling1D, LSTM, GlobalAveragePooling1D, Dense, Dropout, Reshape\n",
    "from tensorflow.keras.optimizers import Adam\n",
    "from tensorflow.keras.callbacks import ModelCheckpoint, ReduceLROnPlateau\n",
    "from tensorflow.keras.losses import categorical_crossentropy\n",
    "\n",
    "# Weight and Biases\n",
    "import wandb\n",
    "from wandb.keras import WandbMetricsLogger\n",
    "\n",
    "# Model Metrics\n",
    "import seaborn as sn\n",
    "from sklearn.metrics import f1_score\n",
    "from sklearn.metrics import confusion_matrix\n",
    "from sklearn.metrics import precision_recall_fscore_support as score"
   ],
   "outputs": [
    {
     "data": {
      "application/javascript": "(function(root) {\n  function now() {\n    return new Date();\n  }\n\n  const force = true;\n\n  if (typeof root._bokeh_onload_callbacks === \"undefined\" || force === true) {\n    root._bokeh_onload_callbacks = [];\n    root._bokeh_is_loading = undefined;\n  }\n\nconst JS_MIME_TYPE = 'application/javascript';\n  const HTML_MIME_TYPE = 'text/html';\n  const EXEC_MIME_TYPE = 'application/vnd.bokehjs_exec.v0+json';\n  const CLASS_NAME = 'output_bokeh rendered_html';\n\n  /**\n   * Render data to the DOM node\n   */\n  function render(props, node) {\n    const script = document.createElement(\"script\");\n    node.appendChild(script);\n  }\n\n  /**\n   * Handle when an output is cleared or removed\n   */\n  function handleClearOutput(event, handle) {\n    const cell = handle.cell;\n\n    const id = cell.output_area._bokeh_element_id;\n    const server_id = cell.output_area._bokeh_server_id;\n    // Clean up Bokeh references\n    if (id != null && id in Bokeh.index) {\n      Bokeh.index[id].model.document.clear();\n      delete Bokeh.index[id];\n    }\n\n    if (server_id !== undefined) {\n      // Clean up Bokeh references\n      const cmd_clean = \"from bokeh.io.state import curstate; print(curstate().uuid_to_server['\" + server_id + \"'].get_sessions()[0].document.roots[0]._id)\";\n      cell.notebook.kernel.execute(cmd_clean, {\n        iopub: {\n          output: function(msg) {\n            const id = msg.content.text.trim();\n            if (id in Bokeh.index) {\n              Bokeh.index[id].model.document.clear();\n              delete Bokeh.index[id];\n            }\n          }\n        }\n      });\n      // Destroy server and session\n      const cmd_destroy = \"import bokeh.io.notebook as ion; ion.destroy_server('\" + server_id + \"')\";\n      cell.notebook.kernel.execute(cmd_destroy);\n    }\n  }\n\n  /**\n   * Handle when a new output is added\n   */\n  function handleAddOutput(event, handle) {\n    const output_area = handle.output_area;\n    const output = handle.output;\n\n    // limit handleAddOutput to display_data with EXEC_MIME_TYPE content only\n    if ((output.output_type != \"display_data\") || (!Object.prototype.hasOwnProperty.call(output.data, EXEC_MIME_TYPE))) {\n      return\n    }\n\n    const toinsert = output_area.element.find(\".\" + CLASS_NAME.split(' ')[0]);\n\n    if (output.metadata[EXEC_MIME_TYPE][\"id\"] !== undefined) {\n      toinsert[toinsert.length - 1].firstChild.textContent = output.data[JS_MIME_TYPE];\n      // store reference to embed id on output_area\n      output_area._bokeh_element_id = output.metadata[EXEC_MIME_TYPE][\"id\"];\n    }\n    if (output.metadata[EXEC_MIME_TYPE][\"server_id\"] !== undefined) {\n      const bk_div = document.createElement(\"div\");\n      bk_div.innerHTML = output.data[HTML_MIME_TYPE];\n      const script_attrs = bk_div.children[0].attributes;\n      for (let i = 0; i < script_attrs.length; i++) {\n        toinsert[toinsert.length - 1].firstChild.setAttribute(script_attrs[i].name, script_attrs[i].value);\n        toinsert[toinsert.length - 1].firstChild.textContent = bk_div.children[0].textContent\n      }\n      // store reference to server id on output_area\n      output_area._bokeh_server_id = output.metadata[EXEC_MIME_TYPE][\"server_id\"];\n    }\n  }\n\n  function register_renderer(events, OutputArea) {\n\n    function append_mime(data, metadata, element) {\n      // create a DOM node to render to\n      const toinsert = this.create_output_subarea(\n        metadata,\n        CLASS_NAME,\n        EXEC_MIME_TYPE\n      );\n      this.keyboard_manager.register_events(toinsert);\n      // Render to node\n      const props = {data: data, metadata: metadata[EXEC_MIME_TYPE]};\n      render(props, toinsert[toinsert.length - 1]);\n      element.append(toinsert);\n      return toinsert\n    }\n\n    /* Handle when an output is cleared or removed */\n    events.on('clear_output.CodeCell', handleClearOutput);\n    events.on('delete.Cell', handleClearOutput);\n\n    /* Handle when a new output is added */\n    events.on('output_added.OutputArea', handleAddOutput);\n\n    /**\n     * Register the mime type and append_mime function with output_area\n     */\n    OutputArea.prototype.register_mime_type(EXEC_MIME_TYPE, append_mime, {\n      /* Is output safe? */\n      safe: true,\n      /* Index of renderer in `output_area.display_order` */\n      index: 0\n    });\n  }\n\n  // register the mime type if in Jupyter Notebook environment and previously unregistered\n  if (root.Jupyter !== undefined) {\n    const events = require('base/js/events');\n    const OutputArea = require('notebook/js/outputarea').OutputArea;\n\n    if (OutputArea.prototype.mime_types().indexOf(EXEC_MIME_TYPE) == -1) {\n      register_renderer(events, OutputArea);\n    }\n  }\n  if (typeof (root._bokeh_timeout) === \"undefined\" || force === true) {\n    root._bokeh_timeout = Date.now() + 5000;\n    root._bokeh_failed_load = false;\n  }\n\n  const NB_LOAD_WARNING = {'data': {'text/html':\n     \"<div style='background-color: #fdd'>\\n\"+\n     \"<p>\\n\"+\n     \"BokehJS does not appear to have successfully loaded. If loading BokehJS from CDN, this \\n\"+\n     \"may be due to a slow or bad network connection. Possible fixes:\\n\"+\n     \"</p>\\n\"+\n     \"<ul>\\n\"+\n     \"<li>re-rerun `output_notebook()` to attempt to load from CDN again, or</li>\\n\"+\n     \"<li>use INLINE resources instead, as so:</li>\\n\"+\n     \"</ul>\\n\"+\n     \"<code>\\n\"+\n     \"from bokeh.resources import INLINE\\n\"+\n     \"output_notebook(resources=INLINE)\\n\"+\n     \"</code>\\n\"+\n     \"</div>\"}};\n\n  function display_loaded() {\n    const el = document.getElementById(null);\n    if (el != null) {\n      el.textContent = \"BokehJS is loading...\";\n    }\n    if (root.Bokeh !== undefined) {\n      if (el != null) {\n        el.textContent = \"BokehJS \" + root.Bokeh.version + \" successfully loaded.\";\n      }\n    } else if (Date.now() < root._bokeh_timeout) {\n      setTimeout(display_loaded, 100)\n    }\n  }\n\n  function run_callbacks() {\n    try {\n      root._bokeh_onload_callbacks.forEach(function(callback) {\n        if (callback != null)\n          callback();\n      });\n    } finally {\n      delete root._bokeh_onload_callbacks\n    }\n    console.debug(\"Bokeh: all callbacks have finished\");\n  }\n\n  function load_libs(css_urls, js_urls, callback) {\n    if (css_urls == null) css_urls = [];\n    if (js_urls == null) js_urls = [];\n\n    root._bokeh_onload_callbacks.push(callback);\n    if (root._bokeh_is_loading > 0) {\n      console.debug(\"Bokeh: BokehJS is being loaded, scheduling callback at\", now());\n      return null;\n    }\n    if (js_urls == null || js_urls.length === 0) {\n      run_callbacks();\n      return null;\n    }\n    console.debug(\"Bokeh: BokehJS not loaded, scheduling load and callback at\", now());\n    root._bokeh_is_loading = css_urls.length + js_urls.length;\n\n    function on_load() {\n      root._bokeh_is_loading--;\n      if (root._bokeh_is_loading === 0) {\n        console.debug(\"Bokeh: all BokehJS libraries/stylesheets loaded\");\n        run_callbacks()\n      }\n    }\n\n    function on_error(url) {\n      console.error(\"failed to load \" + url);\n    }\n\n    for (let i = 0; i < css_urls.length; i++) {\n      const url = css_urls[i];\n      const element = document.createElement(\"link\");\n      element.onload = on_load;\n      element.onerror = on_error.bind(null, url);\n      element.rel = \"stylesheet\";\n      element.type = \"text/css\";\n      element.href = url;\n      console.debug(\"Bokeh: injecting link tag for BokehJS stylesheet: \", url);\n      document.body.appendChild(element);\n    }\n\n    for (let i = 0; i < js_urls.length; i++) {\n      const url = js_urls[i];\n      const element = document.createElement('script');\n      element.onload = on_load;\n      element.onerror = on_error.bind(null, url);\n      element.async = false;\n      element.src = url;\n      console.debug(\"Bokeh: injecting script tag for BokehJS library: \", url);\n      document.head.appendChild(element);\n    }\n  };\n\n  function inject_raw_css(css) {\n    const element = document.createElement(\"style\");\n    element.appendChild(document.createTextNode(css));\n    document.body.appendChild(element);\n  }\n\n  const js_urls = [\"https://cdn.bokeh.org/bokeh/release/bokeh-2.4.3.min.js\", \"https://cdn.bokeh.org/bokeh/release/bokeh-gl-2.4.3.min.js\", \"https://cdn.bokeh.org/bokeh/release/bokeh-widgets-2.4.3.min.js\", \"https://cdn.bokeh.org/bokeh/release/bokeh-tables-2.4.3.min.js\", \"https://cdn.bokeh.org/bokeh/release/bokeh-mathjax-2.4.3.min.js\"];\n  const css_urls = [];\n\n  const inline_js = [    function(Bokeh) {\n      Bokeh.set_log_level(\"info\");\n    },\nfunction(Bokeh) {\n    }\n  ];\n\n  function run_inline_js() {\n    if (root.Bokeh !== undefined || force === true) {\n          for (let i = 0; i < inline_js.length; i++) {\n      inline_js[i].call(root, root.Bokeh);\n    }\n} else if (Date.now() < root._bokeh_timeout) {\n      setTimeout(run_inline_js, 100);\n    } else if (!root._bokeh_failed_load) {\n      console.log(\"Bokeh: BokehJS failed to load within specified timeout.\");\n      root._bokeh_failed_load = true;\n    } else if (force !== true) {\n      const cell = $(document.getElementById(null)).parents('.cell').data().cell;\n      cell.output_area.append_execute_result(NB_LOAD_WARNING)\n    }\n  }\n\n  if (root._bokeh_is_loading === 0) {\n    console.debug(\"Bokeh: BokehJS loaded, going straight to plotting\");\n    run_inline_js();\n  } else {\n    load_libs(css_urls, js_urls, function() {\n      console.debug(\"Bokeh: BokehJS plotting callback run at\", now());\n      run_inline_js();\n    });\n  }\n}(window));",
      "application/vnd.bokehjs_load.v0+json": "(function(root) {\n  function now() {\n    return new Date();\n  }\n\n  const force = true;\n\n  if (typeof root._bokeh_onload_callbacks === \"undefined\" || force === true) {\n    root._bokeh_onload_callbacks = [];\n    root._bokeh_is_loading = undefined;\n  }\n\n\n  if (typeof (root._bokeh_timeout) === \"undefined\" || force === true) {\n    root._bokeh_timeout = Date.now() + 5000;\n    root._bokeh_failed_load = false;\n  }\n\n  const NB_LOAD_WARNING = {'data': {'text/html':\n     \"<div style='background-color: #fdd'>\\n\"+\n     \"<p>\\n\"+\n     \"BokehJS does not appear to have successfully loaded. If loading BokehJS from CDN, this \\n\"+\n     \"may be due to a slow or bad network connection. Possible fixes:\\n\"+\n     \"</p>\\n\"+\n     \"<ul>\\n\"+\n     \"<li>re-rerun `output_notebook()` to attempt to load from CDN again, or</li>\\n\"+\n     \"<li>use INLINE resources instead, as so:</li>\\n\"+\n     \"</ul>\\n\"+\n     \"<code>\\n\"+\n     \"from bokeh.resources import INLINE\\n\"+\n     \"output_notebook(resources=INLINE)\\n\"+\n     \"</code>\\n\"+\n     \"</div>\"}};\n\n  function display_loaded() {\n    const el = document.getElementById(null);\n    if (el != null) {\n      el.textContent = \"BokehJS is loading...\";\n    }\n    if (root.Bokeh !== undefined) {\n      if (el != null) {\n        el.textContent = \"BokehJS \" + root.Bokeh.version + \" successfully loaded.\";\n      }\n    } else if (Date.now() < root._bokeh_timeout) {\n      setTimeout(display_loaded, 100)\n    }\n  }\n\n  function run_callbacks() {\n    try {\n      root._bokeh_onload_callbacks.forEach(function(callback) {\n        if (callback != null)\n          callback();\n      });\n    } finally {\n      delete root._bokeh_onload_callbacks\n    }\n    console.debug(\"Bokeh: all callbacks have finished\");\n  }\n\n  function load_libs(css_urls, js_urls, callback) {\n    if (css_urls == null) css_urls = [];\n    if (js_urls == null) js_urls = [];\n\n    root._bokeh_onload_callbacks.push(callback);\n    if (root._bokeh_is_loading > 0) {\n      console.debug(\"Bokeh: BokehJS is being loaded, scheduling callback at\", now());\n      return null;\n    }\n    if (js_urls == null || js_urls.length === 0) {\n      run_callbacks();\n      return null;\n    }\n    console.debug(\"Bokeh: BokehJS not loaded, scheduling load and callback at\", now());\n    root._bokeh_is_loading = css_urls.length + js_urls.length;\n\n    function on_load() {\n      root._bokeh_is_loading--;\n      if (root._bokeh_is_loading === 0) {\n        console.debug(\"Bokeh: all BokehJS libraries/stylesheets loaded\");\n        run_callbacks()\n      }\n    }\n\n    function on_error(url) {\n      console.error(\"failed to load \" + url);\n    }\n\n    for (let i = 0; i < css_urls.length; i++) {\n      const url = css_urls[i];\n      const element = document.createElement(\"link\");\n      element.onload = on_load;\n      element.onerror = on_error.bind(null, url);\n      element.rel = \"stylesheet\";\n      element.type = \"text/css\";\n      element.href = url;\n      console.debug(\"Bokeh: injecting link tag for BokehJS stylesheet: \", url);\n      document.body.appendChild(element);\n    }\n\n    for (let i = 0; i < js_urls.length; i++) {\n      const url = js_urls[i];\n      const element = document.createElement('script');\n      element.onload = on_load;\n      element.onerror = on_error.bind(null, url);\n      element.async = false;\n      element.src = url;\n      console.debug(\"Bokeh: injecting script tag for BokehJS library: \", url);\n      document.head.appendChild(element);\n    }\n  };\n\n  function inject_raw_css(css) {\n    const element = document.createElement(\"style\");\n    element.appendChild(document.createTextNode(css));\n    document.body.appendChild(element);\n  }\n\n  const js_urls = [\"https://cdn.bokeh.org/bokeh/release/bokeh-2.4.3.min.js\", \"https://cdn.bokeh.org/bokeh/release/bokeh-gl-2.4.3.min.js\", \"https://cdn.bokeh.org/bokeh/release/bokeh-widgets-2.4.3.min.js\", \"https://cdn.bokeh.org/bokeh/release/bokeh-tables-2.4.3.min.js\", \"https://cdn.bokeh.org/bokeh/release/bokeh-mathjax-2.4.3.min.js\"];\n  const css_urls = [];\n\n  const inline_js = [    function(Bokeh) {\n      Bokeh.set_log_level(\"info\");\n    },\nfunction(Bokeh) {\n    }\n  ];\n\n  function run_inline_js() {\n    if (root.Bokeh !== undefined || force === true) {\n          for (let i = 0; i < inline_js.length; i++) {\n      inline_js[i].call(root, root.Bokeh);\n    }\n} else if (Date.now() < root._bokeh_timeout) {\n      setTimeout(run_inline_js, 100);\n    } else if (!root._bokeh_failed_load) {\n      console.log(\"Bokeh: BokehJS failed to load within specified timeout.\");\n      root._bokeh_failed_load = true;\n    } else if (force !== true) {\n      const cell = $(document.getElementById(null)).parents('.cell').data().cell;\n      cell.output_area.append_execute_result(NB_LOAD_WARNING)\n    }\n  }\n\n  if (root._bokeh_is_loading === 0) {\n    console.debug(\"Bokeh: BokehJS loaded, going straight to plotting\");\n    run_inline_js();\n  } else {\n    load_libs(css_urls, js_urls, function() {\n      console.debug(\"Bokeh: BokehJS plotting callback run at\", now());\n      run_inline_js();\n    });\n  }\n}(window));"
     },
     "metadata": {},
     "output_type": "display_data"
    },
    {
     "data": {
      "application/javascript": "(function(root) {\n  function now() {\n    return new Date();\n  }\n\n  const force = true;\n\n  if (typeof root._bokeh_onload_callbacks === \"undefined\" || force === true) {\n    root._bokeh_onload_callbacks = [];\n    root._bokeh_is_loading = undefined;\n  }\n\nconst JS_MIME_TYPE = 'application/javascript';\n  const HTML_MIME_TYPE = 'text/html';\n  const EXEC_MIME_TYPE = 'application/vnd.bokehjs_exec.v0+json';\n  const CLASS_NAME = 'output_bokeh rendered_html';\n\n  /**\n   * Render data to the DOM node\n   */\n  function render(props, node) {\n    const script = document.createElement(\"script\");\n    node.appendChild(script);\n  }\n\n  /**\n   * Handle when an output is cleared or removed\n   */\n  function handleClearOutput(event, handle) {\n    const cell = handle.cell;\n\n    const id = cell.output_area._bokeh_element_id;\n    const server_id = cell.output_area._bokeh_server_id;\n    // Clean up Bokeh references\n    if (id != null && id in Bokeh.index) {\n      Bokeh.index[id].model.document.clear();\n      delete Bokeh.index[id];\n    }\n\n    if (server_id !== undefined) {\n      // Clean up Bokeh references\n      const cmd_clean = \"from bokeh.io.state import curstate; print(curstate().uuid_to_server['\" + server_id + \"'].get_sessions()[0].document.roots[0]._id)\";\n      cell.notebook.kernel.execute(cmd_clean, {\n        iopub: {\n          output: function(msg) {\n            const id = msg.content.text.trim();\n            if (id in Bokeh.index) {\n              Bokeh.index[id].model.document.clear();\n              delete Bokeh.index[id];\n            }\n          }\n        }\n      });\n      // Destroy server and session\n      const cmd_destroy = \"import bokeh.io.notebook as ion; ion.destroy_server('\" + server_id + \"')\";\n      cell.notebook.kernel.execute(cmd_destroy);\n    }\n  }\n\n  /**\n   * Handle when a new output is added\n   */\n  function handleAddOutput(event, handle) {\n    const output_area = handle.output_area;\n    const output = handle.output;\n\n    // limit handleAddOutput to display_data with EXEC_MIME_TYPE content only\n    if ((output.output_type != \"display_data\") || (!Object.prototype.hasOwnProperty.call(output.data, EXEC_MIME_TYPE))) {\n      return\n    }\n\n    const toinsert = output_area.element.find(\".\" + CLASS_NAME.split(' ')[0]);\n\n    if (output.metadata[EXEC_MIME_TYPE][\"id\"] !== undefined) {\n      toinsert[toinsert.length - 1].firstChild.textContent = output.data[JS_MIME_TYPE];\n      // store reference to embed id on output_area\n      output_area._bokeh_element_id = output.metadata[EXEC_MIME_TYPE][\"id\"];\n    }\n    if (output.metadata[EXEC_MIME_TYPE][\"server_id\"] !== undefined) {\n      const bk_div = document.createElement(\"div\");\n      bk_div.innerHTML = output.data[HTML_MIME_TYPE];\n      const script_attrs = bk_div.children[0].attributes;\n      for (let i = 0; i < script_attrs.length; i++) {\n        toinsert[toinsert.length - 1].firstChild.setAttribute(script_attrs[i].name, script_attrs[i].value);\n        toinsert[toinsert.length - 1].firstChild.textContent = bk_div.children[0].textContent\n      }\n      // store reference to server id on output_area\n      output_area._bokeh_server_id = output.metadata[EXEC_MIME_TYPE][\"server_id\"];\n    }\n  }\n\n  function register_renderer(events, OutputArea) {\n\n    function append_mime(data, metadata, element) {\n      // create a DOM node to render to\n      const toinsert = this.create_output_subarea(\n        metadata,\n        CLASS_NAME,\n        EXEC_MIME_TYPE\n      );\n      this.keyboard_manager.register_events(toinsert);\n      // Render to node\n      const props = {data: data, metadata: metadata[EXEC_MIME_TYPE]};\n      render(props, toinsert[toinsert.length - 1]);\n      element.append(toinsert);\n      return toinsert\n    }\n\n    /* Handle when an output is cleared or removed */\n    events.on('clear_output.CodeCell', handleClearOutput);\n    events.on('delete.Cell', handleClearOutput);\n\n    /* Handle when a new output is added */\n    events.on('output_added.OutputArea', handleAddOutput);\n\n    /**\n     * Register the mime type and append_mime function with output_area\n     */\n    OutputArea.prototype.register_mime_type(EXEC_MIME_TYPE, append_mime, {\n      /* Is output safe? */\n      safe: true,\n      /* Index of renderer in `output_area.display_order` */\n      index: 0\n    });\n  }\n\n  // register the mime type if in Jupyter Notebook environment and previously unregistered\n  if (root.Jupyter !== undefined) {\n    const events = require('base/js/events');\n    const OutputArea = require('notebook/js/outputarea').OutputArea;\n\n    if (OutputArea.prototype.mime_types().indexOf(EXEC_MIME_TYPE) == -1) {\n      register_renderer(events, OutputArea);\n    }\n  }\n  if (typeof (root._bokeh_timeout) === \"undefined\" || force === true) {\n    root._bokeh_timeout = Date.now() + 5000;\n    root._bokeh_failed_load = false;\n  }\n\n  const NB_LOAD_WARNING = {'data': {'text/html':\n     \"<div style='background-color: #fdd'>\\n\"+\n     \"<p>\\n\"+\n     \"BokehJS does not appear to have successfully loaded. If loading BokehJS from CDN, this \\n\"+\n     \"may be due to a slow or bad network connection. Possible fixes:\\n\"+\n     \"</p>\\n\"+\n     \"<ul>\\n\"+\n     \"<li>re-rerun `output_notebook()` to attempt to load from CDN again, or</li>\\n\"+\n     \"<li>use INLINE resources instead, as so:</li>\\n\"+\n     \"</ul>\\n\"+\n     \"<code>\\n\"+\n     \"from bokeh.resources import INLINE\\n\"+\n     \"output_notebook(resources=INLINE)\\n\"+\n     \"</code>\\n\"+\n     \"</div>\"}};\n\n  function display_loaded() {\n    const el = document.getElementById(null);\n    if (el != null) {\n      el.textContent = \"BokehJS is loading...\";\n    }\n    if (root.Bokeh !== undefined) {\n      if (el != null) {\n        el.textContent = \"BokehJS \" + root.Bokeh.version + \" successfully loaded.\";\n      }\n    } else if (Date.now() < root._bokeh_timeout) {\n      setTimeout(display_loaded, 100)\n    }\n  }\n\n  function run_callbacks() {\n    try {\n      root._bokeh_onload_callbacks.forEach(function(callback) {\n        if (callback != null)\n          callback();\n      });\n    } finally {\n      delete root._bokeh_onload_callbacks\n    }\n    console.debug(\"Bokeh: all callbacks have finished\");\n  }\n\n  function load_libs(css_urls, js_urls, callback) {\n    if (css_urls == null) css_urls = [];\n    if (js_urls == null) js_urls = [];\n\n    root._bokeh_onload_callbacks.push(callback);\n    if (root._bokeh_is_loading > 0) {\n      console.debug(\"Bokeh: BokehJS is being loaded, scheduling callback at\", now());\n      return null;\n    }\n    if (js_urls == null || js_urls.length === 0) {\n      run_callbacks();\n      return null;\n    }\n    console.debug(\"Bokeh: BokehJS not loaded, scheduling load and callback at\", now());\n    root._bokeh_is_loading = css_urls.length + js_urls.length;\n\n    function on_load() {\n      root._bokeh_is_loading--;\n      if (root._bokeh_is_loading === 0) {\n        console.debug(\"Bokeh: all BokehJS libraries/stylesheets loaded\");\n        run_callbacks()\n      }\n    }\n\n    function on_error(url) {\n      console.error(\"failed to load \" + url);\n    }\n\n    for (let i = 0; i < css_urls.length; i++) {\n      const url = css_urls[i];\n      const element = document.createElement(\"link\");\n      element.onload = on_load;\n      element.onerror = on_error.bind(null, url);\n      element.rel = \"stylesheet\";\n      element.type = \"text/css\";\n      element.href = url;\n      console.debug(\"Bokeh: injecting link tag for BokehJS stylesheet: \", url);\n      document.body.appendChild(element);\n    }\n\n    for (let i = 0; i < js_urls.length; i++) {\n      const url = js_urls[i];\n      const element = document.createElement('script');\n      element.onload = on_load;\n      element.onerror = on_error.bind(null, url);\n      element.async = false;\n      element.src = url;\n      console.debug(\"Bokeh: injecting script tag for BokehJS library: \", url);\n      document.head.appendChild(element);\n    }\n  };\n\n  function inject_raw_css(css) {\n    const element = document.createElement(\"style\");\n    element.appendChild(document.createTextNode(css));\n    document.body.appendChild(element);\n  }\n\n  const js_urls = [\"https://cdn.bokeh.org/bokeh/release/bokeh-2.4.3.min.js\", \"https://cdn.bokeh.org/bokeh/release/bokeh-gl-2.4.3.min.js\", \"https://cdn.bokeh.org/bokeh/release/bokeh-widgets-2.4.3.min.js\", \"https://cdn.bokeh.org/bokeh/release/bokeh-tables-2.4.3.min.js\", \"https://cdn.bokeh.org/bokeh/release/bokeh-mathjax-2.4.3.min.js\"];\n  const css_urls = [];\n\n  const inline_js = [    function(Bokeh) {\n      Bokeh.set_log_level(\"info\");\n    },\nfunction(Bokeh) {\n    }\n  ];\n\n  function run_inline_js() {\n    if (root.Bokeh !== undefined || force === true) {\n          for (let i = 0; i < inline_js.length; i++) {\n      inline_js[i].call(root, root.Bokeh);\n    }\n} else if (Date.now() < root._bokeh_timeout) {\n      setTimeout(run_inline_js, 100);\n    } else if (!root._bokeh_failed_load) {\n      console.log(\"Bokeh: BokehJS failed to load within specified timeout.\");\n      root._bokeh_failed_load = true;\n    } else if (force !== true) {\n      const cell = $(document.getElementById(null)).parents('.cell').data().cell;\n      cell.output_area.append_execute_result(NB_LOAD_WARNING)\n    }\n  }\n\n  if (root._bokeh_is_loading === 0) {\n    console.debug(\"Bokeh: BokehJS loaded, going straight to plotting\");\n    run_inline_js();\n  } else {\n    load_libs(css_urls, js_urls, function() {\n      console.debug(\"Bokeh: BokehJS plotting callback run at\", now());\n      run_inline_js();\n    });\n  }\n}(window));",
      "application/vnd.bokehjs_load.v0+json": "(function(root) {\n  function now() {\n    return new Date();\n  }\n\n  const force = true;\n\n  if (typeof root._bokeh_onload_callbacks === \"undefined\" || force === true) {\n    root._bokeh_onload_callbacks = [];\n    root._bokeh_is_loading = undefined;\n  }\n\n\n  if (typeof (root._bokeh_timeout) === \"undefined\" || force === true) {\n    root._bokeh_timeout = Date.now() + 5000;\n    root._bokeh_failed_load = false;\n  }\n\n  const NB_LOAD_WARNING = {'data': {'text/html':\n     \"<div style='background-color: #fdd'>\\n\"+\n     \"<p>\\n\"+\n     \"BokehJS does not appear to have successfully loaded. If loading BokehJS from CDN, this \\n\"+\n     \"may be due to a slow or bad network connection. Possible fixes:\\n\"+\n     \"</p>\\n\"+\n     \"<ul>\\n\"+\n     \"<li>re-rerun `output_notebook()` to attempt to load from CDN again, or</li>\\n\"+\n     \"<li>use INLINE resources instead, as so:</li>\\n\"+\n     \"</ul>\\n\"+\n     \"<code>\\n\"+\n     \"from bokeh.resources import INLINE\\n\"+\n     \"output_notebook(resources=INLINE)\\n\"+\n     \"</code>\\n\"+\n     \"</div>\"}};\n\n  function display_loaded() {\n    const el = document.getElementById(null);\n    if (el != null) {\n      el.textContent = \"BokehJS is loading...\";\n    }\n    if (root.Bokeh !== undefined) {\n      if (el != null) {\n        el.textContent = \"BokehJS \" + root.Bokeh.version + \" successfully loaded.\";\n      }\n    } else if (Date.now() < root._bokeh_timeout) {\n      setTimeout(display_loaded, 100)\n    }\n  }\n\n  function run_callbacks() {\n    try {\n      root._bokeh_onload_callbacks.forEach(function(callback) {\n        if (callback != null)\n          callback();\n      });\n    } finally {\n      delete root._bokeh_onload_callbacks\n    }\n    console.debug(\"Bokeh: all callbacks have finished\");\n  }\n\n  function load_libs(css_urls, js_urls, callback) {\n    if (css_urls == null) css_urls = [];\n    if (js_urls == null) js_urls = [];\n\n    root._bokeh_onload_callbacks.push(callback);\n    if (root._bokeh_is_loading > 0) {\n      console.debug(\"Bokeh: BokehJS is being loaded, scheduling callback at\", now());\n      return null;\n    }\n    if (js_urls == null || js_urls.length === 0) {\n      run_callbacks();\n      return null;\n    }\n    console.debug(\"Bokeh: BokehJS not loaded, scheduling load and callback at\", now());\n    root._bokeh_is_loading = css_urls.length + js_urls.length;\n\n    function on_load() {\n      root._bokeh_is_loading--;\n      if (root._bokeh_is_loading === 0) {\n        console.debug(\"Bokeh: all BokehJS libraries/stylesheets loaded\");\n        run_callbacks()\n      }\n    }\n\n    function on_error(url) {\n      console.error(\"failed to load \" + url);\n    }\n\n    for (let i = 0; i < css_urls.length; i++) {\n      const url = css_urls[i];\n      const element = document.createElement(\"link\");\n      element.onload = on_load;\n      element.onerror = on_error.bind(null, url);\n      element.rel = \"stylesheet\";\n      element.type = \"text/css\";\n      element.href = url;\n      console.debug(\"Bokeh: injecting link tag for BokehJS stylesheet: \", url);\n      document.body.appendChild(element);\n    }\n\n    for (let i = 0; i < js_urls.length; i++) {\n      const url = js_urls[i];\n      const element = document.createElement('script');\n      element.onload = on_load;\n      element.onerror = on_error.bind(null, url);\n      element.async = false;\n      element.src = url;\n      console.debug(\"Bokeh: injecting script tag for BokehJS library: \", url);\n      document.head.appendChild(element);\n    }\n  };\n\n  function inject_raw_css(css) {\n    const element = document.createElement(\"style\");\n    element.appendChild(document.createTextNode(css));\n    document.body.appendChild(element);\n  }\n\n  const js_urls = [\"https://cdn.bokeh.org/bokeh/release/bokeh-2.4.3.min.js\", \"https://cdn.bokeh.org/bokeh/release/bokeh-gl-2.4.3.min.js\", \"https://cdn.bokeh.org/bokeh/release/bokeh-widgets-2.4.3.min.js\", \"https://cdn.bokeh.org/bokeh/release/bokeh-tables-2.4.3.min.js\", \"https://cdn.bokeh.org/bokeh/release/bokeh-mathjax-2.4.3.min.js\"];\n  const css_urls = [];\n\n  const inline_js = [    function(Bokeh) {\n      Bokeh.set_log_level(\"info\");\n    },\nfunction(Bokeh) {\n    }\n  ];\n\n  function run_inline_js() {\n    if (root.Bokeh !== undefined || force === true) {\n          for (let i = 0; i < inline_js.length; i++) {\n      inline_js[i].call(root, root.Bokeh);\n    }\n} else if (Date.now() < root._bokeh_timeout) {\n      setTimeout(run_inline_js, 100);\n    } else if (!root._bokeh_failed_load) {\n      console.log(\"Bokeh: BokehJS failed to load within specified timeout.\");\n      root._bokeh_failed_load = true;\n    } else if (force !== true) {\n      const cell = $(document.getElementById(null)).parents('.cell').data().cell;\n      cell.output_area.append_execute_result(NB_LOAD_WARNING)\n    }\n  }\n\n  if (root._bokeh_is_loading === 0) {\n    console.debug(\"Bokeh: BokehJS loaded, going straight to plotting\");\n    run_inline_js();\n  } else {\n    load_libs(css_urls, js_urls, function() {\n      console.debug(\"Bokeh: BokehJS plotting callback run at\", now());\n      run_inline_js();\n    });\n  }\n}(window));"
     },
     "metadata": {},
     "output_type": "display_data"
    }
   ],
   "execution_count": 2
  },
  {
   "metadata": {
    "ExecuteTime": {
     "end_time": "2024-06-09T09:19:33.050974Z",
     "start_time": "2024-06-09T09:19:33.042284Z"
    }
   },
   "cell_type": "code",
   "source": [
    "# Defining Randomness Seeds for Reproducibility\n",
    "np.random.seed(16)\n",
    "tf.random.set_seed(16)"
   ],
   "id": "4115f2590029044a",
   "outputs": [],
   "execution_count": 3
  },
  {
   "metadata": {},
   "cell_type": "markdown",
   "source": "## 1) sEMG Signal Processing",
   "id": "45d455a67581743a"
  },
  {
   "cell_type": "markdown",
   "source": "### Creating the sEMG Signal Dataframes from the CSV files",
   "metadata": {
    "collapsed": false
   },
   "id": "fed287a164bc3c08"
  },
  {
   "cell_type": "code",
   "id": "e4c2a1c3ac0dd0a3",
   "metadata": {
    "ExecuteTime": {
     "end_time": "2024-06-09T09:19:33.060538Z",
     "start_time": "2024-06-09T09:19:33.052985Z"
    }
   },
   "source": [
    "def subject_df_creator(subject_id, muscles_of_interest):\n",
    "\t\"\"\"\n",
    "    Collects the data from all trial files for each subject and stores it in a DataFrame\n",
    "\t:param subject_id: string\n",
    "\t:param muscles_of_interest: list of strings\n",
    "\t:return: A concatenated DataFrame containing the data for all specified muscles from all valid trials.\n",
    "\t\"\"\"\n",
    "\ttrials_dfs_list = []\n",
    "\toutput_msg=[]\n",
    "\n",
    "\t# Iterating over the subject files\n",
    "\tfor trial_number in tqdm(range(1, 51), desc=f\"Concatenating trial Files for Subject AB{subject_id}\"):\n",
    "\t    filename = f\"5362627/AB{subject_id}/AB{subject_id}/Raw/AB{subject_id}_Circuit_0{trial_number:02d}_raw.csv\"\n",
    "\t    # Checking if the file exists\n",
    "\t    if not os.path.exists(filename):  \n",
    "\t        output_msg.append(f\"0{trial_number:02d}\")\n",
    "\t        continue\n",
    "\n",
    "\t    df_trial = pd.read_csv(filename)\n",
    "\t    df_trial_combined = pd.DataFrame()\n",
    "\n",
    "\t    # Concatenating \"Right_\" and \"Left_\" values for each muscle of interest\n",
    "\t    for i in range(len(muscles_of_interest)):\n",
    "\t        df_trial_combined[muscles_of_interest[i]] = pd.concat([df_trial[\"Right_\"+muscles_of_interest[i]], df_trial[\"Left_\"+muscles_of_interest[i]]], ignore_index=True)\n",
    "\n",
    "\t    trials_dfs_list.append(df_trial_combined)\n",
    "\n",
    "\t# Concatenating all DataFrames in the list into a single DataFrame\n",
    "\tmerged_df = pd.concat(trials_dfs_list, ignore_index=True)\n",
    "\n",
    "\t# Printing the missing files\n",
    "\tif output_msg:\n",
    "\t    print(f\"{len(output_msg)} Files do not exist:\", output_msg)\n",
    "\n",
    "\treturn merged_df"
   ],
   "outputs": [],
   "execution_count": 4
  },
  {
   "cell_type": "code",
   "source": [
    "# Defining the subject_ids list and muscles list to use for printing \n",
    "subjects = [\"156\", \"185\", \"186\", \"188\", \"189\", \"190\", \"191\", \"192\", \"193\", \"194\"]\n",
    "muscles = [\"TA\", \"MG\", \"SOL\", \"BF\", \"ST\", \"VL\", \"RF\"]"
   ],
   "metadata": {
    "collapsed": false,
    "ExecuteTime": {
     "end_time": "2024-06-09T09:19:33.069636Z",
     "start_time": "2024-06-09T09:19:33.063549Z"
    }
   },
   "id": "a3a82d6844b895f4",
   "outputs": [],
   "execution_count": 5
  },
  {
   "cell_type": "code",
   "id": "674c2f5bcc6b8187",
   "metadata": {
    "ExecuteTime": {
     "end_time": "2024-06-09T09:19:33.077839Z",
     "start_time": "2024-06-09T09:19:33.071647Z"
    }
   },
   "source": [
    "# Creating dataframes to save subject-specific data\n",
    "df_subject_156 = subject_df_creator(subjects[0], muscles)\n",
    "df_subject_185 = subject_df_creator(subjects[1], muscles)\n",
    "df_subject_186 = subject_df_creator(subjects[2], muscles)\n",
    "df_subject_188 = subject_df_creator(subjects[3], muscles)\n",
    "df_subject_189 = subject_df_creator(subjects[4], muscles)\n",
    "df_subject_190 = subject_df_creator(subjects[5], muscles)\n",
    "df_subject_191 = subject_df_creator(subjects[6], muscles)\n",
    "df_subject_192 = subject_df_creator(subjects[7], muscles)\n",
    "df_subject_193 = subject_df_creator(subjects[8], muscles)\n",
    "df_subject_194 = subject_df_creator(subjects[9], muscles)"
   ],
   "outputs": [],
   "execution_count": 6
  },
  {
   "cell_type": "code",
   "source": [
    "# Saving the Dataframes into pickle objects to save time and to be able to run the code without needing the whole dataset\n",
    "df_subject_156.to_pickle(\"pickled_dataframes/df_subject_156.pkl\")\n",
    "df_subject_185.to_pickle(\"pickled_dataframes/df_subject_185.pkl\")\n",
    "df_subject_186.to_pickle(\"pickled_dataframes/df_subject_186.pkl\")\n",
    "df_subject_188.to_pickle(\"pickled_dataframes/df_subject_188.pkl\")\n",
    "df_subject_189.to_pickle(\"pickled_dataframes/df_subject_189.pkl\")\n",
    "df_subject_190.to_pickle(\"pickled_dataframes/df_subject_190.pkl\")\n",
    "df_subject_191.to_pickle(\"pickled_dataframes/df_subject_191.pkl\")\n",
    "df_subject_192.to_pickle(\"pickled_dataframes/df_subject_192.pkl\")\n",
    "df_subject_193.to_pickle(\"pickled_dataframes/df_subject_193.pkl\")\n",
    "df_subject_194.to_pickle(\"pickled_dataframes/df_subject_194.pkl\")"
   ],
   "metadata": {
    "collapsed": false,
    "ExecuteTime": {
     "end_time": "2024-06-09T09:19:33.086274Z",
     "start_time": "2024-06-09T09:19:33.079850Z"
    }
   },
   "id": "71aa6e6992196281",
   "outputs": [],
   "execution_count": 7
  },
  {
   "cell_type": "code",
   "source": [
    "# Loading pickle files into DataFrames\n",
    "df_subject_156 = pd.read_pickle(\"pickled_dataframes/df_subject_156.pkl\")\n",
    "df_subject_185 = pd.read_pickle(\"pickled_dataframes/df_subject_185.pkl\")\n",
    "df_subject_186 = pd.read_pickle(\"pickled_dataframes/df_subject_186.pkl\")\n",
    "df_subject_188 = pd.read_pickle(\"pickled_dataframes/df_subject_188.pkl\")\n",
    "df_subject_189 = pd.read_pickle(\"pickled_dataframes/df_subject_189.pkl\")\n",
    "df_subject_190 = pd.read_pickle(\"pickled_dataframes/df_subject_190.pkl\")\n",
    "df_subject_191 = pd.read_pickle(\"pickled_dataframes/df_subject_191.pkl\")\n",
    "df_subject_192 = pd.read_pickle(\"pickled_dataframes/df_subject_192.pkl\")\n",
    "df_subject_193 = pd.read_pickle(\"pickled_dataframes/df_subject_193.pkl\")\n",
    "df_subject_194 = pd.read_pickle(\"pickled_dataframes/df_subject_194.pkl\")"
   ],
   "metadata": {
    "collapsed": false,
    "ExecuteTime": {
     "end_time": "2024-06-09T09:19:35.054890Z",
     "start_time": "2024-06-09T09:19:33.088289Z"
    }
   },
   "id": "b9418bcf6748f92f",
   "outputs": [],
   "execution_count": 8
  },
  {
   "cell_type": "code",
   "id": "477e4fb02daa7f93",
   "metadata": {
    "ExecuteTime": {
     "end_time": "2024-06-09T09:19:35.853368Z",
     "start_time": "2024-06-09T09:19:35.057904Z"
    }
   },
   "source": [
    "# Merging all the subject dataframes into one\n",
    "list_of_all_subjects_dfs = [df_subject_156, df_subject_185, df_subject_186, df_subject_188, df_subject_189,\n",
    "                            df_subject_190, df_subject_191, df_subject_192, df_subject_193, df_subject_194]\n",
    "\n",
    "df_all_subjects = pd.concat(list_of_all_subjects_dfs, ignore_index=True)"
   ],
   "outputs": [],
   "execution_count": 9
  },
  {
   "cell_type": "code",
   "id": "885a9899ab761bf2",
   "metadata": {
    "ExecuteTime": {
     "end_time": "2024-06-09T09:19:35.949665Z",
     "start_time": "2024-06-09T09:19:35.858381Z"
    }
   },
   "source": [
    "# Safety Check\n",
    "df_all_subjects"
   ],
   "outputs": [
    {
     "data": {
      "text/plain": [
       "                TA        MG       SOL        BF        ST        VL        RF\n",
       "0        -0.110857 -0.078660 -0.077287 -0.073320 -0.107652 -0.075303 -0.069352\n",
       "1        -0.094835 -0.069810 -0.068132 -0.071031 -0.103227 -0.072251 -0.062943\n",
       "2        -0.083238 -0.055314 -0.057298 -0.064775 -0.096361 -0.067063 -0.055772\n",
       "3        -0.076219 -0.051194 -0.052110 -0.059281 -0.091478 -0.066148 -0.049821\n",
       "4        -0.071336 -0.048295 -0.049363 -0.058976 -0.093614 -0.064622 -0.049668\n",
       "...            ...       ...       ...       ...       ...       ...       ...\n",
       "23351875 -0.089799 -0.063249 -0.095598 -0.070573 -0.103685 -0.042039 -0.072404\n",
       "23351876 -0.094224 -0.061875 -0.082628 -0.072709 -0.088273 -0.052720 -0.062028\n",
       "23351877 -0.093767 -0.059892 -0.076371 -0.072709 -0.078202 -0.051804 -0.055924\n",
       "23351878 -0.096666 -0.061112 -0.072251 -0.075151 -0.070878 -0.055009 -0.052567\n",
       "23351879 -0.096056 -0.064775 -0.073167 -0.078202 -0.069047 -0.059281 -0.053330\n",
       "\n",
       "[23351880 rows x 7 columns]"
      ],
      "text/html": [
       "<div>\n",
       "<style scoped>\n",
       "    .dataframe tbody tr th:only-of-type {\n",
       "        vertical-align: middle;\n",
       "    }\n",
       "\n",
       "    .dataframe tbody tr th {\n",
       "        vertical-align: top;\n",
       "    }\n",
       "\n",
       "    .dataframe thead th {\n",
       "        text-align: right;\n",
       "    }\n",
       "</style>\n",
       "<table border=\"1\" class=\"dataframe\">\n",
       "  <thead>\n",
       "    <tr style=\"text-align: right;\">\n",
       "      <th></th>\n",
       "      <th>TA</th>\n",
       "      <th>MG</th>\n",
       "      <th>SOL</th>\n",
       "      <th>BF</th>\n",
       "      <th>ST</th>\n",
       "      <th>VL</th>\n",
       "      <th>RF</th>\n",
       "    </tr>\n",
       "  </thead>\n",
       "  <tbody>\n",
       "    <tr>\n",
       "      <th>0</th>\n",
       "      <td>-0.110857</td>\n",
       "      <td>-0.078660</td>\n",
       "      <td>-0.077287</td>\n",
       "      <td>-0.073320</td>\n",
       "      <td>-0.107652</td>\n",
       "      <td>-0.075303</td>\n",
       "      <td>-0.069352</td>\n",
       "    </tr>\n",
       "    <tr>\n",
       "      <th>1</th>\n",
       "      <td>-0.094835</td>\n",
       "      <td>-0.069810</td>\n",
       "      <td>-0.068132</td>\n",
       "      <td>-0.071031</td>\n",
       "      <td>-0.103227</td>\n",
       "      <td>-0.072251</td>\n",
       "      <td>-0.062943</td>\n",
       "    </tr>\n",
       "    <tr>\n",
       "      <th>2</th>\n",
       "      <td>-0.083238</td>\n",
       "      <td>-0.055314</td>\n",
       "      <td>-0.057298</td>\n",
       "      <td>-0.064775</td>\n",
       "      <td>-0.096361</td>\n",
       "      <td>-0.067063</td>\n",
       "      <td>-0.055772</td>\n",
       "    </tr>\n",
       "    <tr>\n",
       "      <th>3</th>\n",
       "      <td>-0.076219</td>\n",
       "      <td>-0.051194</td>\n",
       "      <td>-0.052110</td>\n",
       "      <td>-0.059281</td>\n",
       "      <td>-0.091478</td>\n",
       "      <td>-0.066148</td>\n",
       "      <td>-0.049821</td>\n",
       "    </tr>\n",
       "    <tr>\n",
       "      <th>4</th>\n",
       "      <td>-0.071336</td>\n",
       "      <td>-0.048295</td>\n",
       "      <td>-0.049363</td>\n",
       "      <td>-0.058976</td>\n",
       "      <td>-0.093614</td>\n",
       "      <td>-0.064622</td>\n",
       "      <td>-0.049668</td>\n",
       "    </tr>\n",
       "    <tr>\n",
       "      <th>...</th>\n",
       "      <td>...</td>\n",
       "      <td>...</td>\n",
       "      <td>...</td>\n",
       "      <td>...</td>\n",
       "      <td>...</td>\n",
       "      <td>...</td>\n",
       "      <td>...</td>\n",
       "    </tr>\n",
       "    <tr>\n",
       "      <th>23351875</th>\n",
       "      <td>-0.089799</td>\n",
       "      <td>-0.063249</td>\n",
       "      <td>-0.095598</td>\n",
       "      <td>-0.070573</td>\n",
       "      <td>-0.103685</td>\n",
       "      <td>-0.042039</td>\n",
       "      <td>-0.072404</td>\n",
       "    </tr>\n",
       "    <tr>\n",
       "      <th>23351876</th>\n",
       "      <td>-0.094224</td>\n",
       "      <td>-0.061875</td>\n",
       "      <td>-0.082628</td>\n",
       "      <td>-0.072709</td>\n",
       "      <td>-0.088273</td>\n",
       "      <td>-0.052720</td>\n",
       "      <td>-0.062028</td>\n",
       "    </tr>\n",
       "    <tr>\n",
       "      <th>23351877</th>\n",
       "      <td>-0.093767</td>\n",
       "      <td>-0.059892</td>\n",
       "      <td>-0.076371</td>\n",
       "      <td>-0.072709</td>\n",
       "      <td>-0.078202</td>\n",
       "      <td>-0.051804</td>\n",
       "      <td>-0.055924</td>\n",
       "    </tr>\n",
       "    <tr>\n",
       "      <th>23351878</th>\n",
       "      <td>-0.096666</td>\n",
       "      <td>-0.061112</td>\n",
       "      <td>-0.072251</td>\n",
       "      <td>-0.075151</td>\n",
       "      <td>-0.070878</td>\n",
       "      <td>-0.055009</td>\n",
       "      <td>-0.052567</td>\n",
       "    </tr>\n",
       "    <tr>\n",
       "      <th>23351879</th>\n",
       "      <td>-0.096056</td>\n",
       "      <td>-0.064775</td>\n",
       "      <td>-0.073167</td>\n",
       "      <td>-0.078202</td>\n",
       "      <td>-0.069047</td>\n",
       "      <td>-0.059281</td>\n",
       "      <td>-0.053330</td>\n",
       "    </tr>\n",
       "  </tbody>\n",
       "</table>\n",
       "<p>23351880 rows × 7 columns</p>\n",
       "</div>"
      ]
     },
     "execution_count": 10,
     "metadata": {},
     "output_type": "execute_result"
    }
   ],
   "execution_count": 10
  },
  {
   "cell_type": "markdown",
   "id": "44146ec683a0fc26",
   "metadata": {},
   "source": "### EMG Signal Visualisation "
  },
  {
   "cell_type": "code",
   "id": "2423d44728d53dbd",
   "metadata": {
    "ExecuteTime": {
     "end_time": "2024-06-09T09:19:35.956475Z",
     "start_time": "2024-06-09T09:19:35.951674Z"
    }
   },
   "source": [
    "# Visualising a sample of the TA muscle (Warning: Might make the notebook buggy) \n",
    "fig1 = go.Figure()\n",
    "fig1.add_trace(go.Scatter(x=df_all_subjects.index/1000, y=df_all_subjects[\"TA\"][:5000]))\n",
    "fig1.update_layout( title=\"sEMG Signal Sample: Sitting Vs Contraction Bursts Vs Rest\", xaxis_title=\"Time (s)\",\n",
    "                    yaxis_title=\"sEMG Activity (V)\", margin=dict(l=50, r=50, b=50, t=50, pad=4),\n",
    "                    autosize=False, width=800, height=301)\n",
    "fig1.show()"
   ],
   "outputs": [],
   "execution_count": 11
  },
  {
   "cell_type": "markdown",
   "id": "e77c58d1388c023",
   "metadata": {},
   "source": "### EMG Signal Analysis"
  },
  {
   "cell_type": "code",
   "id": "b5bcc96368fa6ee6",
   "metadata": {
    "ExecuteTime": {
     "end_time": "2024-06-09T09:19:38.519264Z",
     "start_time": "2024-06-09T09:19:35.959483Z"
    }
   },
   "source": [
    "df_analysis = pd.DataFrame()\n",
    "df_analysis[\"Mean\"] = df_all_subjects.mean()\n",
    "df_analysis[\"Std\"] = df_all_subjects.std()\n",
    "df_analysis[\"Var\"] = df_all_subjects.var()\n",
    "df_analysis"
   ],
   "outputs": [
    {
     "data": {
      "text/plain": [
       "         Mean       Std       Var\n",
       "TA  -0.095527  0.053082  0.002818\n",
       "MG  -0.067019  0.046308  0.002144\n",
       "SOL -0.078862  0.053928  0.002908\n",
       "BF  -0.074807  0.034799  0.001211\n",
       "ST  -0.092018  0.027390  0.000750\n",
       "VL  -0.063718  0.041050  0.001685\n",
       "RF  -0.064333  0.021242  0.000451"
      ],
      "text/html": [
       "<div>\n",
       "<style scoped>\n",
       "    .dataframe tbody tr th:only-of-type {\n",
       "        vertical-align: middle;\n",
       "    }\n",
       "\n",
       "    .dataframe tbody tr th {\n",
       "        vertical-align: top;\n",
       "    }\n",
       "\n",
       "    .dataframe thead th {\n",
       "        text-align: right;\n",
       "    }\n",
       "</style>\n",
       "<table border=\"1\" class=\"dataframe\">\n",
       "  <thead>\n",
       "    <tr style=\"text-align: right;\">\n",
       "      <th></th>\n",
       "      <th>Mean</th>\n",
       "      <th>Std</th>\n",
       "      <th>Var</th>\n",
       "    </tr>\n",
       "  </thead>\n",
       "  <tbody>\n",
       "    <tr>\n",
       "      <th>TA</th>\n",
       "      <td>-0.095527</td>\n",
       "      <td>0.053082</td>\n",
       "      <td>0.002818</td>\n",
       "    </tr>\n",
       "    <tr>\n",
       "      <th>MG</th>\n",
       "      <td>-0.067019</td>\n",
       "      <td>0.046308</td>\n",
       "      <td>0.002144</td>\n",
       "    </tr>\n",
       "    <tr>\n",
       "      <th>SOL</th>\n",
       "      <td>-0.078862</td>\n",
       "      <td>0.053928</td>\n",
       "      <td>0.002908</td>\n",
       "    </tr>\n",
       "    <tr>\n",
       "      <th>BF</th>\n",
       "      <td>-0.074807</td>\n",
       "      <td>0.034799</td>\n",
       "      <td>0.001211</td>\n",
       "    </tr>\n",
       "    <tr>\n",
       "      <th>ST</th>\n",
       "      <td>-0.092018</td>\n",
       "      <td>0.027390</td>\n",
       "      <td>0.000750</td>\n",
       "    </tr>\n",
       "    <tr>\n",
       "      <th>VL</th>\n",
       "      <td>-0.063718</td>\n",
       "      <td>0.041050</td>\n",
       "      <td>0.001685</td>\n",
       "    </tr>\n",
       "    <tr>\n",
       "      <th>RF</th>\n",
       "      <td>-0.064333</td>\n",
       "      <td>0.021242</td>\n",
       "      <td>0.000451</td>\n",
       "    </tr>\n",
       "  </tbody>\n",
       "</table>\n",
       "</div>"
      ]
     },
     "execution_count": 12,
     "metadata": {},
     "output_type": "execute_result"
    }
   ],
   "execution_count": 12
  },
  {
   "metadata": {
    "ExecuteTime": {
     "end_time": "2024-06-09T09:19:38.529247Z",
     "start_time": "2024-06-09T09:19:38.521333Z"
    }
   },
   "cell_type": "code",
   "source": [
    "# Studying the mean, sigma and variance of individual subjects\n",
    "for idx, df in enumerate(list_of_all_subjects_dfs):\n",
    "    # Creating an \"analysis\" DataFrame for the current subject\n",
    "    subject_stats_df = pd.DataFrame({\"Mean\": df.mean(), \"Std\": df.std(),\"Var\": df.var()})#.transpose() # For making the muscles into rows \n",
    "\n",
    "    # Printing the table for the current subject\n",
    "    print(f\"- EMG Analysis for Subject_{subjects[idx]}:\")\n",
    "    print(tabulate(subject_stats_df.round(4), headers=\"keys\", tablefmt=\"grid\"))\n",
    "    print(\"\\n\")  "
   ],
   "id": "27d0d63f5a4e7bad",
   "outputs": [],
   "execution_count": 13
  },
  {
   "cell_type": "markdown",
   "source": "## 2) Muscle Bursts Detection",
   "metadata": {
    "collapsed": false
   },
   "id": "81ea87cc5fdbb0f1"
  },
  {
   "cell_type": "code",
   "id": "88b8ed3bff3a2166",
   "metadata": {
    "ExecuteTime": {
     "end_time": "2024-06-09T09:19:38.541829Z",
     "start_time": "2024-06-09T09:19:38.532262Z"
    }
   },
   "source": [
    "# Saving the detected bursts for every muscle (takes an eternity, make sure to start it from your previous life)\n",
    "sr = 1000 # sample rate = 1000Hz\n",
    "sl = 20 # smooth level (Size of sliding window used during the moving average process) # Empirical\n",
    "th = 10 # threshold (To cover activation)\n",
    "\n",
    "# Initializing lists\n",
    "detected_bursts_TA = [] ; detected_bursts_MG = [] ; detected_bursts_SOL= []\n",
    "detected_bursts_BF = [] ; detected_bursts_ST = [] ; detected_bursts_VL = []\n",
    "detected_bursts_RF = []\n",
    "\n",
    "# Iterating over every subject to detect and append their muscle bursts to the proper detecting list \n",
    "pbar = tqdm(total=len(muscles)*len(list_of_all_subjects_dfs), desc=\"All Subjects Burst Detection Progress\", unit= \"Muscle\")\n",
    "for df_subject in list_of_all_subjects_dfs:\n",
    "    ## TA\n",
    "    detected_bursts_TA.append(bsnb.detect_emg_activations(emg_signal=df_subject[\"TA\"], sample_rate=sr, smooth_level=sl,\n",
    "                                                          threshold_level=th, time_units=True, device=\"CH0\", plot_result= False))\n",
    "    pbar.update(1)  # Update progress bar\n",
    "    ## MG\n",
    "    detected_bursts_MG.append(bsnb.detect_emg_activations(emg_signal=df_subject[\"MG\"], sample_rate=sr, smooth_level=sl,\n",
    "                                                          threshold_level=th, time_units=True, device=\"CH0\", plot_result= False))\n",
    "    pbar.update(1)\n",
    "    ## SOL\n",
    "    detected_bursts_SOL.append(bsnb.detect_emg_activations(emg_signal=df_subject[\"SOL\"], sample_rate=sr, smooth_level=sl,\n",
    "                                                           threshold_level=th, time_units=True, device=\"CH0\", plot_result= False))\n",
    "    pbar.update(1)\n",
    "    ## BF\n",
    "    detected_bursts_BF.append(bsnb.detect_emg_activations(emg_signal=df_subject[\"BF\"], sample_rate=sr, smooth_level=sl,\n",
    "                                                          threshold_level=th, time_units=True, device=\"CH0\", plot_result= False))\n",
    "    pbar.update(1)\n",
    "    ## ST\n",
    "    detected_bursts_ST.append(bsnb.detect_emg_activations(emg_signal=df_subject[\"ST\"], sample_rate=sr, smooth_level=sl,\n",
    "                                                          threshold_level=th, time_units=True, device=\"CH0\", plot_result= False))\n",
    "    pbar.update(1)\n",
    "    ## VL\n",
    "    detected_bursts_VL.append(bsnb.detect_emg_activations(emg_signal=df_subject[\"VL\"], sample_rate=sr, smooth_level=sl,\n",
    "                                                          threshold_level=th, time_units=True, device=\"CH0\", plot_result= False))\n",
    "    pbar.update(1)\n",
    "    ## RF\n",
    "    detected_bursts_RF.append(bsnb.detect_emg_activations(emg_signal=df_subject[\"RF\"], sample_rate=sr, smooth_level=sl,\n",
    "                                                          threshold_level=th, time_units=True, device=\"CH0\", plot_result= False))\n",
    "    pbar.update(1)"
   ],
   "outputs": [],
   "execution_count": 14
  },
  {
   "cell_type": "code",
   "source": [
    "# Creating the pickles objects to save the burst detection results (saves about 29 minutes)\n",
    "with open(\"pickled_detected_bursts/7_muscles_all_subjects_detected_bursts_TA.pkl\", \"wb\") as f: pickle.dump(detected_bursts_TA, f)\n",
    "with open(\"pickled_detected_bursts/7_muscles_all_subjects_detected_bursts_MG.pkl\", \"wb\") as f: pickle.dump(detected_bursts_MG, f)\n",
    "with open(\"pickled_detected_bursts/7_muscles_all_subjects_detected_bursts_SOL.pkl\",\"wb\") as f: pickle.dump(detected_bursts_SOL,f)\n",
    "with open(\"pickled_detected_bursts/7_muscles_all_subjects_detected_bursts_BF.pkl\", \"wb\") as f: pickle.dump(detected_bursts_BF, f)\n",
    "with open(\"pickled_detected_bursts/7_muscles_all_subjects_detected_bursts_ST.pkl\", \"wb\") as f: pickle.dump(detected_bursts_ST, f)\n",
    "with open(\"pickled_detected_bursts/7_muscles_all_subjects_detected_bursts_VL.pkl\", \"wb\") as f: pickle.dump(detected_bursts_VL, f)\n",
    "with open(\"pickled_detected_bursts/7_muscles_all_subjects_detected_bursts_RF.pkl\", \"wb\") as f: pickle.dump(detected_bursts_RF, f)"
   ],
   "metadata": {
    "collapsed": false,
    "ExecuteTime": {
     "end_time": "2024-06-09T09:19:38.550844Z",
     "start_time": "2024-06-09T09:19:38.543839Z"
    }
   },
   "id": "32689628ce37e44c",
   "outputs": [],
   "execution_count": 15
  },
  {
   "cell_type": "code",
   "source": [
    "# Loading the pickle objects\n",
    "pbar = tqdm(total=len(muscles), desc=\"Burst Detection Loading Progress\", unit= \"Muscle\")\n",
    "with open(\"pickled_detected_bursts/7_muscles_all_subjects_detected_bursts_TA.pkl\", \"rb\") as f: detected_bursts_TA = pickle.load(f)\n",
    "pbar.update(1)\n",
    "with open(\"pickled_detected_bursts/7_muscles_all_subjects_detected_bursts_MG.pkl\", \"rb\") as f: detected_bursts_MG = pickle.load(f)\n",
    "pbar.update(1)\n",
    "with open(\"pickled_detected_bursts/7_muscles_all_subjects_detected_bursts_SOL.pkl\",\"rb\") as f: detected_bursts_SOL= pickle.load(f)\n",
    "pbar.update(1)\n",
    "with open(\"pickled_detected_bursts/7_muscles_all_subjects_detected_bursts_BF.pkl\", \"rb\") as f: detected_bursts_BF = pickle.load(f)\n",
    "pbar.update(1)\n",
    "with open(\"pickled_detected_bursts/7_muscles_all_subjects_detected_bursts_ST.pkl\", \"rb\") as f: detected_bursts_ST = pickle.load(f)\n",
    "pbar.update(1)\n",
    "with open(\"pickled_detected_bursts/7_muscles_all_subjects_detected_bursts_VL.pkl\", \"rb\") as f: detected_bursts_VL = pickle.load(f)\n",
    "pbar.update(1)\n",
    "with open(\"pickled_detected_bursts/7_muscles_all_subjects_detected_bursts_RF.pkl\", \"rb\") as f: detected_bursts_RF = pickle.load(f)\n",
    "pbar.update(1)"
   ],
   "metadata": {
    "collapsed": false,
    "ExecuteTime": {
     "end_time": "2024-06-09T09:21:20.318623Z",
     "start_time": "2024-06-09T09:19:38.554071Z"
    }
   },
   "id": "66629be7075b0eda",
   "outputs": [
    {
     "data": {
      "text/plain": [
       "Burst Detection Loading Progress:   0%|          | 0/7 [00:00<?, ?Muscle/s]"
      ],
      "application/vnd.jupyter.widget-view+json": {
       "version_major": 2,
       "version_minor": 0,
       "model_id": "6718937ff7804dd593227a6de8f87add"
      }
     },
     "metadata": {},
     "output_type": "display_data"
    },
    {
     "data": {
      "text/plain": [
       "True"
      ]
     },
     "execution_count": 16,
     "metadata": {},
     "output_type": "execute_result"
    }
   ],
   "execution_count": 16
  },
  {
   "cell_type": "code",
   "source": [
    "# Safety Check (output is 1 array with 4 arrays inside the firs two are [start times] [end times])  \n",
    "pd.DataFrame(detected_bursts_SOL[:][:10]).transpose()"
   ],
   "metadata": {
    "collapsed": false,
    "ExecuteTime": {
     "end_time": "2024-06-09T09:21:20.343115Z",
     "start_time": "2024-06-09T09:21:20.331934Z"
    }
   },
   "id": "6511bb972b75fcd8",
   "outputs": [],
   "execution_count": 17
  },
  {
   "cell_type": "markdown",
   "source": "### Detected Bursts Visualisation",
   "metadata": {
    "collapsed": false
   },
   "id": "b633b4b9cdb961f4"
  },
  {
   "cell_type": "code",
   "source": [
    "# Visualising the EMG Burst Detection for SOL (bsnb has a weird behaviour, the longer the input the less reliable it is) \n",
    "plot_duration = 40000 # time in milliseconds\n",
    "bsnb.detect_emg_activations(emg_signal = df_all_subjects[\"SOL\"][:plot_duration], sample_rate = sr, smooth_level=sl, threshold_level=th, time_units=True, device=\"CH0\", plot_result= True)\n",
    "print(\"\")"
   ],
   "metadata": {
    "collapsed": false,
    "ExecuteTime": {
     "end_time": "2024-06-09T09:21:20.377840Z",
     "start_time": "2024-06-09T09:21:20.364276Z"
    }
   },
   "id": "996120a536564717",
   "outputs": [],
   "execution_count": 18
  },
  {
   "cell_type": "code",
   "id": "a4f73c254a64ba3c",
   "metadata": {
    "ExecuteTime": {
     "end_time": "2024-06-09T09:21:20.389638Z",
     "start_time": "2024-06-09T09:21:20.380355Z"
    }
   },
   "source": [
    "# Visualising the EMG Burst Detection for TA with offset for Subject_156 \n",
    "duration = 5000\n",
    "shift = 0\n",
    "number_bursts_to_plot = 1\n",
    "\n",
    "plt.rcParams[\"figure.figsize\"] = (10,5)\n",
    "fig = plt.figure()\n",
    "\n",
    "plt.plot(df_all_subjects[\"TA\"][:duration], color=\"cornflowerblue\")\n",
    "for i in range(number_bursts_to_plot): # Plot first N bursts\n",
    "    plt.axvline(detected_bursts_TA[1][0][i+1], color=\"red\", label=\"Detected Burst Region\") # ONSET VERTICAL LINE\n",
    "    plt.axvline(detected_bursts_TA[1][1][i+1], color=\"red\") # OFFSET VERTICAL LINE\n",
    "    plt.axvline(detected_bursts_TA[1][0][i+1]+1000, color=\"black\", label=\"Onset Window (1000ms)\") # ONSET VERTICAL LINE CORRECTED (START WINDOW)\n",
    "    plt.axvline(detected_bursts_TA[1][0][i+1]-100, color=\"black\") # VERTICAL LINE (END WINDOW)\n",
    "\n",
    "plt.legend(loc=\"upper left\")\n",
    "plt.xlim(shift, duration)\n",
    "plt.grid()\n",
    "plt.xlabel(\"Time (ms)\", fontsize=10)\n",
    "plt.ylabel(\"sEMG Intensity (V)\", fontsize=10)"
   ],
   "outputs": [],
   "execution_count": 19
  },
  {
   "cell_type": "code",
   "id": "d3fc9b4c4fbb786b",
   "metadata": {
    "ExecuteTime": {
     "end_time": "2024-05-31T14:38:13.645001Z",
     "start_time": "2024-05-31T14:38:13.635488Z"
    }
   },
   "source": [
    "# adding figures and traces\n",
    "fig1 = go.Figure()\n",
    "fig1.add_trace(go.Scatter(x= df_all_subjects.index/1000, y=df_all_subjects[\"TA\"]))\n",
    "# formatting the plot\n",
    "fig1.update_layout(autosize=True, title=\"sEMG Signal: Detection of Activation Bursts\",\n",
    "                   xaxis_title=\"Time (s)\", yaxis_title=\"sEMG Activity (V)\",\n",
    "                   margin=dict(l=50, r=50, b=50, t=50, pad=4))\n",
    "\n",
    "for i in range(len(detected_bursts_TA[0])):\n",
    "    fig1.add_vrect(x0=detected_bursts_TA[0][i], x1=detected_bursts_TA[1][i], row=\"all\", col=1,\n",
    "                   annotation_text=\"Detected Burst\", annotation_position=\"top right\",\n",
    "                   fillcolor=\"black\", opacity=0.25, line_width=0)\n",
    "\n",
    "# fig1.update_xaxes(range=[30, 60])\n",
    "fig1.update_layout(autosize=False, width=800, height=301)\n",
    "# plotting\n",
    "fig1.show()"
   ],
   "outputs": [],
   "execution_count": 62
  },
  {
   "cell_type": "markdown",
   "source": "### Detected Bursts Analysis ",
   "metadata": {
    "collapsed": false
   },
   "id": "269ba9449138c886"
  },
  {
   "cell_type": "markdown",
   "source": "#### Number of Detected Bursts",
   "metadata": {
    "collapsed": false
   },
   "id": "aaf5b33d7626e0e8"
  },
  {
   "cell_type": "code",
   "source": [
    "# Defining Variables to store the total number of bursts for every muscle \n",
    "tot_bursts_TA = [] ; tot_bursts_MG = [] ; tot_bursts_SOL = []\n",
    "tot_bursts_BF = [] ; tot_bursts_ST = [] ; tot_bursts_VL = []\n",
    "tot_bursts_RF = [] ; burst_count_list_for_printing = []\n",
    "\n",
    "# Calculating the total number of bursts per muscle\n",
    "for subject_idx, subject in enumerate(subjects):\n",
    "    tot_bursts_TA.append(len(detected_bursts_TA[subject_idx][0]))\n",
    "    tot_bursts_MG.append(len(detected_bursts_MG[subject_idx][0]))\n",
    "    tot_bursts_SOL.append(len(detected_bursts_SOL[subject_idx][0]))\n",
    "    tot_bursts_BF.append(len(detected_bursts_BF[subject_idx][0]))\n",
    "    tot_bursts_ST.append(len(detected_bursts_ST[subject_idx][0]))\n",
    "    tot_bursts_VL.append(len(detected_bursts_VL[subject_idx][0]))\n",
    "    tot_bursts_RF.append(len(detected_bursts_RF[subject_idx][0]))\n",
    "\n",
    "    # Calculate the total bursts for each subject across all muscles\n",
    "    total_bursts_subject = (tot_bursts_TA[subject_idx] + tot_bursts_MG[subject_idx] +\n",
    "                            tot_bursts_SOL[subject_idx] + tot_bursts_BF[subject_idx] +\n",
    "                            tot_bursts_ST[subject_idx] + tot_bursts_VL[subject_idx] +\n",
    "                            tot_bursts_RF[subject_idx])\n",
    "\n",
    "    # Saving the results in a list for fancy printing\n",
    "    burst_count_list_for_printing.append([subject, tot_bursts_TA[subject_idx], tot_bursts_MG[subject_idx], tot_bursts_SOL[subject_idx],\n",
    "                                          tot_bursts_BF[subject_idx], tot_bursts_ST[subject_idx], tot_bursts_VL[subject_idx],\n",
    "                                          tot_bursts_RF[subject_idx], total_bursts_subject])\n",
    "\n",
    "# Adding the total row to the printing\n",
    "burst_count_list_for_printing.append([\"* Total Sum\", sum(tot_bursts_TA), sum(tot_bursts_MG), sum(tot_bursts_SOL), sum(tot_bursts_BF),\n",
    "                                      sum(tot_bursts_ST), sum(tot_bursts_VL), sum(tot_bursts_RF),\n",
    "                                      sum(tot_bursts_TA) + sum(tot_bursts_MG) + sum(tot_bursts_SOL) + sum(tot_bursts_BF) +\n",
    "                                      sum(tot_bursts_ST) + sum(tot_bursts_VL) + sum(tot_bursts_RF)])\n",
    "\n",
    "# Printing the table\n",
    "print(\"Number of Muscle Bursts Per Subject Per Muscle:\\n\")\n",
    "headers = [\"Subject\", \"TA Bursts\", \"MG Bursts\", \"SOL Bursts\", \"BF Bursts\", \"ST Bursts\", \"VL Bursts\", \"RF Bursts\", \"Total Bursts\"]\n",
    "print(tabulate(burst_count_list_for_printing, headers=headers, tablefmt=\"grid\"))"
   ],
   "metadata": {
    "collapsed": false,
    "ExecuteTime": {
     "end_time": "2024-06-09T09:21:20.512461Z",
     "start_time": "2024-06-09T09:21:20.389638Z"
    }
   },
   "id": "ba4fbe0e78e31449",
   "outputs": [
    {
     "name": "stdout",
     "output_type": "stream",
     "text": [
      "Number of Muscle Bursts Per Subject Per Muscle:\n",
      "\n",
      "+-------------+-------------+-------------+--------------+-------------+-------------+-------------+-------------+----------------+\n",
      "| Subject     |   TA Bursts |   MG Bursts |   SOL Bursts |   BF Bursts |   ST Bursts |   VL Bursts |   RF Bursts |   Total Bursts |\n",
      "+=============+=============+=============+==============+=============+=============+=============+=============+================+\n",
      "| 156         |         452 |         760 |          296 |         815 |          40 |         214 |         156 |           2733 |\n",
      "+-------------+-------------+-------------+--------------+-------------+-------------+-------------+-------------+----------------+\n",
      "| 185         |         399 |         948 |          832 |         742 |         736 |        1132 |        1117 |           5906 |\n",
      "+-------------+-------------+-------------+--------------+-------------+-------------+-------------+-------------+----------------+\n",
      "| 186         |         398 |         729 |          695 |         554 |         739 |         650 |         475 |           4240 |\n",
      "+-------------+-------------+-------------+--------------+-------------+-------------+-------------+-------------+----------------+\n",
      "| 188         |          16 |          31 |          166 |          15 |           5 |          84 |           3 |            320 |\n",
      "+-------------+-------------+-------------+--------------+-------------+-------------+-------------+-------------+----------------+\n",
      "| 189         |         719 |         973 |         1001 |         301 |         953 |         799 |         469 |           5215 |\n",
      "+-------------+-------------+-------------+--------------+-------------+-------------+-------------+-------------+----------------+\n",
      "| 190         |         450 |         851 |          737 |         477 |         878 |         432 |         761 |           4586 |\n",
      "+-------------+-------------+-------------+--------------+-------------+-------------+-------------+-------------+----------------+\n",
      "| 191         |         205 |         915 |          500 |         555 |         694 |         733 |         111 |           3713 |\n",
      "+-------------+-------------+-------------+--------------+-------------+-------------+-------------+-------------+----------------+\n",
      "| 192         |         100 |         653 |          733 |         635 |         611 |         230 |         516 |           3478 |\n",
      "+-------------+-------------+-------------+--------------+-------------+-------------+-------------+-------------+----------------+\n",
      "| 193         |         307 |           1 |            1 |           1 |         386 |         277 |         113 |           1086 |\n",
      "+-------------+-------------+-------------+--------------+-------------+-------------+-------------+-------------+----------------+\n",
      "| 194         |         389 |         822 |          662 |        1008 |          44 |         365 |         109 |           3399 |\n",
      "+-------------+-------------+-------------+--------------+-------------+-------------+-------------+-------------+----------------+\n",
      "| * Total Sum |        3435 |        6683 |         5623 |        5103 |        5086 |        4916 |        3830 |          34676 |\n",
      "+-------------+-------------+-------------+--------------+-------------+-------------+-------------+-------------+----------------+\n"
     ]
    }
   ],
   "execution_count": 20
  },
  {
   "cell_type": "markdown",
   "source": "#### Longest Detected Bursts",
   "metadata": {
    "collapsed": false
   },
   "id": "7b26b447d9810906"
  },
  {
   "cell_type": "code",
   "source": [
    "# Lists to store longest burst per muscle for all subjects\n",
    "longest_bursts_TA = []; longest_bursts_MG = []; longest_bursts_SOL = []\n",
    "longest_bursts_BF = []; longest_bursts_ST = []; longest_bursts_VL = []\n",
    "longest_bursts_RF = []\n",
    "longest_burst_list_for_printing = []\n",
    "\n",
    "# Calculating the longest burst per muscle\n",
    "for subject_idx, subject in enumerate(subjects):\n",
    "    longest_TA = max(np.array(detected_bursts_TA[subject_idx][1])-np.array(detected_bursts_TA[subject_idx][0]))\n",
    "    longest_MG = max(np.array(detected_bursts_MG[subject_idx][1])-np.array(detected_bursts_MG[subject_idx][0]))\n",
    "    longest_SOL = max(np.array(detected_bursts_SOL[subject_idx][1])-np.array(detected_bursts_SOL[subject_idx][0]))\n",
    "    longest_BF = max(np.array(detected_bursts_BF[subject_idx][1])-np.array(detected_bursts_BF[subject_idx][0]))\n",
    "    longest_ST = max(np.array(detected_bursts_ST[subject_idx][1])-np.array(detected_bursts_ST[subject_idx][0]))\n",
    "    longest_VL = max(np.array(detected_bursts_VL[subject_idx][1])-np.array(detected_bursts_VL[subject_idx][0]))\n",
    "    longest_RF = max(np.array(detected_bursts_RF[subject_idx][1])-np.array(detected_bursts_RF[subject_idx][0]))\n",
    "\n",
    "    # Save longest burst per muscle for this subject\n",
    "    longest_bursts_TA.append(longest_TA)\n",
    "    longest_bursts_MG.append(longest_MG)\n",
    "    longest_bursts_SOL.append(longest_SOL)\n",
    "    longest_bursts_BF.append(longest_BF)\n",
    "    longest_bursts_ST.append(longest_ST)\n",
    "    longest_bursts_VL.append(longest_VL)\n",
    "    longest_bursts_RF.append(longest_RF)\n",
    "\n",
    "    # Calculate the longest burst across all muscles for the subject\n",
    "    longest_burst_subject = max(longest_TA, longest_MG, longest_SOL, longest_BF, longest_ST, longest_VL, longest_RF)\n",
    "\n",
    "    # Save the results in a list for printing\n",
    "    longest_burst_list_for_printing.append([subject, longest_TA, longest_MG, longest_SOL, longest_BF, longest_ST, longest_VL, longest_RF, longest_burst_subject])\n",
    "\n",
    "# Adding the longest burst across all subjects per muscle and overall\n",
    "longest_burst_list_for_printing.append([\"* Longest Burst\", max(longest_bursts_TA), max(longest_bursts_MG),\n",
    "                                        max(longest_bursts_SOL), max(longest_bursts_BF),\n",
    "                                        max(longest_bursts_ST), max(longest_bursts_VL),\n",
    "                                        max(longest_bursts_RF), max([max(longest_bursts_TA), max(longest_bursts_MG), max(longest_bursts_SOL),\n",
    "                                                                     max(longest_bursts_BF), max(longest_bursts_ST), max(longest_bursts_VL), max(longest_bursts_RF)])])\n",
    "\n",
    "# Printing the table\n",
    "print(\"Longest Burst Per Subject Per Muscle:\\n\")\n",
    "headers = [\"Subject\", \"TA (s)\", \"MG (s)\", \"SOL (s)\", \"BF (s)\", \"ST (s)\", \"VL (s)\", \"RF (s)\", \"Per Subject (s)\"]\n",
    "print(tabulate(longest_burst_list_for_printing, headers=headers, tablefmt=\"grid\"))"
   ],
   "metadata": {
    "collapsed": false,
    "ExecuteTime": {
     "end_time": "2024-06-09T09:21:20.551560Z",
     "start_time": "2024-06-09T09:21:20.514970Z"
    }
   },
   "id": "2097a7200037a085",
   "outputs": [
    {
     "name": "stdout",
     "output_type": "stream",
     "text": [
      "Longest Burst Per Subject Per Muscle:\n",
      "\n",
      "+-----------------+----------+----------+-----------+----------+----------+----------+----------+-------------------+\n",
      "| Subject         |   TA (s) |   MG (s) |   SOL (s) |   BF (s) |   ST (s) |   VL (s) |   RF (s) |   Per Subject (s) |\n",
      "+=================+==========+==========+===========+==========+==========+==========+==========+===================+\n",
      "| 156             |    2.439 |    2.515 |     1.666 |    6.978 |    1.549 |    1.3   |    1.136 |             6.978 |\n",
      "+-----------------+----------+----------+-----------+----------+----------+----------+----------+-------------------+\n",
      "| 185             |    2.144 |    1.145 |     2.081 |    1.206 |    2.13  |    6.104 |    7.858 |             7.858 |\n",
      "+-----------------+----------+----------+-----------+----------+----------+----------+----------+-------------------+\n",
      "| 186             |    3.562 |    1.2   |     6.879 |    1.339 |    1.393 |    2.755 |   14.415 |            14.415 |\n",
      "+-----------------+----------+----------+-----------+----------+----------+----------+----------+-------------------+\n",
      "| 188             |    0.498 |    0.484 |     0.487 |    2.926 |    0.482 |    0.728 |    0.484 |             2.926 |\n",
      "+-----------------+----------+----------+-----------+----------+----------+----------+----------+-------------------+\n",
      "| 189             |    1.935 |    1.033 |     1.054 |    1.635 |    1.401 |    1.337 |    8.304 |             8.304 |\n",
      "+-----------------+----------+----------+-----------+----------+----------+----------+----------+-------------------+\n",
      "| 190             |    2.8   |    1.049 |     8.063 |   27.161 |   15.564 |    0.868 |   23.222 |            27.161 |\n",
      "+-----------------+----------+----------+-----------+----------+----------+----------+----------+-------------------+\n",
      "| 191             |    1.386 |    1.741 |    12.86  |    2.449 |    3.614 |   16.882 |    1.026 |            16.882 |\n",
      "+-----------------+----------+----------+-----------+----------+----------+----------+----------+-------------------+\n",
      "| 192             |    1.32  |    0.857 |     6.178 |   42.035 |    1.495 |   42.095 |  350.68  |           350.68  |\n",
      "+-----------------+----------+----------+-----------+----------+----------+----------+----------+-------------------+\n",
      "| 193             |    1.811 |    0.487 |     0.761 |    0.754 |    2.673 |    1.18  |    0.747 |             2.673 |\n",
      "+-----------------+----------+----------+-----------+----------+----------+----------+----------+-------------------+\n",
      "| 194             |    1.326 |    1.008 |     1.11  |    1.538 |    0.569 |    1.473 |    1.041 |             1.538 |\n",
      "+-----------------+----------+----------+-----------+----------+----------+----------+----------+-------------------+\n",
      "| * Longest Burst |    3.562 |    2.515 |    12.86  |   42.035 |   15.564 |   42.095 |  350.68  |           350.68  |\n",
      "+-----------------+----------+----------+-----------+----------+----------+----------+----------+-------------------+\n"
     ]
    }
   ],
   "execution_count": 21
  },
  {
   "cell_type": "markdown",
   "source": "#### Average Detected Bursts Lengths",
   "metadata": {
    "collapsed": false
   },
   "id": "5900907130d06e68"
  },
  {
   "cell_type": "code",
   "id": "403d50b477df1e2f",
   "metadata": {
    "ExecuteTime": {
     "end_time": "2024-06-09T09:21:20.600571Z",
     "start_time": "2024-06-09T09:21:20.551560Z"
    }
   },
   "source": [
    "# Lists to store average burst length per muscle for all subjects\n",
    "average_burst_lengths_TA = [] ; average_burst_lengths_MG = []\n",
    "average_burst_lengths_SOL = []; average_burst_lengths_BF = []\n",
    "average_burst_lengths_ST = [] ; average_burst_lengths_VL = []\n",
    "average_burst_lengths_RF = [] ; avg_burst_len_list_for_printing = []\n",
    "\n",
    "# Maximum allowed burst duration\n",
    "max_duration = 2\n",
    "\n",
    "# Calculating average burst length per muscle, excluding bursts longer than 2 seconds\n",
    "for subject_idx, subject in enumerate(subjects):\n",
    "    bursts_TA = np.array(detected_bursts_TA[subject_idx][1]) - np.array(detected_bursts_TA[subject_idx][0])\n",
    "    bursts_MG = np.array(detected_bursts_MG[subject_idx][1]) - np.array(detected_bursts_MG[subject_idx][0])\n",
    "    bursts_SOL = np.array(detected_bursts_SOL[subject_idx][1]) - np.array(detected_bursts_SOL[subject_idx][0])\n",
    "    bursts_BF = np.array(detected_bursts_BF[subject_idx][1]) - np.array(detected_bursts_BF[subject_idx][0])\n",
    "    bursts_ST = np.array(detected_bursts_ST[subject_idx][1]) - np.array(detected_bursts_ST[subject_idx][0])\n",
    "    bursts_VL = np.array(detected_bursts_VL[subject_idx][1]) - np.array(detected_bursts_VL[subject_idx][0])\n",
    "    bursts_RF = np.array(detected_bursts_RF[subject_idx][1]) - np.array(detected_bursts_RF[subject_idx][0])\n",
    "\n",
    "    # Filter bursts longer than 2 seconds\n",
    "    filtered_bursts_TA = bursts_TA[bursts_TA <= max_duration]\n",
    "    filtered_bursts_MG = bursts_MG[bursts_MG <= max_duration]\n",
    "    filtered_bursts_SOL = bursts_SOL[bursts_SOL <= max_duration]\n",
    "    filtered_bursts_BF = bursts_BF[bursts_BF <= max_duration]\n",
    "    filtered_bursts_ST = bursts_ST[bursts_ST <= max_duration]\n",
    "    filtered_bursts_VL = bursts_VL[bursts_VL <= max_duration]\n",
    "    filtered_bursts_RF = bursts_RF[bursts_RF <= max_duration]\n",
    "\n",
    "    # Calculate mean of filtered bursts\n",
    "    mean_TA = np.mean(filtered_bursts_TA)\n",
    "    mean_MG = np.mean(filtered_bursts_MG)\n",
    "    mean_SOL = np.mean(filtered_bursts_SOL)\n",
    "    mean_BF = np.mean(filtered_bursts_BF)\n",
    "    mean_ST = np.mean(filtered_bursts_ST)\n",
    "    mean_VL = np.mean(filtered_bursts_VL)\n",
    "    mean_RF = np.mean(filtered_bursts_RF)\n",
    "\n",
    "    average_burst_lengths_TA.append(mean_TA)\n",
    "    average_burst_lengths_MG.append(mean_MG)\n",
    "    average_burst_lengths_SOL.append(mean_SOL)\n",
    "    average_burst_lengths_BF.append(mean_BF)\n",
    "    average_burst_lengths_ST.append(mean_ST)\n",
    "    average_burst_lengths_VL.append(mean_VL)\n",
    "    average_burst_lengths_RF.append(mean_RF)\n",
    "\n",
    "    # Calculate the average for the subject across all muscles\n",
    "    subject_average = np.mean([mean_TA, mean_MG, mean_SOL, mean_BF, mean_ST, mean_VL, mean_RF])\n",
    "\n",
    "    # Saving the results in a list for fancy printing\n",
    "    avg_burst_len_list_for_printing.append([subject,\n",
    "                                            round(mean_TA, 3),\n",
    "                                            round(mean_MG, 3),\n",
    "                                            round(mean_SOL, 3),\n",
    "                                            round(mean_BF, 3),\n",
    "                                            round(mean_ST, 3),\n",
    "                                            round(mean_VL, 3),\n",
    "                                            round(mean_RF, 3),\n",
    "                                            round(subject_average, 3)])  # Include average per subject\n",
    "\n",
    "# Adding the total row to the printing\n",
    "avg_burst_len_list_for_printing.append([\"* Avg. Len\", round(np.mean(average_burst_lengths_TA), 3), round(np.mean(average_burst_lengths_MG), 3),\n",
    "                                        round(np.mean(average_burst_lengths_SOL), 3), round(np.mean(average_burst_lengths_BF), 3),\n",
    "                                        round(np.mean(average_burst_lengths_ST), 3), round(np.mean(average_burst_lengths_VL), 3),\n",
    "                                        round(np.mean(average_burst_lengths_RF), 3)])\n",
    "# Calculate the overall average length and append to the list for printing\n",
    "avg_burst_len_list_for_printing.append([\"* Overall Avg. Len\", round(np.mean(average_burst_lengths_TA + average_burst_lengths_MG + average_burst_lengths_SOL + average_burst_lengths_BF + average_burst_lengths_ST + average_burst_lengths_VL + average_burst_lengths_RF), 3)])\n",
    "\n",
    "# Printing the table\n",
    "print(f\"Average Burst Length in Seconds Per Subject Per Muscle (Excluding Muscle Bursts Longer than {max_duration} Seconds):\\n\")\n",
    "headers = [\"Subject\", \"TA Avg.Len\", \"MG Avg.Len\", \"SOL Avg.Len\", \"BF Avg.Len\", \"ST Avg.Len\", \"VL Avg.Len\", \"RF Avg.Len\", \"Avg. Per Subject\"]\n",
    "print(tabulate(avg_burst_len_list_for_printing, headers=headers, tablefmt=\"grid\"))"
   ],
   "outputs": [
    {
     "name": "stdout",
     "output_type": "stream",
     "text": [
      "Average Burst Length in Seconds Per Subject Per Muscle (Excluding Muscle Bursts Longer than 2 Seconds):\n",
      "\n",
      "+--------------------+--------------+--------------+---------------+--------------+--------------+--------------+--------------+--------------------+\n",
      "| Subject            |   TA Avg.Len |   MG Avg.Len |   SOL Avg.Len |   BF Avg.Len |   ST Avg.Len |   VL Avg.Len |   RF Avg.Len |   Avg. Per Subject |\n",
      "+====================+==============+==============+===============+==============+==============+==============+==============+====================+\n",
      "| 156                |        0.457 |        0.472 |         0.381 |        0.564 |        0.279 |        0.515 |        0.438 |              0.444 |\n",
      "+--------------------+--------------+--------------+---------------+--------------+--------------+--------------+--------------+--------------------+\n",
      "| 185                |        0.465 |        0.459 |         0.497 |        0.439 |        0.42  |        0.542 |        0.568 |              0.485 |\n",
      "+--------------------+--------------+--------------+---------------+--------------+--------------+--------------+--------------+--------------------+\n",
      "| 186                |        0.361 |        0.44  |         0.555 |        0.433 |        0.378 |        0.492 |        0.484 |              0.449 |\n",
      "+--------------------+--------------+--------------+---------------+--------------+--------------+--------------+--------------+--------------------+\n",
      "| 188                |        0.249 |        0.24  |         0.346 |        0.329 |        0.401 |        0.283 |        0.48  |              0.333 |\n",
      "+--------------------+--------------+--------------+---------------+--------------+--------------+--------------+--------------+--------------------+\n",
      "| 189                |        0.474 |        0.459 |         0.443 |        0.378 |        0.411 |        0.522 |        0.496 |              0.455 |\n",
      "+--------------------+--------------+--------------+---------------+--------------+--------------+--------------+--------------+--------------------+\n",
      "| 190                |        0.37  |        0.405 |         0.472 |        0.437 |        0.644 |        0.429 |        0.6   |              0.48  |\n",
      "+--------------------+--------------+--------------+---------------+--------------+--------------+--------------+--------------+--------------------+\n",
      "| 191                |        0.473 |        0.494 |         0.549 |        0.504 |        0.45  |        0.673 |        0.454 |              0.514 |\n",
      "+--------------------+--------------+--------------+---------------+--------------+--------------+--------------+--------------+--------------------+\n",
      "| 192                |        0.463 |        0.402 |         0.538 |        0.463 |        0.418 |        0.485 |        0.491 |              0.466 |\n",
      "+--------------------+--------------+--------------+---------------+--------------+--------------+--------------+--------------+--------------------+\n",
      "| 193                |        0.446 |        0.487 |         0.761 |        0.754 |        0.415 |        0.462 |        0.332 |              0.522 |\n",
      "+--------------------+--------------+--------------+---------------+--------------+--------------+--------------+--------------+--------------------+\n",
      "| 194                |        0.39  |        0.401 |         0.465 |        0.476 |        0.291 |        0.382 |        0.402 |              0.401 |\n",
      "+--------------------+--------------+--------------+---------------+--------------+--------------+--------------+--------------+--------------------+\n",
      "| * Avg. Len         |        0.415 |        0.426 |         0.501 |        0.478 |        0.411 |        0.479 |        0.475 |                    |\n",
      "+--------------------+--------------+--------------+---------------+--------------+--------------+--------------+--------------+--------------------+\n",
      "| * Overall Avg. Len |        0.455 |              |               |              |              |              |              |                    |\n",
      "+--------------------+--------------+--------------+---------------+--------------+--------------+--------------+--------------+--------------------+\n"
     ]
    }
   ],
   "execution_count": 22
  },
  {
   "cell_type": "markdown",
   "source": "#### Histogram: Detected Bursts Lengths",
   "metadata": {
    "collapsed": false
   },
   "id": "cdff3aa7d77dc609"
  },
  {
   "cell_type": "code",
   "source": [
    "# Adjust subplot indexing\n",
    "f, a = plt.subplots(4, 2, figsize=(20, 20))  # Change layout to 4 rows by 2 columns\n",
    "a = a.ravel()\n",
    "bin_edges = np.arange(start=0, stop=2, step=0.05)  # Example for bins of width 0.05\n",
    "colors = [\"red\", \"blue\", \"green\", \"orange\", \"purple\", \"black\", \"pink\", \"cyan\", \"lime\", \"yellow\"]\n",
    "\n",
    "for subject_idx, subject in enumerate(subjects):\n",
    "\tsubject = \"subject_\" + subject\n",
    "\ta[0].hist(np.array(detected_bursts_TA[subject_idx][1])-np.array(detected_bursts_TA[subject_idx][0]), bins=bin_edges, alpha=0.5, label=subject, color=colors[subject_idx])\n",
    "\ta[1].hist(np.array(detected_bursts_MG[subject_idx][1])-np.array(detected_bursts_MG[subject_idx][0]), bins=bin_edges, alpha=0.5, label=subject, color=colors[subject_idx])\n",
    "\ta[2].hist(np.array(detected_bursts_SOL[subject_idx][1])-np.array(detected_bursts_SOL[subject_idx][0]), bins=bin_edges, alpha=0.5, label=subject, color=colors[subject_idx])\n",
    "\ta[3].hist(np.array(detected_bursts_BF[subject_idx][1])-np.array(detected_bursts_BF[subject_idx][0]), bins=bin_edges, alpha=0.5, label=subject, color=colors[subject_idx])\n",
    "\ta[4].hist(np.array(detected_bursts_ST[subject_idx][1])-np.array(detected_bursts_ST[subject_idx][0]), bins=bin_edges, alpha=0.5, label=subject, color=colors[subject_idx])\n",
    "\ta[5].hist(np.array(detected_bursts_VL[subject_idx][1])-np.array(detected_bursts_VL[subject_idx][0]), bins=bin_edges, alpha=0.5, label=subject, color=colors[subject_idx])\n",
    "\ta[6].hist(np.array(detected_bursts_RF[subject_idx][1])-np.array(detected_bursts_RF[subject_idx][0]), bins=bin_edges, alpha=0.5, label=subject, color=colors[subject_idx])\n",
    "\n",
    "# Set legends, titles, and labels for each subplot\n",
    "for muscle_idx, muscle in enumerate(muscles):\n",
    "\ta[muscle_idx].legend(loc=\"upper right\")\n",
    "\ta[muscle_idx].set_title(\"Histogram Burst Duration: \" + muscle)\n",
    "\ta[muscle_idx].set_xlabel(\"Burst Duration (seconds)\")\n",
    "\ta[muscle_idx].set_ylabel(\"Occurrences\")\n",
    "\ta[muscle_idx].set_xlim([0, 2])  # Remove to see how bad the burst detection is \n",
    "\n",
    "# Hide unused subplots if any\n",
    "if len(muscles) < 8:\n",
    "    for i in range(len(muscles), 8):\n",
    "        a[i].set_visible(False)\n",
    "\n",
    "plt.tight_layout()\n",
    "plt.show()\n"
   ],
   "metadata": {
    "collapsed": false,
    "ExecuteTime": {
     "end_time": "2024-06-09T09:21:32.524810Z",
     "start_time": "2024-06-09T09:21:20.600571Z"
    }
   },
   "id": "8bde553b753a37fb",
   "outputs": [
    {
     "data": {
      "text/plain": [
       "<Figure size 2000x2000 with 8 Axes>"
      ],
      "image/png": "[encoded data removed]"
     },
     "metadata": {},
     "output_type": "display_data"
    }
   ],
   "execution_count": 23
  },
  {
   "cell_type": "markdown",
   "source": "### Extraction & Preprocessing",
   "metadata": {
    "collapsed": false
   },
   "id": "969a614a9718648"
  },
  {
   "metadata": {
    "ExecuteTime": {
     "end_time": "2024-05-31T14:38:13.825416Z",
     "start_time": "2024-05-31T14:38:13.816474Z"
    }
   },
   "cell_type": "code",
   "source": [
    "# Muscle Bursts Extraction: Using a Window size of 1000ms (including an onset of 100ms)\n",
    "window = 1000 # total burst  window size, also model input\n",
    "left_shift = 100 # onset size "
   ],
   "id": "d312596669342d68",
   "outputs": [],
   "execution_count": 67
  },
  {
   "cell_type": "code",
   "source": [
    "# WARNING: Tricky Function\n",
    "def extract_burst_windows(muscle_emg_signal, onset_list, window_size, left_shift_value, muscle_name):\n",
    "\t\"\"\"\n",
    "    The function iterates through each subject's list of onset times, extracting a window of EMG data around each onset. It accounts for potential overlap of windows by ensuring that a window does not extend into the next burst period. \n",
    "    If the end of a window does not overlap with the next onset, the window is extracted normally. If it is the last onset in the list, the window is extracted without checking for the next onset. \n",
    "    Each window is baseline corrected by subtracting the mean of the window to standardize the signal before analysis.\n",
    "    \n",
    "    :param muscle_emg_signal: Nested list where each sublist represents the EMG signal data for one subject.\n",
    "\t:param onset_list: A list containing the onset times of muscle activation for each subject.\n",
    "\t:param window_size: The number of samples to include in each window extracted around the onset point.\n",
    "\t:param left_shift_value: Number of samples to shift left from the onset point, defining the start of the window.\n",
    "\t:param muscle_name: The name of the muscle being processed, used for descriptive progress output.\n",
    "\t\n",
    "\t:return:  A nested list where each sublist contains processed EMG data windows for each burst detected in each subject's muscle signal.\n",
    "\t\"\"\"\n",
    "\tsampling_rate = 1000  # Define the sampling rate of the EMG signals\n",
    "\tall_subjects_burst_samples = []  # List to store burst windows for all subjects\n",
    "\t\n",
    "    # Iterate over each subject to process burst windows\n",
    "\tfor subject_index in tqdm(range(len(onset_list)), desc=f\"Extracting Bursts for {muscle_name}\"):\n",
    "\t\tcurrent_subject_bursts = []  # List to store bursts for the current subject\n",
    "\t\tonset_list_indx = -1   # Index to track the position within the onset list for overlap checks\n",
    "\t\t\n",
    "        # Iterate over each onset time for the current subject\n",
    "\t\tfor onset in onset_list[subject_index][0]:\n",
    "\t\t\tonset_list_indx += 1\n",
    "            # Calculate the starting sample index for the current burst window\n",
    "\t\t\tonset_ms = int(onset * sampling_rate) - left_shift_value\n",
    "\t\t\t\n",
    "\t\t\tcurrent_sample_window = []  # List to store samples in the current window\n",
    "\t\t\t\n",
    "            # Check if the current onset is not the last one\n",
    "\t\t\tif onset != onset_list[subject_index][0][-1]:\n",
    "                # Check for overlap with the next burst onset\n",
    "\t\t\t\tif (onset_ms + window_size) < (onset_list[subject_index][0][onset_list_indx + 1] * 1000):\n",
    "                    # Extract samples for the window if no overlap\n",
    "\t\t\t\t\tfor time_step in range(window_size):\n",
    "\t\t\t\t\t\tcurrent_sample_window.append(muscle_emg_signal[onset_ms + time_step])\n",
    "\t\t\telse:\n",
    "                # Extract samples for the last burst window\n",
    "\t\t\t\tfor time_step in range(window_size):\n",
    "\t\t\t\t\tcurrent_sample_window.append(muscle_emg_signal[onset_ms + time_step])\n",
    "\n",
    "            # Perform baseline correction by subtracting the mean of the window\n",
    "\t\t\tif current_sample_window:\n",
    "\t\t\t\tcurrent_sample_window -= np.mean(current_sample_window)\n",
    "\t\t\t\tcurrent_subject_bursts.append(current_sample_window)\n",
    "\t\t\t\t\n",
    "        # Append the bursts for the current subject to the main list\n",
    "\t\tall_subjects_burst_samples.append(current_subject_bursts)\n",
    "\t\t\n",
    "\treturn all_subjects_burst_samples"
   ],
   "metadata": {
    "collapsed": false,
    "ExecuteTime": {
     "end_time": "2024-05-31T14:38:13.851161Z",
     "start_time": "2024-05-31T14:38:13.825416Z"
    }
   },
   "id": "3d5af44622972382",
   "outputs": [],
   "execution_count": 68
  },
  {
   "cell_type": "code",
   "source": [
    "# Extracting bursts for all muscles\n",
    "fixed_bursts_TA = extract_burst_windows(df_all_subjects[\"TA\"], detected_bursts_TA, window, left_shift, \"TA\")\n",
    "fixed_bursts_MG = extract_burst_windows(df_all_subjects[\"MG\"], detected_bursts_MG, window, left_shift, \"MG\")\n",
    "fixed_bursts_SOL= extract_burst_windows(df_all_subjects[\"SOL\"],detected_bursts_SOL,window, left_shift, \"SOL\")\n",
    "fixed_bursts_BF = extract_burst_windows(df_all_subjects[\"BF\"], detected_bursts_BF, window, left_shift, \"BF\")\n",
    "fixed_bursts_ST = extract_burst_windows(df_all_subjects[\"ST\"], detected_bursts_ST, window, left_shift, \"ST\")\n",
    "fixed_bursts_VL = extract_burst_windows(df_all_subjects[\"VL\"], detected_bursts_VL, window, left_shift, \"VL\")\n",
    "fixed_bursts_RF = extract_burst_windows(df_all_subjects[\"RF\"], detected_bursts_RF, window, left_shift, \"RF\")"
   ],
   "metadata": {
    "collapsed": false,
    "ExecuteTime": {
     "end_time": "2024-05-31T14:39:49.578062Z",
     "start_time": "2024-05-31T14:38:13.854280Z"
    }
   },
   "id": "a917103daca3829e",
   "outputs": [
    {
     "data": {
      "text/plain": [
       "Extracting Bursts for TA:   0%|          | 0/10 [00:00<?, ?it/s]"
      ],
      "application/vnd.jupyter.widget-view+json": {
       "version_major": 2,
       "version_minor": 0,
       "model_id": "7ca3aaae3653461799e0f674e2f79970"
      }
     },
     "metadata": {},
     "output_type": "display_data"
    },
    {
     "data": {
      "text/plain": [
       "Extracting Bursts for MG:   0%|          | 0/10 [00:00<?, ?it/s]"
      ],
      "application/vnd.jupyter.widget-view+json": {
       "version_major": 2,
       "version_minor": 0,
       "model_id": "739a0963b3454642a5eaff43633a2dce"
      }
     },
     "metadata": {},
     "output_type": "display_data"
    },
    {
     "data": {
      "text/plain": [
       "Extracting Bursts for SOL:   0%|          | 0/10 [00:00<?, ?it/s]"
      ],
      "application/vnd.jupyter.widget-view+json": {
       "version_major": 2,
       "version_minor": 0,
       "model_id": "c9577709654c4572855bcd7bcc65edf0"
      }
     },
     "metadata": {},
     "output_type": "display_data"
    },
    {
     "data": {
      "text/plain": [
       "Extracting Bursts for BF:   0%|          | 0/10 [00:00<?, ?it/s]"
      ],
      "application/vnd.jupyter.widget-view+json": {
       "version_major": 2,
       "version_minor": 0,
       "model_id": "4983e4aee5c446d5b8f2db18f5973782"
      }
     },
     "metadata": {},
     "output_type": "display_data"
    },
    {
     "data": {
      "text/plain": [
       "Extracting Bursts for ST:   0%|          | 0/10 [00:00<?, ?it/s]"
      ],
      "application/vnd.jupyter.widget-view+json": {
       "version_major": 2,
       "version_minor": 0,
       "model_id": "dabbe0d3d78d47ae9170c3e542f692ac"
      }
     },
     "metadata": {},
     "output_type": "display_data"
    },
    {
     "data": {
      "text/plain": [
       "Extracting Bursts for VL:   0%|          | 0/10 [00:00<?, ?it/s]"
      ],
      "application/vnd.jupyter.widget-view+json": {
       "version_major": 2,
       "version_minor": 0,
       "model_id": "e04fb34f3cc245049ffe6786b6d59d40"
      }
     },
     "metadata": {},
     "output_type": "display_data"
    },
    {
     "data": {
      "text/plain": [
       "Extracting Bursts for RF:   0%|          | 0/10 [00:00<?, ?it/s]"
      ],
      "application/vnd.jupyter.widget-view+json": {
       "version_major": 2,
       "version_minor": 0,
       "model_id": "fd8c66f6ef0c4002821d6f9a5a13f5bd"
      }
     },
     "metadata": {},
     "output_type": "display_data"
    }
   ],
   "execution_count": 69
  },
  {
   "metadata": {},
   "cell_type": "markdown",
   "source": "#### Preprocessed Number of Detected Bursts ",
   "id": "e059bfaec53275e3"
  },
  {
   "cell_type": "code",
   "source": [
    "# Defining Variables to store the total number of bursts for every muscle \n",
    "tot_bursts_TA = []; tot_bursts_MG = []; tot_bursts_SOL = []; tot_bursts_BF = []\n",
    "tot_bursts_ST = []; tot_bursts_VL = []; tot_bursts_RF = []\n",
    "burst_count_list_for_printing = []\n",
    "\n",
    "# Calculating the total number of bursts per muscle\n",
    "for subject_idx, subject in enumerate(subjects):\n",
    "    tot_bursts_TA.append(len(fixed_bursts_TA[subject_idx]))\n",
    "    tot_bursts_MG.append(len(fixed_bursts_MG[subject_idx]))\n",
    "    tot_bursts_SOL.append(len(fixed_bursts_SOL[subject_idx]))\n",
    "    tot_bursts_BF.append(len(fixed_bursts_BF[subject_idx]))\n",
    "    tot_bursts_ST.append(len(fixed_bursts_ST[subject_idx]))\n",
    "    tot_bursts_VL.append(len(fixed_bursts_VL[subject_idx]))\n",
    "    tot_bursts_RF.append(len(fixed_bursts_RF[subject_idx]))\n",
    "\n",
    "    # Calculating the total bursts for each subject across all muscles\n",
    "    total_bursts_subject = (tot_bursts_TA[subject_idx] + tot_bursts_MG[subject_idx] +\n",
    "                            tot_bursts_SOL[subject_idx] + tot_bursts_BF[subject_idx] +\n",
    "                            tot_bursts_ST[subject_idx] + tot_bursts_VL[subject_idx] +\n",
    "                            tot_bursts_RF[subject_idx])\n",
    "\n",
    "    # Saving the results in a list for fancy printing\n",
    "    burst_count_list_for_printing.append([subject, tot_bursts_TA[subject_idx], tot_bursts_MG[subject_idx], tot_bursts_SOL[subject_idx],\n",
    "                                          tot_bursts_BF[subject_idx], tot_bursts_ST[subject_idx], tot_bursts_VL[subject_idx],\n",
    "                                          tot_bursts_RF[subject_idx], total_bursts_subject])\n",
    "\n",
    "# Adding the total row to the printing\n",
    "total_sum = [sum(tot_bursts_TA), sum(tot_bursts_MG), sum(tot_bursts_SOL), sum(tot_bursts_BF), sum(tot_bursts_ST), sum(tot_bursts_VL), sum(tot_bursts_RF)]\n",
    "total_sum.append(sum(total_sum))  # Add total of totals\n",
    "burst_count_list_for_printing.append([\"* Total Sum\"] + total_sum)\n",
    "\n",
    "# Printing the table\n",
    "print(\"Number of Muscle Bursts Per Subject Per Muscle After Preprocessing:\\n\")\n",
    "headers = [\"Subject\", \"TA Bursts\", \"MG Bursts\", \"SOL Bursts\", \"BF Bursts\", \"ST Bursts\", \"VL Bursts\", \"RF Bursts\", \"Total Per Subject\"]\n",
    "print(tabulate(burst_count_list_for_printing, headers=headers, tablefmt=\"grid\"))"
   ],
   "metadata": {
    "collapsed": false,
    "ExecuteTime": {
     "end_time": "2024-05-31T14:39:49.611237Z",
     "start_time": "2024-05-31T14:39:49.582781Z"
    }
   },
   "id": "93b757e534d75473",
   "outputs": [
    {
     "name": "stdout",
     "output_type": "stream",
     "text": [
      "Number of Muscle Bursts Per Subject Per Muscle After Preprocessing:\n",
      "\n",
      "+-------------+-------------+-------------+--------------+-------------+-------------+-------------+-------------+---------------------+\n",
      "| Subject     |   TA Bursts |   MG Bursts |   SOL Bursts |   BF Bursts |   ST Bursts |   VL Bursts |   RF Bursts |   Total Per Subject |\n",
      "+=============+=============+=============+==============+=============+=============+=============+=============+=====================+\n",
      "| 156         |         406 |         691 |          288 |         706 |          38 |         212 |         156 |                2497 |\n",
      "+-------------+-------------+-------------+--------------+-------------+-------------+-------------+-------------+---------------------+\n",
      "| 185         |         348 |         733 |          582 |         528 |         528 |         737 |         694 |                4150 |\n",
      "+-------------+-------------+-------------+--------------+-------------+-------------+-------------+-------------+---------------------+\n",
      "| 186         |         309 |         587 |          415 |         394 |         527 |         495 |         353 |                3080 |\n",
      "+-------------+-------------+-------------+--------------+-------------+-------------+-------------+-------------+---------------------+\n",
      "| 188         |          16 |          31 |          165 |          15 |           5 |          84 |           3 |                 319 |\n",
      "+-------------+-------------+-------------+--------------+-------------+-------------+-------------+-------------+---------------------+\n",
      "| 189         |         603 |         882 |          820 |         275 |         778 |         680 |         409 |                4447 |\n",
      "+-------------+-------------+-------------+--------------+-------------+-------------+-------------+-------------+---------------------+\n",
      "| 190         |         337 |         590 |          501 |         296 |         527 |         368 |         486 |                3105 |\n",
      "+-------------+-------------+-------------+--------------+-------------+-------------+-------------+-------------+---------------------+\n",
      "| 191         |         198 |         312 |          285 |         258 |         301 |         398 |         109 |                1861 |\n",
      "+-------------+-------------+-------------+--------------+-------------+-------------+-------------+-------------+---------------------+\n",
      "| 192         |          94 |         565 |          530 |         463 |         410 |         196 |         355 |                2613 |\n",
      "+-------------+-------------+-------------+--------------+-------------+-------------+-------------+-------------+---------------------+\n",
      "| 193         |         295 |           1 |            1 |           1 |         297 |         266 |         113 |                 974 |\n",
      "+-------------+-------------+-------------+--------------+-------------+-------------+-------------+-------------+---------------------+\n",
      "| 194         |         348 |         735 |          487 |         812 |          38 |         331 |         104 |                2855 |\n",
      "+-------------+-------------+-------------+--------------+-------------+-------------+-------------+-------------+---------------------+\n",
      "| * Total Sum |        2954 |        5127 |         4074 |        3748 |        3449 |        3767 |        2782 |               25901 |\n",
      "+-------------+-------------+-------------+--------------+-------------+-------------+-------------+-------------+---------------------+\n"
     ]
    }
   ],
   "execution_count": 70
  },
  {
   "cell_type": "markdown",
   "source": [
    "## 3) TFRecords: Creating Training and Validation Datasets\n",
    "\n",
    "References: \n",
    " - https://colab.research.google.com/github/tensorflow/docs/blob/master/site/en/tutorials/load_data/tfrecord.ipynb#scrollTo=_e3g9ExathXP\n",
    "  - Esteban's code was used as the starting template"
   ],
   "metadata": {
    "collapsed": false
   },
   "id": "2833a9f67e2ae0f1"
  },
  {
   "cell_type": "markdown",
   "source": "### TFRecords Writing",
   "metadata": {
    "collapsed": false
   },
   "id": "a420f2551effee29"
  },
  {
   "cell_type": "code",
   "source": [
    "def _float_feature(value):\n",
    "\t\"\"\"Returns a float_list from a float / double.\"\"\"\n",
    "\treturn tf.train.Feature(float_list=tf.train.FloatList(value=[value]))\n",
    "\n",
    "def _int64_feature(value):\n",
    "\t\"\"\"Returns an int64_list from a bool / enum / int / uint.\"\"\"\n",
    "\treturn tf.train.Feature(int64_list=tf.train.Int64List(value=[value]))\n",
    "\n",
    "def extract_burst_windows_tfrecord(emg_series_complete, onset_lists, window_size, left_shift_value):\n",
    "    \"\"\"\n",
    "    The function iterates through the EMG signal data for each muscle and subject, extracting a window of EMG data around each onset. \n",
    "    The extracted windows are baseline corrected and stored in a TFRecord file for efficient storage and processing.\n",
    "\n",
    "    :param emg_series_complete: Nested list where each sublist represents the complete EMG signal data for each muscle.\n",
    "    :param onset_lists: Nested list containing the onset times of muscle activation for each subject and muscle.\n",
    "    :param window_size: The number of samples to include in each window extracted around the onset point.\n",
    "    :param left_shift_value: Number of samples to shift left from the onset point, defining the start of the window.\n",
    "    \n",
    "    :return: The filename of the created TFRecord file.\n",
    "    \"\"\"\n",
    "\n",
    "    # Ensure unique file names for parallel processing or repeated calls\n",
    "    file_name = f\"tfrecords/all_dataset_{window_size}ms.tfrecord\"\n",
    "    \n",
    "    # Create a TFRecord writer\n",
    "    with tf.io.TFRecordWriter(file_name) as tfrecord:\n",
    "        # Iterate over each muscle to process burst windows\n",
    "        for muscle_index in tqdm(range(len(emg_series_complete)), desc=\"Extracting dataset to TFRecords (Fixed Window)\"):\n",
    "            # Iterate over each subject for the current muscle\n",
    "            for subject_index in range(len(onset_lists[muscle_index])):\n",
    "                burst_count = 0  # Counter for burst windows\n",
    "                onset_list_index = -1  # Index to track the position within the onset list for overlap checks\n",
    "                \n",
    "                # Iterate over each onset time for the current subject\n",
    "                for onset in onset_lists[muscle_index][subject_index][0]:\n",
    "                    onset_list_index += 1\n",
    "                    # Calculate the starting sample index for the current burst window\n",
    "                    onset_ms = int(onset * 1000) - left_shift_value\n",
    "                    \n",
    "                    current_sample_window = []  # List to store samples in the current window\n",
    "                    \n",
    "                    # Check if the current onset is not the last one\n",
    "                    if onset != onset_lists[muscle_index][subject_index][0][-1]:\n",
    "                        # Check for overlap with the next burst onset\n",
    "                        if (onset_ms + window_size) < (onset_lists[muscle_index][subject_index][0][onset_list_index + 1] * 1000):\n",
    "                            burst_count += 1\n",
    "                            # Extract samples for the window if no overlap\n",
    "                            for time_step in range(window_size):\n",
    "                                current_sample_window.append(emg_series_complete[muscle_index][onset_ms + time_step])\n",
    "                    else:\n",
    "                        # Extract samples for the last burst window\n",
    "                        burst_count += 1\n",
    "                        for time_step in range(window_size):\n",
    "                            current_sample_window.append(emg_series_complete[muscle_index][onset_ms + time_step])\n",
    "                    \n",
    "                    # Perform baseline correction by subtracting the mean of the window\n",
    "                    if current_sample_window:\n",
    "                        current_sample_window -= np.mean(current_sample_window)\n",
    "                        \n",
    "                        # Convert the sample and label to appropriate tf.train.Feature formats\n",
    "                        features = {\n",
    "                            \"label\": _int64_feature(muscle_index),\n",
    "                            \"feature\": tf.train.Feature(float_list=tf.train.FloatList(value=current_sample_window)),\n",
    "                            \"subject\": _int64_feature(subject_index + 1)\n",
    "                        }\n",
    "                        example = tf.train.Example(features=tf.train.Features(feature=features))\n",
    "                        \n",
    "                        # Write the example to the TFRecord file\n",
    "                        tfrecord.write(example.SerializeToString())\n",
    "    \n",
    "    # Return the filename of the created TFRecord file\n",
    "    return file_name\n"
   ],
   "metadata": {
    "collapsed": false,
    "ExecuteTime": {
     "end_time": "2024-05-31T14:39:49.654867Z",
     "start_time": "2024-05-31T14:39:49.615558Z"
    }
   },
   "id": "b1ce5791af57c5dd",
   "outputs": [],
   "execution_count": 71
  },
  {
   "cell_type": "code",
   "source": [
    "emg_series_tot = [df_all_subjects[\"TA\"], df_all_subjects[\"MG\"], df_all_subjects[\"SOL\"],\n",
    "                  df_all_subjects[\"BF\"], df_all_subjects[\"ST\"], df_all_subjects[\"VL\"],\n",
    "                  df_all_subjects[\"RF\"]]\n",
    "\n",
    "detected_bursts_tot = [detected_bursts_TA, detected_bursts_MG, detected_bursts_SOL,\n",
    "                       detected_bursts_BF, detected_bursts_ST, detected_bursts_VL,\n",
    "                       detected_bursts_RF]\n",
    "# Extracting bursts\n",
    "extract_burst_windows_tfrecord(emg_series_tot, detected_bursts_tot,  window, left_shift)"
   ],
   "metadata": {
    "collapsed": false,
    "ExecuteTime": {
     "end_time": "2024-05-31T14:42:52.984042Z",
     "start_time": "2024-05-31T14:39:49.658692Z"
    }
   },
   "id": "28d034070fed2670",
   "outputs": [
    {
     "data": {
      "text/plain": [
       "Extracting dataset to TFRecords (Fixed Window):   0%|          | 0/7 [00:00<?, ?it/s]"
      ],
      "application/vnd.jupyter.widget-view+json": {
       "version_major": 2,
       "version_minor": 0,
       "model_id": "f7f597971ff14a2baa6a0fe7a438db5a"
      }
     },
     "metadata": {},
     "output_type": "display_data"
    },
    {
     "data": {
      "text/plain": [
       "'tfrecords/all_dataset_1250ms.tfrecord'"
      ]
     },
     "execution_count": 72,
     "metadata": {},
     "output_type": "execute_result"
    }
   ],
   "execution_count": 72
  },
  {
   "cell_type": "markdown",
   "source": "### TFRecords Reading",
   "metadata": {
    "collapsed": false
   },
   "id": "f069e88275cf16b6"
  },
  {
   "cell_type": "code",
   "source": [
    "def map_fn(serialized_example):\n",
    "\tfeatures = {\n",
    "\t\t\"label\": tf.io.FixedLenFeature([], tf.int64),\n",
    "\t\t\"feature\": tf.io.FixedLenFeature([window], tf.float32),\n",
    "\t\t\"subject\": tf.io.FixedLenFeature([], tf.int64)\n",
    "\t}\n",
    "\texample = tf.io.parse_single_example(serialized_example, features)\n",
    "\treturn example[\"label\"], example[\"feature\"], example[\"subject\"]"
   ],
   "metadata": {
    "collapsed": false,
    "ExecuteTime": {
     "end_time": "2024-05-31T14:42:53.015378Z",
     "start_time": "2024-05-31T14:42:52.991553Z"
    }
   },
   "id": "adbbf7e6af15aea1",
   "outputs": [],
   "execution_count": 73
  },
  {
   "metadata": {
    "ExecuteTime": {
     "end_time": "2024-05-31T14:42:53.035252Z",
     "start_time": "2024-05-31T14:42:53.015378Z"
    }
   },
   "cell_type": "code",
   "source": [
    "# Iterate over the whole dataset to count records/samples (https://www.rustyrobotics.com/posts/tensorflow/tfdataset-record-count/)\n",
    "# Reference: https://www.rustyrobotics.com/posts/tensorflow/tfdataset-record-count/\n",
    "def countRecords(ds:tf.data.Dataset):\n",
    "\tcount = 0\n",
    "\tif tf.executing_eagerly():\n",
    "\t\t# TF v2 or v1 in eager mode\n",
    "\t\tfor _ in ds:\n",
    "\t\t\tcount = count+1\n",
    "\telse:\n",
    "\t\t# TF v1 in non-eager mode\n",
    "\t\titerator = tf.compat.v1.data.make_one_shot_iterator(ds)\n",
    "\t\tnext_batch = iterator.get_next()\n",
    "\t\twith tf.compat.v1.Session() as sess:\n",
    "\t\t\ttry:\n",
    "\t\t\t\twhile True:\n",
    "\t\t\t\t\tsess.run(next_batch)\n",
    "\t\t\t\t\tcount = count+1\n",
    "\t\t\texcept tf.errors.OutOfRangeError:\n",
    "\t\t\t\tpass\n",
    "\treturn count"
   ],
   "id": "e85f2446e9e3a817",
   "outputs": [],
   "execution_count": 74
  },
  {
   "metadata": {
    "ExecuteTime": {
     "end_time": "2024-05-31T14:42:54.113040Z",
     "start_time": "2024-05-31T14:42:53.035252Z"
    }
   },
   "cell_type": "code",
   "source": [
    "dataset = tf.data.TFRecordDataset(f\"tfrecords/all_dataset_{window}ms.tfrecord\")\n",
    "dataset = dataset.map(map_fn)\n",
    "\n",
    "for label, feature, subject in dataset.take(10):\n",
    "\tprint(f\"label={label}, Number of features={len(feature)}  subject={subject}\")"
   ],
   "id": "d3e3a2e9dbcac170",
   "outputs": [
    {
     "name": "stdout",
     "output_type": "stream",
     "text": [
      "label=0, Number of features=1250  subject=1\n",
      "label=0, Number of features=1250  subject=1\n",
      "label=0, Number of features=1250  subject=1\n",
      "label=0, Number of features=1250  subject=1\n",
      "label=0, Number of features=1250  subject=1\n",
      "label=0, Number of features=1250  subject=1\n",
      "label=0, Number of features=1250  subject=1\n",
      "label=0, Number of features=1250  subject=1\n",
      "label=0, Number of features=1250  subject=1\n",
      "label=0, Number of features=1250  subject=1\n"
     ]
    }
   ],
   "execution_count": 75
  },
  {
   "cell_type": "code",
   "source": [
    "def separate_dataset_per_subject_train_val(dataset_to_separate, sbj, training_percentage):\n",
    "\t# Filtering whole dataset TFRECORDS by subjects:\n",
    "\tdataset_subject = dataset_to_separate.filter(lambda label, feature, subject: subject == sbj)\n",
    "\t# Count Total Samples for each Subject Dataset\n",
    "\tdataset_subject_samples = countRecords(dataset_subject)\n",
    "\t# Shuffling bursts per subject\n",
    "\tdataset_subject_shuffled = dataset_subject.shuffle(dataset_subject_samples)\n",
    "\t# Separating Subject Training and Evaluation Datasets:\n",
    "\tdataset_subject1_train = dataset_subject_shuffled.take(int(dataset_subject_samples * training_percentage))\n",
    "\tdataset_subject1_val = dataset_subject_shuffled.skip(int(dataset_subject_samples * training_percentage)).take(dataset_subject_samples - int(dataset_subject_samples * training_percentage))\n",
    "\treturn dataset_subject_shuffled, dataset_subject1_train, dataset_subject1_val"
   ],
   "metadata": {
    "collapsed": false,
    "ExecuteTime": {
     "end_time": "2024-05-31T14:42:54.135082Z",
     "start_time": "2024-05-31T14:42:54.113040Z"
    }
   },
   "id": "a60fc34550fd0511",
   "outputs": [],
   "execution_count": 76
  },
  {
   "cell_type": "code",
   "source": [
    "# Training/Validation Split\n",
    "train_percentage = 0.8\n",
    "dataset_subject_1, dataset_subject_1_train, dataset_subject_1_val = separate_dataset_per_subject_train_val(dataset, 1, train_percentage)\n",
    "dataset_subject_2, dataset_subject_2_train, dataset_subject_2_val = separate_dataset_per_subject_train_val(dataset, 2, train_percentage)\n",
    "dataset_subject_3, dataset_subject_3_train, dataset_subject_3_val = separate_dataset_per_subject_train_val(dataset, 3, train_percentage)\n",
    "dataset_subject_4, dataset_subject_4_train, dataset_subject_4_val = separate_dataset_per_subject_train_val(dataset, 4, train_percentage)\n",
    "dataset_subject_5, dataset_subject_5_train, dataset_subject_5_val = separate_dataset_per_subject_train_val(dataset, 5, train_percentage)\n",
    "dataset_subject_6, dataset_subject_6_train, dataset_subject_6_val = separate_dataset_per_subject_train_val(dataset, 6, train_percentage)\n",
    "dataset_subject_7, dataset_subject_7_train, dataset_subject_7_val = separate_dataset_per_subject_train_val(dataset, 7, train_percentage)\n",
    "dataset_subject_8, dataset_subject_8_train, dataset_subject_8_val = separate_dataset_per_subject_train_val(dataset, 8, train_percentage)\n",
    "dataset_subject_9, dataset_subject_9_train, dataset_subject_9_val = separate_dataset_per_subject_train_val(dataset, 9, train_percentage)\n",
    "dataset_subject_10,dataset_subject_10_train,dataset_subject_10_val= separate_dataset_per_subject_train_val(dataset, 10,train_percentage)"
   ],
   "metadata": {
    "collapsed": false,
    "ExecuteTime": {
     "end_time": "2024-05-31T14:43:24.527573Z",
     "start_time": "2024-05-31T14:42:54.135082Z"
    }
   },
   "id": "b0375b2c1ecb8fe4",
   "outputs": [],
   "execution_count": 77
  },
  {
   "metadata": {
    "ExecuteTime": {
     "end_time": "2024-05-31T14:43:26.585529Z",
     "start_time": "2024-05-31T14:43:24.527573Z"
    }
   },
   "cell_type": "code",
   "source": [
    "for label, feature, subject in dataset_subject_10.take(10):\n",
    "\tprint(f\"label={label}, Number of features={len(feature)}  subject={subject}\")"
   ],
   "id": "c45dd86d9da711e5",
   "outputs": [
    {
     "name": "stdout",
     "output_type": "stream",
     "text": [
      "label=1, Number of features=1250  subject=10\n",
      "label=3, Number of features=1250  subject=10\n",
      "label=2, Number of features=1250  subject=10\n",
      "label=1, Number of features=1250  subject=10\n",
      "label=1, Number of features=1250  subject=10\n",
      "label=5, Number of features=1250  subject=10\n",
      "label=2, Number of features=1250  subject=10\n",
      "label=3, Number of features=1250  subject=10\n",
      "label=2, Number of features=1250  subject=10\n",
      "label=2, Number of features=1250  subject=10\n"
     ]
    }
   ],
   "execution_count": 78
  },
  {
   "cell_type": "code",
   "source": [
    "# ???????\n",
    "all_subject_datasets_train = [dataset_subject_1_train, dataset_subject_2_train, dataset_subject_3_train,\n",
    "                              dataset_subject_4_train, dataset_subject_5_train, dataset_subject_6_train,\n",
    "                              dataset_subject_7_train, dataset_subject_8_train, dataset_subject_9_train,\n",
    "                              dataset_subject_10_train]\n",
    "\n",
    "all_subject_datasets_val =   [dataset_subject_1_val, dataset_subject_2_val, dataset_subject_3_val,\n",
    "                              dataset_subject_4_val, dataset_subject_5_val, dataset_subject_6_val,\n",
    "                              dataset_subject_7_val, dataset_subject_8_val, dataset_subject_9_val,\n",
    "                              dataset_subject_10_val]"
   ],
   "metadata": {
    "collapsed": false,
    "ExecuteTime": {
     "end_time": "2024-05-31T14:43:26.613524Z",
     "start_time": "2024-05-31T14:43:26.585529Z"
    }
   },
   "id": "94a7cd59e9b8e05c",
   "outputs": [],
   "execution_count": 79
  },
  {
   "cell_type": "code",
   "source": [
    "# ????????????\n",
    "def augment_datasets(collection_datasets, tf_record_name):\n",
    "    with tf.io.TFRecordWriter(tf_record_name) as tfrecord:\n",
    "        # Check if the input is not a list \n",
    "        if not isinstance(collection_datasets, list):\n",
    "            collection_datasets = [collection_datasets]  # Wrap it in a list if it's a single dataset\n",
    "\n",
    "        for dataset in collection_datasets:\n",
    "            for label, feature, subject in dataset:\n",
    "                features = {\n",
    "                    \"label\": tf.train.Feature(int64_list=tf.train.Int64List(value=np.asarray([label]))),\n",
    "                    \"feature\": tf.train.Feature(float_list=tf.train.FloatList(value=np.asarray(feature))),\n",
    "                    \"subject\": tf.train.Feature(int64_list=tf.train.Int64List(value=np.asarray([subject])))\n",
    "                }\n",
    "                example = tf.train.Example(features=tf.train.Features(feature=features))\n",
    "                tfrecord.write(example.SerializeToString())\n",
    "\n",
    "def map_fn_final(serialized_example):\n",
    "\tfeatures = {\n",
    "\t\t\"label\": tf.io.FixedLenFeature([], tf.int64),\n",
    "\t\t\"feature\": tf.io.FixedLenFeature([window], tf.float32),\n",
    "\t\t\"subject\": tf.io.FixedLenFeature([], tf.int64)\n",
    "\t}\n",
    "\texample = tf.io.parse_single_example(serialized_example, features)\n",
    "\treturn example[\"label\"], example[\"feature\"], example[\"subject\"]\n",
    "\n",
    "\n",
    "def mix_shuffle_and_save_datasets(tf_record_read, tf_record_write):\n",
    "\tdataset = tf.data.TFRecordDataset(tf_record_read)\n",
    "\tdataset = dataset.map(map_fn_final)\n",
    "\tdataset_samples = countRecords(dataset)\n",
    "\tdataset_shuffled = dataset.shuffle(dataset_samples)\n",
    "\n",
    "\twith tf.io.TFRecordWriter(tf_record_write) as tfrecord:\n",
    "\t\tfor label, feature, subject in dataset_shuffled:\n",
    "\t\t\tfeatures = {\n",
    "\t\t\t\t\"label\": tf.train.Feature(int64_list=tf.train.Int64List(value=[label.numpy()])),\n",
    "\t\t\t\t\"feature\": tf.train.Feature(float_list=tf.train.FloatList(value=feature.numpy())),\n",
    "\t\t\t\t\"subject\": tf.train.Feature(int64_list=tf.train.Int64List(value=[subject.numpy()]))\n",
    "\t\t\t}\n",
    "\t\t\texample = tf.train.Example(features=tf.train.Features(feature=features))\n",
    "\t\t\ttfrecord.write(example.SerializeToString())"
   ],
   "metadata": {
    "collapsed": false,
    "ExecuteTime": {
     "end_time": "2024-05-31T14:43:26.635072Z",
     "start_time": "2024-05-31T14:43:26.616549Z"
    }
   },
   "id": "fe00b17fb70892b6",
   "outputs": [],
   "execution_count": 80
  },
  {
   "metadata": {
    "ExecuteTime": {
     "end_time": "2024-05-31T14:45:28.078056Z",
     "start_time": "2024-05-31T14:43:26.635072Z"
    }
   },
   "cell_type": "code",
   "source": [
    "# Augment datasets \n",
    "pbar = tqdm(total=len(list_of_all_subjects_dfs)+2, desc=\"Datasets Augmentation Progress\", unit= \"Dataset\")\n",
    "augment_datasets(all_subject_datasets_train, f\"tfrecords/augmented_train_{window}ms.tfrecord\")\n",
    "pbar.update(1)\n",
    "augment_datasets(all_subject_datasets_val, f\"tfrecords/augmented_val_{window}ms.tfrecord\")\n",
    "pbar.update(1)\n",
    "augment_datasets(dataset_subject_1, f\"tfrecords/augmented_dataset_subject_1_{window}ms\")\n",
    "pbar.update(1)\n",
    "augment_datasets(dataset_subject_2, f\"tfrecords/augmented_dataset_subject_2_{window}ms\")\n",
    "pbar.update(1)\n",
    "augment_datasets(dataset_subject_3, f\"tfrecords/augmented_dataset_subject_3_{window}ms\")\n",
    "pbar.update(1)\n",
    "augment_datasets(dataset_subject_4, f\"tfrecords/augmented_dataset_subject_4_{window}ms\")\n",
    "pbar.update(1)\n",
    "augment_datasets(dataset_subject_5, f\"tfrecords/augmented_dataset_subject_5_{window}ms\")\n",
    "pbar.update(1)\n",
    "augment_datasets(dataset_subject_6, f\"tfrecords/augmented_dataset_subject_6_{window}ms\")\n",
    "pbar.update(1)\n",
    "augment_datasets(dataset_subject_7, f\"tfrecords/augmented_dataset_subject_7_{window}ms\")\n",
    "pbar.update(1)\n",
    "augment_datasets(dataset_subject_8, f\"tfrecords/augmented_dataset_subject_8_{window}ms\")\n",
    "pbar.update(1)\n",
    "augment_datasets(dataset_subject_9, f\"tfrecords/augmented_dataset_subject_9_{window}ms\")\n",
    "pbar.update(1)\n",
    "augment_datasets(dataset_subject_10,f\"tfrecords/augmented_dataset_subject_10_{window}ms\")\n",
    "pbar.update(1)"
   ],
   "id": "d0d42cb584de28e9",
   "outputs": [
    {
     "data": {
      "text/plain": [
       "Datasets Augmentation Progress:   0%|          | 0/12 [00:00<?, ?Dataset/s]"
      ],
      "application/vnd.jupyter.widget-view+json": {
       "version_major": 2,
       "version_minor": 0,
       "model_id": "f54d984590ed4a4ca864b0219b6419f1"
      }
     },
     "metadata": {},
     "output_type": "display_data"
    },
    {
     "data": {
      "text/plain": [
       "True"
      ]
     },
     "execution_count": 81,
     "metadata": {},
     "output_type": "execute_result"
    }
   ],
   "execution_count": 81
  },
  {
   "cell_type": "code",
   "source": [
    "#Mix and shuffle then save datasets \n",
    "pbar = tqdm(total=len(list_of_all_subjects_dfs)+2, desc=\"Datasets \\\"Mix and Shuffle\\\" Progress\", unit= \"Dataset\")\n",
    "mix_shuffle_and_save_datasets(f\"tfrecords/augmented_train_{window}ms.tfrecord\", f\"tfrecords/all_mixed_train_{window}ms.tfrecord\")\n",
    "pbar.update(1)\n",
    "mix_shuffle_and_save_datasets(f\"tfrecords/augmented_val_{window}ms.tfrecord\", f\"tfrecords/all_mixed_val_{window}ms.tfrecord\")\n",
    "pbar.update(1)\n",
    "mix_shuffle_and_save_datasets(f\"tfrecords/augmented_dataset_subject_1_{window}ms\", f\"tfrecords/mixed_shuffled_subject_1_{window}ms\")\n",
    "pbar.update(1)\n",
    "mix_shuffle_and_save_datasets(f\"tfrecords/augmented_dataset_subject_2_{window}ms\", f\"tfrecords/mixed_shuffled_subject_2_{window}ms\")\n",
    "pbar.update(1)\n",
    "mix_shuffle_and_save_datasets(f\"tfrecords/augmented_dataset_subject_3_{window}ms\", f\"tfrecords/mixed_shuffled_subject_3_{window}ms\")\n",
    "pbar.update(1)\n",
    "mix_shuffle_and_save_datasets(f\"tfrecords/augmented_dataset_subject_4_{window}ms\", f\"tfrecords/mixed_shuffled_subject_4_{window}ms\")\n",
    "pbar.update(1)\n",
    "mix_shuffle_and_save_datasets(f\"tfrecords/augmented_dataset_subject_5_{window}ms\", f\"tfrecords/mixed_shuffled_subject_5_{window}ms\")\n",
    "pbar.update(1)\n",
    "mix_shuffle_and_save_datasets(f\"tfrecords/augmented_dataset_subject_6_{window}ms\", f\"tfrecords/mixed_shuffled_subject_6_{window}ms\")\n",
    "pbar.update(1)\n",
    "mix_shuffle_and_save_datasets(f\"tfrecords/augmented_dataset_subject_7_{window}ms\", f\"tfrecords/mixed_shuffled_subject_7_{window}ms\")\n",
    "pbar.update(1)\n",
    "mix_shuffle_and_save_datasets(f\"tfrecords/augmented_dataset_subject_8_{window}ms\", f\"tfrecords/mixed_shuffled_subject_8_{window}ms\")\n",
    "pbar.update(1)\n",
    "mix_shuffle_and_save_datasets(f\"tfrecords/augmented_dataset_subject_9_{window}ms\", f\"tfrecords/mixed_shuffled_subject_9_{window}ms\")\n",
    "pbar.update(1)\n",
    "mix_shuffle_and_save_datasets(f\"tfrecords/augmented_dataset_subject_10_{window}ms\",f\"tfrecords/mixed_shuffled_subject_10_{window}ms\")\n",
    "pbar.update(1)"
   ],
   "metadata": {
    "collapsed": false,
    "ExecuteTime": {
     "end_time": "2024-05-31T14:46:27.508517Z",
     "start_time": "2024-05-31T14:45:28.083150Z"
    }
   },
   "id": "4eaafc8f73cacd8e",
   "outputs": [
    {
     "data": {
      "text/plain": [
       "Datasets \"Mix and Shuffle\" Progress:   0%|          | 0/12 [00:00<?, ?Dataset/s]"
      ],
      "application/vnd.jupyter.widget-view+json": {
       "version_major": 2,
       "version_minor": 0,
       "model_id": "1a5615ea5ed64411a9133452ed1abedb"
      }
     },
     "metadata": {},
     "output_type": "display_data"
    },
    {
     "data": {
      "text/plain": [
       "True"
      ]
     },
     "execution_count": 82,
     "metadata": {},
     "output_type": "execute_result"
    }
   ],
   "execution_count": 82
  },
  {
   "cell_type": "markdown",
   "source": "### TFRecords Loading",
   "metadata": {
    "collapsed": false
   },
   "id": "dac32b33347666fa"
  },
  {
   "metadata": {},
   "cell_type": "code",
   "source": [
    "AUTOTUNE = tf.data.experimental.AUTOTUNE\n",
    "BATCH_SIZE = 1024"
   ],
   "id": "9a869b4a78f96a29",
   "outputs": [],
   "execution_count": null
  },
  {
   "cell_type": "code",
   "source": [
    "def read_tfrecord(serialized_example, export_subject=False):\n",
    "\ttfrecord_format = (\n",
    "\t\t{\n",
    "\t\t\t\"label\": tf.io.FixedLenFeature([], tf.int64),\n",
    "\t\t\t\"feature\": tf.io.FixedLenFeature([window], tf.float32),\n",
    "\t\t\t\"subject\": tf.io.FixedLenFeature([], tf.int64)\n",
    "\t\t}\n",
    "\t)\n",
    "\texample = tf.io.parse_single_example(serialized_example, tfrecord_format)\n",
    "\tf = tf.reshape(example[\"feature\"], [window,1])\n",
    "\tf.set_shape([window, 1])\n",
    "\t# One-hot encode the label to match the expected shape for categorical_crossentropy\n",
    "\tlabel = tf.one_hot(example[\"label\"], depth=7) \n",
    "\tif export_subject:\n",
    "\t\treturn f, label, example[\"subject\"]\n",
    "\treturn f, label\n",
    "\n",
    "def get_dataset(tf_record_name, train_or_valid):\n",
    "\tdataset = tf.data.TFRecordDataset(tf_record_name)\n",
    "\tdataset = dataset.map(read_tfrecord, num_parallel_calls=AUTOTUNE)\n",
    "\tdataset_samples = countRecords(dataset)\n",
    "\tprint(f\" - Number of {train_or_valid} Samples: \", dataset_samples)\n",
    "\tdataset = dataset.shuffle(dataset_samples)\n",
    "\tdataset = dataset.prefetch(buffer_size=AUTOTUNE)\n",
    "\tdataset = dataset.batch(BATCH_SIZE)\n",
    "\treturn dataset"
   ],
   "metadata": {
    "collapsed": false
   },
   "id": "48547a8332d332b6",
   "outputs": [],
   "execution_count": null
  },
  {
   "cell_type": "code",
   "source": [
    "print(\"## For Intrapersonal-CV:\")\n",
    "train_dataset = get_dataset(f\"tfrecords/all_mixed_train_{window}ms.tfrecord\", \"Train\")\n",
    "valid_dataset = get_dataset(f\"tfrecords/all_mixed_val_{window}ms.tfrecord\", \"Validation\")\n",
    "print(\"\\n ## For Interpersonal-LOSOCV:\")\n",
    "all_subjects_loo_data = [get_dataset(f\"tfrecords/mixed_shuffled_subject_{i}_{window}ms\", f\"Subject_{i}\") for i in range(1, 11)]"
   ],
   "metadata": {
    "collapsed": false
   },
   "id": "6e9f683dfc88431e",
   "outputs": [],
   "execution_count": null
  },
  {
   "metadata": {},
   "cell_type": "markdown",
   "source": "### TFRecords Verification",
   "id": "f54673ea25972cdf"
  },
  {
   "cell_type": "markdown",
   "source": "#### Verifying the shapes of: LOO, Training and Validation",
   "metadata": {
    "collapsed": false
   },
   "id": "46dcef478b869dbf"
  },
  {
   "cell_type": "code",
   "source": [
    "print(\"# Training:\")\n",
    "for feature, label in train_dataset:\n",
    "\tprint(f\"\\t - label={label.shape}, feature={feature.shape}\")"
   ],
   "metadata": {
    "collapsed": false
   },
   "id": "d57b18567e25a41",
   "outputs": [],
   "execution_count": null
  },
  {
   "cell_type": "code",
   "source": [
    "print(\"# Validation:\")\n",
    "for feature, label in valid_dataset:\n",
    "\tprint(f\"\\t - label={label.shape}, feature={feature.shape}\")"
   ],
   "metadata": {
    "collapsed": false
   },
   "id": "22217c55fb931b9e",
   "outputs": [],
   "execution_count": null
  },
  {
   "metadata": {},
   "cell_type": "code",
   "source": [
    "for subj_idx, subj in enumerate(all_subjects_loo_data):\t\n",
    "\tprint(f\"# Subject_{subj_idx+1}:\")\n",
    "\tfor feature, label in subj:\n",
    "\t\tprint(f\"\\t - label={label.shape}, feature={feature.shape}\")"
   ],
   "id": "9ecf6ac9c0ceacfb",
   "outputs": [],
   "execution_count": null
  },
  {
   "cell_type": "markdown",
   "source": "#### Plotting Muscle Bursts Samples",
   "metadata": {
    "collapsed": false
   },
   "id": "44b360a2c0a3a554"
  },
  {
   "cell_type": "code",
   "source": [
    "# quick plot to see individual contraction bursts\n",
    "def plot_independent_bursts(label, burst_list, color):\n",
    "    n_cols = len(burst_list)  # number of subjects\n",
    "    fig, axs = plt.subplots(1, n_cols, figsize=(15, 3), dpi=150)  #  figure size\n",
    "    fig.subplots_adjust(top=0.85)  #  top spacing\n",
    "    fig.suptitle(f\"Contraction Bursts: {label} ({window}ms Fixed Length)\", y=0.95)  #  title position\n",
    "\n",
    "    for j in range(n_cols):\n",
    "        axs[j].plot(burst_list[j][0], color=color)  # Assuming you want the first burst\n",
    "        axs[j].set_title(f\"1st Burst of subject {j+1}\", fontsize=10)\n",
    "        axs[j].set_xlabel(\"time (ms)\", fontsize=8)\n",
    "        axs[j].set_ylabel(\"EMG\", fontsize=8)\n",
    "        axs[j].label_outer()  # Hide x labels and tick labels for top plots and y ticks for right plots.\n",
    "\n",
    "    plt.tight_layout(pad=2.0, w_pad=0.5)  # Dynamically adjust layout\n",
    "    plt.show()\n",
    "\n",
    "plot_independent_bursts(\"TA\", fixed_bursts_TA, \"cornflowerblue\")\n",
    "plot_independent_bursts(\"MG\", fixed_bursts_MG, \"orange\")\n",
    "plot_independent_bursts(\"SOL\",fixed_bursts_SOL,\"red\")\n",
    "plot_independent_bursts(\"BF\", fixed_bursts_BF, \"green\")\n",
    "plot_independent_bursts(\"ST\", fixed_bursts_ST, \"orange\")\n",
    "plot_independent_bursts(\"VL\", fixed_bursts_VL, \"cyan\")\n",
    "plot_independent_bursts(\"RF\", fixed_bursts_RF, \"brown\")"
   ],
   "metadata": {
    "collapsed": false
   },
   "id": "1dcb34cab3aec956",
   "outputs": [],
   "execution_count": null
  },
  {
   "metadata": {},
   "cell_type": "markdown",
   "source": "## 4) Hybrid CNN-LSTM Model",
   "id": "7e05dd1df6919ff9"
  },
  {
   "metadata": {},
   "cell_type": "markdown",
   "source": "### Useful Functions for Training & Results Visualisation",
   "id": "ce1c5d6e9e2100a8"
  },
  {
   "metadata": {},
   "cell_type": "code",
   "source": [
    "def clear_and_create_directory(directory):\n",
    "\t\"\"\"Check if a directory exists and clear it, then recreate it.\"\"\"\n",
    "\tif os.path.exists(directory):\n",
    "\t\t# Remove the directory and all its contents\n",
    "\t\tshutil.rmtree(directory)\n",
    "\t\tprint(f\"Old \\\"{directory}\\\" directory of the previous model deleted!\")\n",
    "\t# Create the directory again\n",
    "\tos.makedirs(directory, exist_ok=True)"
   ],
   "id": "a9de83a7dee9a4fc",
   "outputs": [],
   "execution_count": null
  },
  {
   "metadata": {},
   "cell_type": "code",
   "source": [
    "def plotting_loss_and_accuracy_over_epochs(history_namee, title, is_to_show=False):\n",
    "\th = np.load(history_namee + '.npy', allow_pickle=True).item()\n",
    "\n",
    "\tmin_val_categ_crossentropy = round(min(h['val_loss']), 4)\n",
    "\tbest_v_accu = round(max(h['val_accuracy']), 3) * 100\n",
    "\n",
    "\t# Find the epoch with the best validation accuracy\n",
    "\tbest_val_acc_epoch = np.argmax(h['val_accuracy'])\n",
    "\n",
    "\tfig, (ax1, ax2) = plt.subplots(1, 2, figsize=(15, 5))\n",
    "\tfig.suptitle(title, fontsize=18, y=0.99)\n",
    "\tax1.set_title(f'Loss Function (min_categ_crossentropy={min_val_categ_crossentropy})')\n",
    "\tax2.set_title(f'Accuracy (best_val_acc={best_v_accu}%)')\n",
    "\tax1.set(xlabel='Epoch', ylabel='Loss (Categorical Crossentropy)')\n",
    "\tax2.set(xlabel='Epoch', ylabel='Accuracy')\n",
    "\n",
    "\tax1.plot(h['loss'], color=\"cornflowerblue\", linewidth=3)\n",
    "\tax1.plot(h['val_loss'], color=\"lightsteelblue\", linewidth=3)\n",
    "\tax1.legend(['Training Loss', 'Validation Loss'])\n",
    "\tax1.grid(True)\n",
    "\n",
    "\tax2.plot(h['accuracy'], color=\"gold\", linewidth=3)\n",
    "\tax2.plot(h['val_accuracy'], color=\"darkorange\", linewidth=3)\n",
    "\tax2.legend(['Training Accuracy', 'Validation Accuracy'])\n",
    "\tax2.grid(True)\n",
    "\n",
    "\t# Adds a red 'X' mark at the epoch where the best validation accuracy occurs\n",
    "\tax2.scatter(best_val_acc_epoch, h['val_accuracy'][best_val_acc_epoch], color='red', marker='X', s=100)\n",
    "\n",
    "\tplt.savefig(f\"results_figures/{title}.png\")\n",
    "\n",
    "\tif is_to_show:\n",
    "\t\tplt.show()"
   ],
   "id": "b5a571272240bff3",
   "outputs": [],
   "execution_count": null
  },
  {
   "metadata": {},
   "cell_type": "code",
   "outputs": [],
   "execution_count": null,
   "source": [
    "# Function to plot combined loss and accuracy\n",
    "def plot_combined_loss_and_accuracy(histories, title, is_to_show=False):\n",
    "\tnum_epochs = len(histories[0]['loss'])\n",
    "\n",
    "\t# Initialize lists to store summed values\n",
    "\tsum_train_loss = np.zeros(num_epochs)\n",
    "\tsum_val_loss = np.zeros(num_epochs)\n",
    "\tsum_train_accuracy = np.zeros(num_epochs)\n",
    "\tsum_val_accuracy = np.zeros(num_epochs)\n",
    "\n",
    "\t# Sum values for all subjects\n",
    "\tfor h in histories:\n",
    "\t\tsum_train_loss += np.array(h['loss'])\n",
    "\t\tsum_val_loss += np.array(h['val_loss'])\n",
    "\t\tsum_train_accuracy += np.array(h['accuracy'])\n",
    "\t\tsum_val_accuracy += np.array(h['val_accuracy'])\n",
    "\n",
    "\t# Calculate averages\n",
    "\tavg_train_loss = sum_train_loss / len(histories)\n",
    "\tavg_val_loss = sum_val_loss / len(histories)\n",
    "\tavg_train_accuracy = sum_train_accuracy / len(histories)\n",
    "\tavg_val_accuracy = sum_val_accuracy / len(histories)\n",
    "\n",
    "\tmin_val_categ_crossentropy = round(min(avg_val_loss), 4)\n",
    "\tbest_v_accu = round(max(avg_val_accuracy), 3) * 100\n",
    "\n",
    "\t# Find the epoch with the best validation accuracy\n",
    "\tbest_val_acc_epoch = np.argmax(avg_val_accuracy)\n",
    "\n",
    "\t# Plotting\n",
    "\tfig, (ax1, ax2) = plt.subplots(1, 2, figsize=(15, 5))\n",
    "\tfig.suptitle(title, fontsize=18, y=0.99)\n",
    "\tax1.set_title(f'Loss Function (min_categ_crossentropy={min_val_categ_crossentropy})')\n",
    "\tax2.set_title(f'Accuracy (best_val_acc={best_v_accu}%)')\n",
    "\tax1.set(xlabel='Epoch', ylabel='Loss (Categorical Crossentropy)')\n",
    "\tax2.set(xlabel='Epoch', ylabel='Accuracy')\n",
    "\n",
    "\tax1.plot(avg_train_loss, color=\"cornflowerblue\", linewidth=3)\n",
    "\tax1.plot(avg_val_loss, color=\"lightsteelblue\", linewidth=3)\n",
    "\tax1.legend(['Training Loss', 'Validation Loss'])\n",
    "\tax1.grid(True)\n",
    "\n",
    "\tax2.plot(avg_train_accuracy, color=\"gold\", linewidth=3)\n",
    "\tax2.plot(avg_val_accuracy, color=\"darkorange\", linewidth=3)\n",
    "\tax2.legend(['Training Accuracy', 'Validation Accuracy'])\n",
    "\tax2.grid(True)\n",
    "\n",
    "\t# Adds a red 'X' mark at the epoch where the best validation accuracy occurs\n",
    "\tax2.scatter(best_val_acc_epoch, avg_val_accuracy[best_val_acc_epoch], color='red', marker='X', s=100)\n",
    "\n",
    "\tplt.savefig(f\"results_figures/{title}.png\")\n",
    "\n",
    "\tif is_to_show:\n",
    "\t\tplt.show()"
   ],
   "id": "8558869f80e453a3"
  },
  {
   "metadata": {},
   "cell_type": "code",
   "source": [
    "def serializing_datasets(train_dataset_to_serialize, valid_dataset_to_serialize):\n",
    "    train_features_list = [] ; train_labels_list = []\n",
    "    valid_features_list = [] ; valid_labels_list = []\n",
    "\n",
    "    for feature_array, label_array in train_dataset_to_serialize:\n",
    "        for i in range(label_array.shape[0]):\n",
    "            train_features_list.append(feature_array[i])\n",
    "            train_labels_list.append(label_array[i])\n",
    "\t\t    \n",
    "    for feature_array, label_array in valid_dataset_to_serialize:\n",
    "        for i in range(label_array.shape[0]):\n",
    "            valid_features_list.append(feature_array[i])\n",
    "            valid_labels_list.append(label_array[i])\n",
    "\n",
    "    train_features = np.array(train_features_list); train_labels = np.array(train_labels_list)\n",
    "    valid_features = np.array(valid_features_list); valid_labels = np.array(valid_labels_list)\n",
    "    \n",
    "    return train_features, train_labels, valid_features, valid_labels"
   ],
   "id": "a7ed31e7850fd38",
   "outputs": [],
   "execution_count": null
  },
  {
   "metadata": {},
   "cell_type": "code",
   "source": [
    "\n",
    "def plot_confusion_matrix(x, y, color, title, is_to_show=False):\n",
    "\t# Find the filename of the best model saved during training\n",
    "\tbest_model_filename = max(glob.glob('model1/best_model_epoch_*_val_acc_*.h5'), key=os.path.getctime)\n",
    "\n",
    "\t# Load the best model\n",
    "\tbest_model = load_model(best_model_filename)\n",
    "\n",
    "\t# Make predictions using the best model\n",
    "\tpredictions_hot = best_model.predict(x)\n",
    "\tpredictions = np.argmax(predictions_hot, axis=1)\n",
    "\n",
    "\t# Suppress scientific notation for numpy arrays\n",
    "\tnp.set_printoptions(suppress=True)\n",
    "\n",
    "\t# Print first 30 predicted values\n",
    "\tprint(\"Some y Predicted\\t\", predictions[:30])\n",
    "\n",
    "\t# Convert y to a list of labels and print first 30 labels\n",
    "\ty_list = np.argmax(y, axis=1)\n",
    "\tprint(\"Some y Label\\t\\t\", y_list[:30])\n",
    "\n",
    "\t# Compute the confusion matrix\n",
    "\tcm = confusion_matrix(y_list, predictions)\n",
    "\n",
    "\t# Plot the confusion matrix\n",
    "\tplt.figure(figsize=(15, 10))\n",
    "\tax = sn.heatmap(cm, annot=True, cmap=color, fmt='d')\n",
    "\tax.set_xlabel('Predicted Values')\n",
    "\tax.set_ylabel('Actual Values ')\n",
    "\tax.xaxis.set_ticklabels(muscles)\n",
    "\tax.yaxis.set_ticklabels(muscles)\n",
    "\n",
    "\t# Set precision for numpy print options\n",
    "\tnp.set_printoptions(precision=3)\n",
    "\n",
    "\t# Calculate precision, recall, and F1 score\n",
    "\tprecision, recall, f1, _ = score(np.argmax(y, axis=1), np.argmax(predictions_hot, axis=1))\n",
    "\tf1_micro = f1_score(np.argmax(y, axis=1), np.argmax(predictions_hot, axis=1), average='micro')\n",
    "\n",
    "\t# Print precision, recall, and F1 scores\n",
    "\tprint(f'precision: {precision}')\n",
    "\tprint(f'recall: {recall}')\n",
    "\tprint(f'fscore: {f1}')\n",
    "\tprint(f'fscore_micro: {f1_micro:.3f}')\n",
    "\n",
    "\t# Add F1 score to the title and set plot title and axis positions\n",
    "\ttitle = title + f'(F1score_micro = {f1_micro:.3})'\n",
    "\tax.set_title(title + '\\n\\n')\n",
    "\tax.xaxis.set_label_position('top')\n",
    "\tax.xaxis.set_ticks_position('top')\n",
    "\n",
    "\t# Save the plot as a PNG file\n",
    "\tplt.savefig(f\"results_figures/{title}.png\")\n",
    "\n",
    "\t# Show the plot if is_to_show is True\n",
    "\tif is_to_show:\n",
    "\t\tplt.show()\n",
    "\n",
    "\t# Return precision, recall, F1 score, and micro F1 score\n",
    "\treturn precision, recall, f1, f1_micro"
   ],
   "id": "fa86f0b65ec8fd58",
   "outputs": [],
   "execution_count": null
  },
  {
   "metadata": {},
   "cell_type": "code",
   "outputs": [],
   "execution_count": null,
   "source": [
    "def plot_average_wrong_classification_percentages(all_percentages):\n",
    "\t# Convert list of arrays into a single 2D array for easier manipulation\n",
    "\tall_percentages = np.array(all_percentages)\n",
    "\n",
    "\t# Calculate the average and standard deviation of each muscle's wrong classification percentage\n",
    "\taverage_percentages = np.mean(all_percentages, axis=0)\n",
    "\tstd_percentages = np.std(all_percentages, axis=0)\n",
    "\ttitle_avg = \"Interpersonal Overall Validation Percentages of Wrongly Classified Muscles\"\n",
    "\n",
    "\t# Setting the plotting area and style\n",
    "\tsn.set(style=\"whitegrid\")\n",
    "\tplt.figure(figsize=(10, 6))\n",
    "\n",
    "\t# Plot for average percentages with error bars\n",
    "\tbars_avg = sn.barplot(x=muscles, y=average_percentages, palette=\"viridis\", ci=None)\n",
    "\tplt.errorbar(x=muscles, y=average_percentages, yerr=std_percentages, fmt='none', ecolor='black', elinewidth=2,\n",
    "\t             capsize=5, capthick=2, marker='o', markersize=5)\n",
    "\tplt.xlabel('Muscles')\n",
    "\tplt.ylabel('Average Percentage of Wrong Classifications')\n",
    "\tplt.title(title_avg)\n",
    "\tplt.xticks(rotation=45)\n",
    "\tplt.tight_layout()\n",
    "\tplt.savefig(f\"results_figures/{title_avg}.png\")\n",
    "\tplt.show()"
   ],
   "id": "e22ca924055d9f00"
  },
  {
   "metadata": {},
   "cell_type": "code",
   "source": [
    "def plot_wrong_classification_percentages(model, x_data, y_data, title, is_to_show=False):\n",
    "\t# Ensure data is numpy array for compatibility with np.argmax and np.where!!!!!!!!!!!\n",
    "\tpredictions = model.predict(x_data)\n",
    "\tpredicted_labels = np.argmax(predictions, axis=1)\n",
    "\tactual_labels = np.argmax(y_data, axis=1)\n",
    "\n",
    "\t# # Making sure labels are numpy arrays\n",
    "\t# if not isinstance(predicted_labels, np.ndarray):\n",
    "\t# \tpredicted_labels = np.array(predicted_labels)\n",
    "\t# if not isinstance(actual_labels, np.ndarray):\n",
    "\t# \tactual_labels = np.array(actual_labels)\n",
    "\n",
    "\t# Find incorrect indices using numpy operations\n",
    "\tincorrect_indices = np.where(predicted_labels != actual_labels)[0]\n",
    "\n",
    "\t# Count the frequency of each wrongly predicted muscle\n",
    "\terror_counts = {muscle: 0 for muscle in muscles}\n",
    "\tfor label in actual_labels[incorrect_indices]:\n",
    "\t\tmuscle_name = muscles[label]\n",
    "\t\terror_counts[muscle_name] += 1\n",
    "\n",
    "\t# Calculate percentages\n",
    "\ttotal_incorrect = len(incorrect_indices)\n",
    "\tpercentages = [100 * count / total_incorrect for count in error_counts.values()]\n",
    "\n",
    "\t# Plotting\n",
    "\tsn.set(style=\"whitegrid\")\n",
    "\tplt.figure(figsize=(10, 6))\n",
    "\tbars = sn.barplot(x=list(error_counts.keys()), y=percentages, palette=\"viridis\")\n",
    "\tplt.xlabel('Muscles')\n",
    "\tplt.ylabel('Percentage of Wrong Classifications')\n",
    "\tplt.title(title)\n",
    "\tplt.xticks(rotation=45)\n",
    "\n",
    "\t# Adding text labels for percentages\n",
    "\tfor p, pct in zip(bars.patches, percentages):\n",
    "\t\tbars.annotate(f\"{pct:.1f}%\", (p.get_x() + p.get_width() / 2., p.get_height()),\n",
    "\t\t              ha='center', va='center', fontsize=12, color='black', xytext=(0, 10),\n",
    "\t\t              textcoords='offset points')\n",
    "\tplt.tight_layout()\n",
    "\tplt.savefig(f\"results_figures/{title}.png\")\n",
    "\n",
    "\tif is_to_show:\n",
    "\t\tplt.show()\n",
    "\t\t\n",
    "\treturn np.array(percentages)"
   ],
   "id": "5449857b5ca83323",
   "outputs": [],
   "execution_count": null
  },
  {
   "metadata": {},
   "cell_type": "code",
   "source": [
    "def display_classification_samples(model, x_data, y_data, title, num_samples_per_row=4, total_samples=12,\n",
    "                                   is_to_show=False):\n",
    "\t# Make predictions\n",
    "\tpredictions = model.predict(x_data)\n",
    "\tpredicted_labels = np.argmax(predictions, axis=1)\n",
    "\tactual_labels = np.argmax(y_data, axis=1)\n",
    "\n",
    "\t# Find correct and incorrect indices\n",
    "\tcorrect_indices = np.where(predicted_labels == actual_labels)[0]\n",
    "\tincorrect_indices = np.where(predicted_labels != actual_labels)[0]\n",
    "\n",
    "\t# Select random samples from correct and incorrect classifications\n",
    "\tif len(correct_indices) > total_samples:\n",
    "\t\tselected_correct = np.random.choice(correct_indices, total_samples, replace=False)\n",
    "\telse:\n",
    "\t\tselected_correct = correct_indices\n",
    "\n",
    "\tif len(incorrect_indices) > total_samples:\n",
    "\t\tselected_incorrect = np.random.choice(incorrect_indices, total_samples, replace=False)\n",
    "\telse:\n",
    "\t\tselected_incorrect = incorrect_indices\n",
    "\n",
    "\t# Plotting\n",
    "\tfig, axes = plt.subplots(4, num_samples_per_row, figsize=(3 * num_samples_per_row, 10), constrained_layout=True)\n",
    "\tfig.suptitle(title, fontsize=16)\n",
    "\n",
    "\t# Plot correct classifications\n",
    "\tfor row in range(2):\n",
    "\t\tfor idx in range(num_samples_per_row):\n",
    "\t\t\tax = axes[row, idx]\n",
    "\t\t\treal_idx = idx + row * num_samples_per_row\n",
    "\t\t\tif real_idx < len(selected_correct):\n",
    "\t\t\t\tax.plot(x_data[selected_correct[real_idx]])\n",
    "\t\t\t\tax.set_title(f\"Correct: {muscles[actual_labels[selected_correct[real_idx]]]}\", color='lime',\n",
    "\t\t\t\t             fontsize=10)\n",
    "\t\t\t\tax.set_xlabel('Time')\n",
    "\t\t\t\tax.set_ylabel('Amplitude')\n",
    "\t\t\t\tax.set_ylim([-0.3, 0.3])\n",
    "\t\t\t\tax.grid(True)\n",
    "\t\t\telse:\n",
    "\t\t\t\tax.set_visible(False)  # Hide unused axes\n",
    "\n",
    "\t# Plot incorrect classifications\n",
    "\t# Adding a second title\n",
    "\t# fig.text(0.5, 0.5, 'Incorrectly Classified:', ha='center', va='center', fontsize=14, fontweight='bold')\n",
    "\tfor row in range(2, 4):\n",
    "\t\tfor idx in range(num_samples_per_row):\n",
    "\t\t\tax = axes[row, idx]\n",
    "\t\t\treal_idx = idx + (row - 2) * num_samples_per_row\n",
    "\t\t\tif real_idx < len(selected_incorrect):\n",
    "\t\t\t\tax.plot(x_data[selected_incorrect[real_idx]])\n",
    "\t\t\t\tax.set_title(\n",
    "\t\t\t\t\tf\"Wrong: {muscles[predicted_labels[selected_incorrect[real_idx]]]} (True: {muscles[actual_labels[selected_incorrect[real_idx]]]})\",\n",
    "\t\t\t\t\tcolor='red', fontsize=10)\n",
    "\t\t\t\tax.set_xlabel('Time')\n",
    "\t\t\t\tax.set_ylabel('Amplitude')\n",
    "\t\t\t\tax.set_ylim([-0.3, 0.3])\n",
    "\t\t\t\tax.grid(True)\n",
    "\n",
    "\tplt.savefig(f\"results_figures/{title}.png\")\n",
    "\tif is_to_show:\n",
    "\t\tplt.show()"
   ],
   "id": "c27a679849f66354",
   "outputs": [],
   "execution_count": null
  },
  {
   "metadata": {},
   "cell_type": "code",
   "source": [
    "def plot_interpersonal_metrics_bar(all_interpersonal_precision, all_interpersonal_recall, all_interpersonal_f1_list,\n",
    "                                   all_interpersonal_f1_micro_list):\n",
    "\t# Helper function to ensure metrics are single values\n",
    "\tdef ensure_single_value(metrics):\n",
    "\t\tif isinstance(metrics[0], (list, np.ndarray)):  # checks if the first element is a list or ndarray\n",
    "\t\t\tmetrics = [np.mean(metric) for metric in metrics]\n",
    "\t\treturn metrics\n",
    "\n",
    "\t# Ensuring each metric is a single value by averaging if necessary\n",
    "\tall_interpersonal_precision = ensure_single_value(all_interpersonal_precision)\n",
    "\tall_interpersonal_recall = ensure_single_value(all_interpersonal_recall)\n",
    "\tall_interpersonal_f1_list = ensure_single_value(all_interpersonal_f1_list)\n",
    "\tall_interpersonal_f1_micro_list = ensure_single_value(all_interpersonal_f1_micro_list)\n",
    "\n",
    "\tsubjects_names = [f\"Subject_{subjects[i]}\" for i in range(len(all_interpersonal_precision))]\n",
    "\n",
    "\t# Create a figure with subplots\n",
    "\tfig, axs = plt.subplots(2, 2, figsize=(20, 12))  # (15,12) before\n",
    "\tfig.suptitle('Interpersonal LOSOCV Validation Metrics Comparison', fontsize=18)\n",
    "\tbar_width = 0.35\n",
    "\n",
    "\t# Helper function to add value labels on top of bars\n",
    "\tdef add_value_labels(ax):\n",
    "\t\tfor i in ax.patches:\n",
    "\t\t\tax.text(i.get_x() + i.get_width() / 2, i.get_height(),\n",
    "\t\t\t        round(i.get_height(), 2), ha='center', va='bottom')\n",
    "\n",
    "\t# Plot each metric with rotated x-axis labels\n",
    "\tfor ax in axs.flat:\n",
    "\t\tax.set_xticks(range(len(subjects_names)))\n",
    "\t\tax.set_xticklabels(subjects_names, rotation=45, ha=\"right\")  \n",
    "\n",
    "\t# Plotting Precision\n",
    "\taxs[0, 0].bar(subjects_names, all_interpersonal_precision, color='b', width=bar_width)\n",
    "\taxs[0, 0].set_title(\n",
    "\t\tf'Interpersonal Precision (Overall Precision = {round(np.mean(all_interpersonal_precision), 3)})')\n",
    "\taxs[0, 0].set_xlabel('Subjects')\n",
    "\taxs[0, 0].set_ylabel('Precision')\n",
    "\taxs[0, 0].set_ylim([0, 1])\n",
    "\tadd_value_labels(axs[0, 0])\n",
    "\n",
    "\t# Plotting Recall\n",
    "\taxs[0, 1].bar(subjects_names, all_interpersonal_recall, color='r', width=bar_width)\n",
    "\taxs[0, 1].set_title(f'Interpersonal Recall (Overall Recall = {round(np.mean(all_interpersonal_recall), 3)})')\n",
    "\taxs[0, 1].set_xlabel('Subjects')\n",
    "\taxs[0, 1].set_ylabel('Recall')\n",
    "\taxs[0, 1].set_ylim([0, 1])\n",
    "\tadd_value_labels(axs[0, 1])\n",
    "\n",
    "\t# Plotting F1 Score\n",
    "\taxs[1, 0].bar(subjects_names, all_interpersonal_f1_list, color='g', width=bar_width)\n",
    "\taxs[1, 0].set_title(f'Interpersonal F1 Score (Overall F1 Score = {round(np.mean(all_interpersonal_f1_list), 3)})')\n",
    "\taxs[1, 0].set_xlabel('Subjects')\n",
    "\taxs[1, 0].set_ylabel('F1 Score')\n",
    "\taxs[1, 0].set_ylim([0, 1])\n",
    "\tadd_value_labels(axs[1, 0])\n",
    "\n",
    "\t# Plotting Micro F1 Score\n",
    "\taxs[1, 1].bar(subjects_names, all_interpersonal_f1_micro_list, color='c', width=bar_width)\n",
    "\taxs[1, 1].set_title(\n",
    "\t\tf'Interpersonal F1 Micro Score (Overall F1 Micro Score = {round(np.mean(all_interpersonal_f1_micro_list), 3)})')\n",
    "\taxs[1, 1].set_xlabel('Subjects')\n",
    "\taxs[1, 1].set_ylabel('F1 Micro Score')\n",
    "\taxs[1, 1].set_ylim([0, 1])\n",
    "\tadd_value_labels(axs[1, 1])\n",
    "\n",
    "\t# Improve layout and save the figure\n",
    "\tplt.tight_layout(rect=[0, 0.03, 1, 0.95])\n",
    "\tplt.savefig(\"results_figures/Interpersonal metrics bars.png\")\n",
    "\tplt.show()"
   ],
   "id": "8fd449b6e0ddb120",
   "outputs": [],
   "execution_count": null
  },
  {
   "metadata": {},
   "cell_type": "code",
   "source": [
    "# Check if GPU is available\n",
    "if tf.test.gpu_device_name():\n",
    "\tprint('Default GPU Device: {}'.format(tf.test.gpu_device_name()))\n",
    "else:\n",
    "\tprint(\"Please install GPU version of TF\")\n",
    "\n",
    "# List physical GPU devices\n",
    "print(\"Physical GPU devices:\", tf.config.experimental.list_physical_devices('GPU'))"
   ],
   "id": "6f9ae9b8682270f7",
   "outputs": [],
   "execution_count": null
  },
  {
   "metadata": {},
   "cell_type": "markdown",
   "source": "### Model Definition",
   "id": "c8a7081f7b9e9281"
  },
  {
   "cell_type": "code",
   "source": [
    "# Hyperparameters\n",
    "note = \"Add a note if you want to group in wandb the results of this test run\"\n",
    "epochs = 200 # For an full performance test\n",
    "# epochs = 2 # For quick  testing\n",
    "\n",
    "lr = 0.01\n",
    "scheduler = ReduceLROnPlateau(factor=0.1, patience=15, min_lr=0.0001)  # Adjust patience as needed!!!!!!!\n",
    "\n",
    "## CNN Layer 1\n",
    "cnn_1 = [32, 5, 1]  # number_filters,kernel_size and strides\n",
    "cnn_1_dropout = 0  # Dropout %\n",
    "cnn_1_maxpooling = [2, 2]  # pool_size and strides\n",
    "\n",
    "## CNN Layer 2\n",
    "cnn_2 = [64, 7, 1]  # number_filters,kernel_size and strides\n",
    "cnn_2_dropout = 0  # Dropout %\n",
    "cnn_2_maxpooling = [2, 2]  # pool_size and strides\n",
    "\n",
    "## CNN Layer 3\n",
    "cnn_3 = [96, 9, 1]  # number_filters,kernel_size and strides\n",
    "cnn_3_dropout = 0  # Dropout %\n",
    "cnn_3_maxpooling = [2, 2]  # pool_size and strides\n",
    "\n",
    "# Dense 1\n",
    "dense_1 = 50  # nodes ->50\n",
    "dense_1_dropout = 0.15  # Dropout %\n",
    "\n",
    "# LSTM\n",
    "lstm = 30  # lstm blocks ->30\n",
    "lstm_dropout = 0.15  # Dropout %\n",
    "\n",
    "# Dense 2\n",
    "dense_2 = 15  # nodes ->15\n",
    "dense_2_dropout = 0.15  # Dropout %\n",
    "\n",
    "def model_creation():\n",
    "\t# Definition\n",
    "\tmodel = Sequential()\n",
    "\tmodel.add(InputLayer((window, 1)))  # InputLayer(BURST_WINDOW, N_CHANNELS)\n",
    "\n",
    "\t# CNN LAYER 1 (Conv1D + Leaky_ReLU + MaxPooling + Dropout)\n",
    "\tmodel.add(Conv1D(filters=cnn_1[0], kernel_size=cnn_1[1], strides=cnn_1[2], padding='same',\n",
    "\t                 name='cnn_layer_1'))\n",
    "\tmodel.add(LeakyReLU(alpha=0.1))\n",
    "\tmodel.add(MaxPooling1D(pool_size=cnn_1_maxpooling[0], strides=cnn_1_maxpooling[1], padding='same'))\n",
    "\t# model.add(Dropout(cnn_1_dropout))\n",
    "\n",
    "\t# CNN LAYER 2 (Conv1D + Leaky_ReLU + MaxPooling + Dropout)\n",
    "\tmodel.add(\n",
    "\t\tConv1D(filters=cnn_2[0], kernel_size=cnn_2[1], strides=cnn_2[2], padding='same', name='cnn_layer_2'))\n",
    "\tmodel.add(LeakyReLU(alpha=0.1))\n",
    "\tmodel.add(MaxPooling1D(pool_size=cnn_2_maxpooling[0], strides=cnn_2_maxpooling[1], padding='same'))\n",
    "\t# model.add(Dropout(cnn_2_dropout))\n",
    "\n",
    "\t# CNN LAYER 3 (Conv1D + LeakyReLU + MaxPooling + Dropout)\n",
    "\tmodel.add(\n",
    "\t\tConv1D(filters=cnn_3[0], kernel_size=cnn_3[1], strides=cnn_3[2], padding='same', name='cnn_layer_3'))\n",
    "\tmodel.add(LeakyReLU(alpha=0.1))\n",
    "\tmodel.add(MaxPooling1D(pool_size=cnn_3_maxpooling[0], strides=cnn_3_maxpooling[1], padding='same'))\n",
    "\t# model.add(Dropout(cnn_3_dropout))\n",
    "\n",
    "\t# Global Average Pooling\n",
    "\tmodel.add(GlobalAveragePooling1D())\n",
    "\n",
    "\t# Dense 1:  To integrate the Dense Layer 1 effectively after GAP, we reshape the output to make it compatible with\n",
    "\t# the dense layer expectations\n",
    "\tmodel.add(Reshape((1, -1)))\n",
    "\tmodel.add(Dense(dense_1))\n",
    "\tmodel.add(LeakyReLU(alpha=0.1))\n",
    "\tmodel.add(Dropout(dense_1_dropout))\n",
    "\n",
    "\t# LSTM LAYER + Dropout\n",
    "\tmodel.add(LSTM(lstm, dropout=lstm_dropout))\n",
    "\n",
    "\t# Dense 2\n",
    "\tmodel.add(Dense(dense_2))\n",
    "\tmodel.add(LeakyReLU(alpha=0.1))\n",
    "\tmodel.add(Dropout(dense_2_dropout))\n",
    "\n",
    "\t# Softmax\n",
    "\tmodel.add(Dense(7, 'softmax'))  # Softmax\n",
    "\n",
    "\tprint(\"A fresh New Model Created!\")\n",
    "\n",
    "\treturn model"
   ],
   "metadata": {
    "collapsed": false
   },
   "id": "7e1ce08a7df3b743",
   "outputs": [],
   "execution_count": null
  },
  {
   "metadata": {},
   "cell_type": "code",
   "outputs": [],
   "execution_count": null,
   "source": [
    "model1 = model_creation()\n",
    "\n",
    "# Summary\n",
    "model1.summary()"
   ],
   "id": "38d7cdad106dc718"
  },
  {
   "cell_type": "code",
   "source": [
    "# Logging Wandb Parameters\n",
    "wandb.login(key=\"INSERT_YOUR_WAND_ID_KEY_OR_REMOVE_WANDB_CODE\")\n",
    "config = {\"number of muscles\": len(muscles),\n",
    "          \"number of subjects\": len(subjects),\n",
    "          \"LOSOCV\": \"On\",\n",
    "          \"Shuffle\": \"On\",\n",
    "          \"batch_size\": BATCH_SIZE,\n",
    "          \"learning_rate\": lr,\n",
    "          \"epochs\": epochs,\n",
    "          \"scheduler\": \"ReduceLROnPlateau\",\n",
    "          \"optimizer\": \"Adam\",\n",
    "\n",
    "          \"CNN_1\": cnn_1,\n",
    "          \"CNN_1_Activation\": \"LeakyReLU\",\n",
    "          \"CNN_1_Pool\": cnn_1_maxpooling,\n",
    "          \"CNN_1_dropout\": cnn_1_dropout,\n",
    "\n",
    "          \"CNN_2\": cnn_2,\n",
    "          \"CNN_2_Activation\": \"LeakyReLU\",\n",
    "          \"CNN_2_Pool\": cnn_2_maxpooling,\n",
    "          \"CNN_2_dropout\": cnn_2_dropout,\n",
    "\n",
    "          \"CNN_3\": cnn_3,\n",
    "          \"CNN_3_Activation\": \"LeakyReLU\",\n",
    "          \"CNN_3_Pool\": cnn_3_maxpooling,\n",
    "          \"CNN_3_dropout\": cnn_3_dropout,\n",
    "\n",
    "          \"GAP\": \"On\",\n",
    "\n",
    "          \"dense_1\": dense_1,\n",
    "          \"dense_1_dropout\": dense_1_dropout,\n",
    "\n",
    "          \"lstm\": lstm,\n",
    "          \"lstm_dropout\": lstm_dropout,\n",
    "\n",
    "          \"dense_2\": dense_2,\n",
    "          \"dense_2_dropout\": dense_2_dropout}"
   ],
   "metadata": {
    "collapsed": false
   },
   "id": "95ab9b2a04c48592",
   "outputs": [],
   "execution_count": null
  },
  {
   "metadata": {},
   "cell_type": "markdown",
   "source": "### Intrapersonal Training",
   "id": "cbdcacdb559aac9f"
  },
  {
   "metadata": {},
   "cell_type": "code",
   "source": [
    "# Deleting the old directories of the previously trained models\n",
    "clear_and_create_directory(\"model1\")\n",
    "clear_and_create_directory(\"histories\")\n",
    "clear_and_create_directory(\"results_figures\")"
   ],
   "id": "42fed72ce4d6e21d",
   "outputs": [],
   "execution_count": null
  },
  {
   "metadata": {},
   "cell_type": "code",
   "source": [
    "# Initialising Wandb logging\n",
    "wandb.init(project='YOUR_PROJECT_NAME', entity='YOUR_ACCOUNT_NAME', config=config, name=\"Intrapersonal\", group=note)\n",
    "optimizer = Adam(learning_rate=wandb.config.learning_rate)"
   ],
   "id": "6df18b911ab67589",
   "outputs": [],
   "execution_count": null
  },
  {
   "metadata": {},
   "cell_type": "code",
   "source": [
    "model1.compile(loss=categorical_crossentropy, optimizer=optimizer, metrics=['accuracy'])\n",
    "cp = ModelCheckpoint('model1/best_model_epoch_{epoch:02d}_val_acc_{val_accuracy:.4f}.h5', save_best_only=True,\n",
    "                     monitor='val_accuracy', mode='max')"
   ],
   "id": "689bc06bce13a33e",
   "outputs": [],
   "execution_count": null
  },
  {
   "metadata": {},
   "cell_type": "code",
   "source": [
    "# Training the model with the wandb callback\n",
    "# with tf.device(\"/gpu:0\"):\n",
    "history = model1.fit(train_dataset, validation_data=valid_dataset, epochs=wandb.config.epochs,\n",
    "                      callbacks=[cp, scheduler, WandbMetricsLogger(log_freq=5)])\n",
    "\n",
    "# Log the best validation accuracy and loss\n",
    "wandb.log({\"best_val_accuracy\": max(history.history[\"val_accuracy\"]), \"min_val_loss\": min(history.history[\"val_loss\"])})"
   ],
   "id": "fb5104467a5a44eb",
   "outputs": [],
   "execution_count": null
  },
  {
   "metadata": {},
   "cell_type": "code",
   "source": [
    "# ## In case of Keyboard Interrupt\n",
    "# wandb.finish()"
   ],
   "id": "61226f8aa9e7e14d",
   "outputs": [],
   "execution_count": null
  },
  {
   "metadata": {},
   "cell_type": "code",
   "source": [
    "# Retrieve minimum loss and best accuracy\n",
    "min_val_categ_crossentropy = round(min(history.history['val_loss']), 3)\n",
    "best_val_accuracy = round(max(history.history['val_accuracy']), 3) * 100\n",
    "\n",
    "history_name = f'histories/history(val_acc={best_val_accuracy}%,val_categ_crossentropy={min_val_categ_crossentropy})'\n",
    "np.save(history_name + '.npy', history.history)\n",
    "print(f'History (loss and accuracy) for training and validation saved in:\\n-> {history_name}')"
   ],
   "id": "e07f3b733a5b3728",
   "outputs": [],
   "execution_count": null
  },
  {
   "metadata": {},
   "cell_type": "code",
   "source": [
    "## Plotting Loss and Accuracy Metrics over Epochs\n",
    "plotting_loss_and_accuracy_over_epochs(history_name, f'Intrapersonal Loss and Accuracy over Epochs', True)\n",
    "\n",
    "## Serializing Datasets (train and val)\n",
    "x_train, y_train, x_val, y_val = serializing_datasets(train_dataset, valid_dataset)\n",
    "\n",
    "## Metric Functions: Confusion Matrix, Precision, Recall and F-1Scores\n",
    "# Confusion Matrix in Training\n",
    "plot_confusion_matrix(x_train, y_train, 'Greens', f' Intrapersonal Training Confusion Matrix ')\n",
    "# Confusion Matrix in Testing\n",
    "intrapersonal_precision, intrapersonal_recall, intrapersonal_f1, intrapersonal_f1_micro = \\\n",
    "\tplot_confusion_matrix(x_val, y_val, 'Blues', f' Intrapersonal Validation Confusion Matrix ')\n",
    "# Classification Samples\n",
    "display_classification_samples(model1, x_val, y_val, \" Intrapersonal Validation Classification Samples \")\n",
    "# Wrong Classification %\n",
    "plot_wrong_classification_percentages(model1, x_val, y_val,\n",
    "                                      \" Intrapersonal Validation Percentages of Wrongly Classified Muscles \")"
   ],
   "id": "270273bd8ec87ea5",
   "outputs": [],
   "execution_count": null
  },
  {
   "metadata": {},
   "cell_type": "code",
   "source": [
    "# Log the best validation accuracy and loss\n",
    "wandb.log({\"intrapersonal_best_accuracy\": best_val_accuracy,\n",
    "           \"intrapersonal_min_val_loss\": min_val_categ_crossentropy,\n",
    "           # \"intrapersonal_precision\": intrapersonal_precision,\n",
    "           # \"intrapersonal_recall\": intrapersonal_recall,\n",
    "           # \"intrapersonal_f1\": intrapersonal_f1,\n",
    "           \"intrapersonal_f1_micro\": intrapersonal_f1_micro\n",
    "           })\n",
    "wandb.finish()"
   ],
   "id": "72dbc327f0f15e3a",
   "outputs": [],
   "execution_count": null
  },
  {
   "metadata": {},
   "cell_type": "markdown",
   "source": "### Interpersonal Training with Leave-One-Subject-Out Cross-Validation (LOSOCV)",
   "id": "f347efd75869fe80"
  },
  {
   "metadata": {},
   "cell_type": "code",
   "source": [
    "num_subjects = len(all_subjects_loo_data)\n",
    "best_loo_validation_per_subject = []; min_loo_val_loss_per_subject = []\n",
    "all_interpersonal_precision = []; all_interpersonal_recall = []\n",
    "all_interpersonal_f1 = []; all_interpersonal_f1_micro = []\n",
    "all_percentages = []; all_histories = []"
   ],
   "id": "a9094367d62c1de3",
   "outputs": [],
   "execution_count": null
  },
  {
   "metadata": {},
   "cell_type": "code",
   "source": [
    "# LOSOCV Training Loop\n",
    "for loo_subject in range(num_subjects):\n",
    "\tprint(f\"Training with subject_{subjects[loo_subject]} as a validation set\")\n",
    "\n",
    "\t# Deleting the old directories of the previously trained models\n",
    "\tclear_and_create_directory(\"model1\")\n",
    "\tclear_and_create_directory(\"histories\")\n",
    "\n",
    "\t# Initialising Wandb logging\n",
    "\twandb.init(project='YOUR_PROJECT_NAME', entity='YOUR_ACCOUNT_NAME', config=config, name=f\"loo_test_subject_{subjects[loo_subject]}\",\n",
    "\t           group=note)\n",
    "\toptimizer = Adam(learning_rate=wandb.config.learning_rate)\n",
    "\n",
    "\t# Creating a new model\n",
    "\tmodel1 = model_creation()\n",
    "\n",
    "\t# Compiling the model\n",
    "\tmodel1.compile(loss=categorical_crossentropy, optimizer=optimizer, metrics=['accuracy'])\n",
    "\n",
    "\t# Defining checkpoint path correctly with adjusted loo_subject index\n",
    "\tcp = ModelCheckpoint('model1/best_model_epoch_{epoch:02d}_val_acc_{val_accuracy:.4f}.h5', save_best_only=True,\n",
    "\t                     monitor='val_accuracy', mode='max')\n",
    "\n",
    "\t# Prepare training and validation datasets\n",
    "\tloo_valid_dataset = all_subjects_loo_data[loo_subject]\n",
    "\tloo_train_datasets = [d for i, d in enumerate(all_subjects_loo_data) if i != loo_subject]\n",
    "\ttrain_dataset = reduce(lambda x, y: x.concatenate(y), loo_train_datasets).shuffle(buffer_size=34000)  # Shuffle here\n",
    "\n",
    "\t# Train the model with the correct validation dataset\n",
    "\twith tf.device(\"/gpu:0\"):\n",
    "\t\thistory = model1.fit(train_dataset, validation_data=loo_valid_dataset, epochs=wandb.config.epochs,\n",
    "\t\t                     callbacks=[cp, scheduler, WandbMetricsLogger(log_freq=5)])\n",
    "\n",
    "\t# Log the best validation accuracy and loss for each subject\n",
    "\tbest_val_accuracy = round(max(history.history['val_accuracy']), 3) * 100\n",
    "\tmin_val_loss = round(min(history.history['val_loss']), 3)\n",
    "\n",
    "\tprint(f\"Best Validation Accuracy for using Subject_{subjects[loo_subject]} as loo: {best_val_accuracy}%\")\n",
    "\tprint(f\"Minimum Validation Loss for using Subject_{subjects[loo_subject]} as loo: {min_val_loss}\")\n",
    "\n",
    "\tbest_loo_validation_per_subject.append(best_val_accuracy)\n",
    "\tmin_loo_val_loss_per_subject.append(min_val_loss)\n",
    "\n",
    "\t# Saving history\n",
    "\thistory_name = f'histories/history(val_acc={best_val_accuracy}%,val_categ_crossentropy={min_val_loss})_loo_subject_{subjects[loo_subject]}'\n",
    "\tnp.save(history_name + '.npy', history.history)\n",
    "\n",
    "\t## Plotting Loss and Accuracy Metrics over Epochs\n",
    "\tplotting_loss_and_accuracy_over_epochs(history_name,\n",
    "\t                                       f'Subject_{subjects[loo_subject]} Loss and Accuracy over Epochs (Interpersonal with Subject_{subjects[loo_subject]} as loo) ')\n",
    "\n",
    "\t## Metric Functions: Confusion Matrix, Precision, Recall and F-1Scores\n",
    "\t# Serializing Datasets (train and val)\n",
    "\tx_train, y_train, x_val, y_val = serializing_datasets(train_dataset, loo_valid_dataset)\n",
    "\t# Confusion Matrix in Training\n",
    "\tplot_confusion_matrix(x_train, y_train, 'Greens',\n",
    "\t                      f'Subject_{subjects[loo_subject]} Confusion Matrix of Interpersonal LOO Training WITHOUT Subject_{subjects[loo_subject]} ')\n",
    "\t# Confusion Matrix in Testing\n",
    "\tinterpersonal_precision, interpersonal_recall, interpersonal_f1, interpersonal_f1_micro = \\\n",
    "\t\tplot_confusion_matrix(x_val, y_val, 'Blues',\n",
    "\t\t                      f'Subject_{subjects[loo_subject]} Confusion Matrix of Interpersonal LOO_Validation Subject_{subjects[loo_subject]} ')\n",
    "\t# Classification Samples\n",
    "\tdisplay_classification_samples(model1, x_val, y_val,\n",
    "\t                               f'Subject_{subjects[loo_subject]} Classification Samples of Interpersonal LOO_Validation ')\n",
    "\t# Wrong Classification %\n",
    "\tpercentages = plot_wrong_classification_percentages(model1, x_val, y_val,\n",
    "\t                                                    f'Subject_{subjects[loo_subject]} Percentages of Wrongly Classified Muscles in Interpersonal LOO_Validation ')\n",
    "\n",
    "\tall_histories.append(history.history)\n",
    "\n",
    "\t# Log the best validation accuracy and loss\n",
    "\twandb.log({\"interpersonal_best_val_accuracy\": best_val_accuracy,\n",
    "\t           \"interpersonal_min_val_loss\": min_val_loss,\n",
    "\t           # \"interpersonal_precision\": interpersonal_precision,\n",
    "\t           # \"interpersonal_recall\": interpersonal_recall,\n",
    "\t           # \"interpersonal_f1\": interpersonal_f1,\n",
    "\t           \"interpersonal_f1_micro\": interpersonal_f1_micro\n",
    "\t           })\n",
    "\twandb.finish()\n",
    "\n",
    "\tall_interpersonal_precision.append(interpersonal_precision)\n",
    "\tall_interpersonal_recall.append(interpersonal_recall)\n",
    "\tall_interpersonal_f1.append(interpersonal_f1)\n",
    "\tall_interpersonal_f1_micro.append(interpersonal_f1_micro)\n",
    "\tall_percentages.append(percentages)"
   ],
   "id": "e6ab6618ce2adc22",
   "outputs": [],
   "execution_count": null
  },
  {
   "metadata": {},
   "cell_type": "code",
   "source": [
    "# Plotting\n",
    "plot_interpersonal_metrics_bar(all_interpersonal_precision, all_interpersonal_recall, all_interpersonal_f1,\n",
    "                               all_interpersonal_f1_micro)\n",
    "\n",
    "plot_average_wrong_classification_percentages(all_percentages)\n",
    "\n",
    "plot_combined_loss_and_accuracy(all_histories, \"Interpersonal Loss and Accuracy over Epochs\")"
   ],
   "id": "295cafd9c9d75191",
   "outputs": [],
   "execution_count": null
  }
 ],
 "metadata": {
  "kernelspec": {
   "display_name": "Python 3 (ipykernel)",
   "language": "python",
   "name": "python3"
  },
  "language_info": {
   "codemirror_mode": {
    "name": "ipython",
    "version": 3
   },
   "file_extension": ".py",
   "mimetype": "text/x-python",
   "name": "python",
   "nbconvert_exporter": "python",
   "pygments_lexer": "ipython3",
   "version": "3.11.5"
  }
 },
 "nbformat": 4,
 "nbformat_minor": 5
}
